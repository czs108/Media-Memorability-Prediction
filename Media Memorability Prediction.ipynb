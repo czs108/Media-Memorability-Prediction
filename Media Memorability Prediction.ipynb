{
 "cells": [
  {
   "cell_type": "markdown",
   "id": "effective-psychiatry",
   "metadata": {},
   "source": [
    "# Media Memorability Prediction"
   ]
  },
  {
   "cell_type": "markdown",
   "id": "raised-blocking",
   "metadata": {},
   "source": [
    "## About the Project\n",
    "\n",
    "[*Predicting Media Memorability*](http://www.multimediaeval.org/mediaeval2018/memorability/index.html) task is proposed as part of the [*MediaEval 2018 Benchmarking Initiative for Multimedia Evaluation*](http://www.multimediaeval.org/mediaeval2018). The purpose of this task is the automatic prediction of multimedia content memorability. Understanding what makes a content memorable has a very broad range of current applications. Efficient memorability prediction models will also push forward the semantic understanding of multimedia content, by putting human perceptions through memorability in the center of the scene understanding.\n",
    "\n",
    "For the task, participants will be provided with extensive datasets of multimedia content associated with memorability annotations, and with pre-extracted state-of-the-art audio-visual features. The corresponding ground truth consists of objective measures of memory performance and had been collected through recognition tests. Participants will be required to train computational models capable to infer multimedia content memorability from features of their choice. Models will be evaluated through standard evaluation metrics."
   ]
  },
  {
   "cell_type": "markdown",
   "id": "after-president",
   "metadata": {},
   "source": [
    "## License\n",
    "\n",
    "Distributed under the *GNU General Public License*. See `LICENSE` for more information."
   ]
  },
  {
   "cell_type": "markdown",
   "id": "developing-percentage",
   "metadata": {},
   "source": [
    "## Contact\n",
    "\n",
    "***GitHub***: https://github.com/czs108\n",
    "\n",
    "***E-Mail***: chenzs108@outlook.com\n",
    "\n",
    "***WeChat***: chenzs108"
   ]
  },
  {
   "attachments": {},
   "cell_type": "markdown",
   "id": "catholic-tattoo",
   "metadata": {},
   "source": [
    "## Dependences\n",
    "\n",
    "- [*scikit-learn*](https://scikit-learn.org/stable)\n",
    "- [*pandas*](https://pandas.pydata.org)\n",
    "- [*Matplotlib*](https://matplotlib.org)\n",
    "- [*NumPy*](https://numpy.org)"
   ]
  },
  {
   "cell_type": "code",
   "execution_count": 1,
   "id": "disabled-intro",
   "metadata": {},
   "outputs": [],
   "source": [
    "from typing import TYPE_CHECKING\n",
    "from pathlib import Path, PurePath\n",
    "from enum import Enum, auto\n",
    "from functools import singledispatch\n",
    "import re\n",
    "\n",
    "from matplotlib import pyplot as plt\n",
    "from sklearn.metrics import make_scorer\n",
    "from sklearn.pipeline import make_pipeline\n",
    "from sklearn.model_selection import cross_val_score\n",
    "from sklearn.decomposition import PCA\n",
    "from sklearn.preprocessing import StandardScaler\n",
    "from sklearn.linear_model import LinearRegression\n",
    "from sklearn.svm import SVR\n",
    "from sklearn.neighbors import KNeighborsRegressor\n",
    "from sklearn.ensemble import RandomForestRegressor\n",
    "from sklearn.ensemble import AdaBoostRegressor\n",
    "\n",
    "import pandas as pd\n",
    "import numpy as np\n",
    "\n",
    "if TYPE_CHECKING:\n",
    "    from sklearn.base import Predictor\n",
    "    from sklearn.pipeline import Pipeline\n",
    "    from collections.abc import Callable, Sequence"
   ]
  },
  {
   "cell_type": "markdown",
   "id": "medium-dialogue",
   "metadata": {},
   "source": [
    "## Dataset\n",
    "\n",
    "The full development set consists of *8000* videos, together with their corresponding *short-term* and *long-term* memorability scores."
   ]
  },
  {
   "cell_type": "markdown",
   "id": "future-tyler",
   "metadata": {},
   "source": [
    "### Videos\n",
    "\n",
    "Videos were extracted from raw footage used by professionals when creating content. They are varied and contain different scenes types. All videos are released in `.webm` format, with a bit rate of *3000 kbps*. They are provided as individual files, named:\n",
    "\n",
    "```\n",
    "video<Nb>.webm\n",
    "```\n",
    "\n",
    "`<Nb>` is the number of a video."
   ]
  },
  {
   "cell_type": "code",
   "execution_count": 2,
   "id": "august-prophet",
   "metadata": {},
   "outputs": [],
   "source": [
    "\"\"\"\n",
    "Paths\n",
    "\"\"\"\n",
    "# The data path.\n",
    "data_dir = Path(\"data\")\n",
    "# The training path.\n",
    "dev_dir = data_dir.joinpath(\"dev-set\")\n",
    "# The test path.\n",
    "test_dir = data_dir.joinpath(\"test-set\")\n",
    "\n",
    "# The extraction path.\n",
    "extract_dir = Path(\"extract\")\n",
    "if not extract_dir.exists():\n",
    "    extract_dir.mkdir()\n",
    "\n",
    "# The statistic path.\n",
    "stats_dir = Path(\"stats\")\n",
    "if not stats_dir.exists():\n",
    "    stats_dir.mkdir()"
   ]
  },
  {
   "cell_type": "markdown",
   "id": "agreed-platinum",
   "metadata": {},
   "source": [
    "## Evaluation\n",
    "\n",
    "The official evaluation metric will be the *Spearman*'s rank correlation between the predicted memorability scores and the ground-truth memorability scores computed over all test videos."
   ]
  },
  {
   "cell_type": "code",
   "execution_count": 3,
   "id": "mexican-battery",
   "metadata": {},
   "outputs": [],
   "source": [
    "# Short-term and long-term.\n",
    "class Term(Enum):\n",
    "    SHORT = auto()\n",
    "    LONG= auto()\n",
    "\n",
    "class Score:\n",
    "    @staticmethod\n",
    "    def calc(true: np.ndarray, pred: np.ndarray) -> float:\n",
    "        \"\"\"\n",
    "        Calculate the Spearman's correlation coefficient.\n",
    "\n",
    "        -- PARAMETERS --\n",
    "        true: The true values.\n",
    "        pred: The prediction values.\n",
    "\n",
    "        -- RETURNS --\n",
    "        The Spearman's correlation coefficient.\n",
    "        \"\"\"\n",
    "        pred = np.squeeze(pred)\n",
    "        true = np.squeeze(true)\n",
    "        res = pd.DataFrame({\"true\": true, \"pred\": pred})\n",
    "        score_mat = res[[\"true\", \"pred\"]].corr(method=\"spearman\", min_periods=1)\n",
    "        return score_mat.iloc[1][0]\n",
    "\n",
    "    @singledispatch\n",
    "    def display(score: float | int | np.ndarray | list, term: Term) -> None:\n",
    "        assert False, \"Invalid Type\"\n",
    "\n",
    "    @display.register(float)\n",
    "    @display.register(int)\n",
    "    def _(score: float | int, term: Term) -> None:\n",
    "        \"\"\"\n",
    "        Display a Spearman's correlation coefficient.\n",
    "\n",
    "        -- PARAMETERS --\n",
    "        score: A Spearman's correlation coefficient.\n",
    "        term: Short-term or long-term.\n",
    "        \"\"\"\n",
    "        print(f\"The Spearman's correlation coefficient for {term.name}-term is: {round(score, 3)}\")\n",
    "\n",
    "    @display.register(list)\n",
    "    def _(scores: list, term: Term) -> None:\n",
    "        Score.display(np.array(scores), term)\n",
    "\n",
    "    @display.register(np.ndarray)\n",
    "    def _(scores: np.ndarray, term: Term) -> None:\n",
    "        \"\"\"\n",
    "        Display the mean and standard deviation of an array of Spearman's correlation coefficients.\n",
    "\n",
    "        -- PARAMETERS --\n",
    "        scores: An array of correlation coefficients.\n",
    "        term: Short-term or long-term.\n",
    "        \"\"\"\n",
    "        print(f\"The Spearman's correlation coefficient for {term.name}-term:\")\n",
    "        print(f\"Mean: {round(scores.mean(), 3)}\")\n",
    "        print(f\"Standard Deviation: {round(scores.std(), 3)}\")"
   ]
  },
  {
   "cell_type": "markdown",
   "id": "advisory-murder",
   "metadata": {},
   "source": [
    "Create a scorer callable with the [`make_scorer`](https://scikit-learn.org/stable/modules/generated/sklearn.metrics.make_scorer.html) method for cross-validation."
   ]
  },
  {
   "cell_type": "code",
   "execution_count": 4,
   "id": "antique-hello",
   "metadata": {},
   "outputs": [],
   "source": [
    "# Create a scorer callable for cross-validation.\n",
    "scorer = make_scorer(Score.calc)"
   ]
  },
  {
   "cell_type": "markdown",
   "id": "linear-audit",
   "metadata": {},
   "source": [
    "Only consider the following models in the project:\n",
    "\n",
    "- *Linear Regression*\n",
    "- *K-Nearest Neighbors Regression*\n",
    "- *Support Vector Regression*\n",
    "- *Random Forest Regression*\n",
    "- *AdaBoost Regression*"
   ]
  },
  {
   "cell_type": "code",
   "execution_count": 5,
   "id": "sought-richmond",
   "metadata": {},
   "outputs": [],
   "source": [
    "\"\"\"\n",
    "Model Names\n",
    "\"\"\"\n",
    "# Linear Regression\n",
    "LN = \"Linear\"\n",
    "# K-Nearest Neighbors Regression\n",
    "KNN = \"K-Nearest\"\n",
    "# Support Vector Regression\n",
    "SV = \"Support Vector\"\n",
    "# Random Forest Regression\n",
    "RF = \"Random Forest\"\n",
    "# AdaBoost Regression\n",
    "AB = \"AdaBoost\""
   ]
  },
  {
   "cell_type": "markdown",
   "id": "vanilla-arabic",
   "metadata": {},
   "source": [
    "Use two [`DataFrame`](\"https://pandas.pydata.org/pandas-docs/stable/reference/api/pandas.DataFrame.html\") to save all tests' scores."
   ]
  },
  {
   "cell_type": "code",
   "execution_count": 6,
   "id": "charming-reasoning",
   "metadata": {},
   "outputs": [],
   "source": [
    "class ScoreStats:\n",
    "    def __init__(self, short_csv: str, long_csv: str) -> None:\n",
    "        \"\"\"\n",
    "        Load or create new score dataframes.\n",
    "        \"\"\"\n",
    "        self._short_path: Path = stats_dir.joinpath(short_csv)\n",
    "        self._long_path: Path = stats_dir.joinpath(long_csv)\n",
    "\n",
    "        # Use two datadrames to save all tests' scores.\n",
    "        if self._short_path.exists():\n",
    "            self.short: pd.DataFrame = pd.read_csv(self._short_path).set_index([\"feature\", \"score\"])\n",
    "        else:\n",
    "            self.short: pd.DataFrame = pd.DataFrame(columns=[LN, KNN, SV, RF, AB], index=pd.MultiIndex.from_product([[], []], names=[\"feature\", \"score\"]))\n",
    "        if self._long_path.exists():\n",
    "            self.long: pd.DataFrame = pd.read_csv(self._long_path).set_index([\"feature\", \"score\"])\n",
    "        else:\n",
    "            self.long: pd.DataFrame = pd.DataFrame(columns=[LN, KNN, SV, RF, AB], index=pd.MultiIndex.from_product([[], []], names=[\"feature\", \"score\"]))\n",
    "\n",
    "    def __getitem__(self, term: Term):\n",
    "        return self.short if term == Term.SHORT else self.long\n",
    "\n",
    "    def save(self) -> None:\n",
    "        \"\"\"\n",
    "        Save scores to `.csv` files.\n",
    "        \"\"\"\n",
    "        self.short.to_csv(self._short_path)\n",
    "        self.long.to_csv(self._long_path)"
   ]
  },
  {
   "cell_type": "code",
   "execution_count": 7,
   "id": "exotic-meaning",
   "metadata": {},
   "outputs": [],
   "source": [
    "score_stats = ScoreStats(\"short_scores.csv\", \"long_scores.csv\")"
   ]
  },
  {
   "cell_type": "markdown",
   "id": "interpreted-spread",
   "metadata": {},
   "source": [
    "### Loading Ground Truth\n",
    "\n",
    "The corresponding ground truth for the development set can be found in the file `dev-set/ground-truth.csv`. It contains one line per video, which consists of:\n",
    "\n",
    "- The video's name.\n",
    "- Its *short-term* memorability score.\n",
    "- The number of annotations that was used to calculate the *short-term* memorability score.\n",
    "- Its *long-term* memorability score.\n",
    "- The number of annotations that was used to calculate the *long-term* memorability score.\n",
    "\n",
    "Example:\n",
    "\n",
    "```\n",
    "video10.webm, 0.950, 34, 0.900, 10\n",
    "```"
   ]
  },
  {
   "cell_type": "code",
   "execution_count": 8,
   "id": "oriental-senator",
   "metadata": {},
   "outputs": [
    {
     "data": {
      "text/html": [
       "<div>\n",
       "<style scoped>\n",
       "    .dataframe tbody tr th:only-of-type {\n",
       "        vertical-align: middle;\n",
       "    }\n",
       "\n",
       "    .dataframe tbody tr th {\n",
       "        vertical-align: top;\n",
       "    }\n",
       "\n",
       "    .dataframe thead th {\n",
       "        text-align: right;\n",
       "    }\n",
       "</style>\n",
       "<table border=\"1\" class=\"dataframe\">\n",
       "  <thead>\n",
       "    <tr style=\"text-align: right;\">\n",
       "      <th></th>\n",
       "      <th>video</th>\n",
       "      <th>short-term_memorability</th>\n",
       "      <th>nb_short-term_annotations</th>\n",
       "      <th>long-term_memorability</th>\n",
       "      <th>nb_long-term_annotations</th>\n",
       "    </tr>\n",
       "  </thead>\n",
       "  <tbody>\n",
       "    <tr>\n",
       "      <th>0</th>\n",
       "      <td>video3.webm</td>\n",
       "      <td>0.924</td>\n",
       "      <td>34</td>\n",
       "      <td>0.846</td>\n",
       "      <td>13</td>\n",
       "    </tr>\n",
       "    <tr>\n",
       "      <th>1</th>\n",
       "      <td>video4.webm</td>\n",
       "      <td>0.923</td>\n",
       "      <td>33</td>\n",
       "      <td>0.667</td>\n",
       "      <td>12</td>\n",
       "    </tr>\n",
       "    <tr>\n",
       "      <th>2</th>\n",
       "      <td>video6.webm</td>\n",
       "      <td>0.863</td>\n",
       "      <td>33</td>\n",
       "      <td>0.700</td>\n",
       "      <td>10</td>\n",
       "    </tr>\n",
       "    <tr>\n",
       "      <th>3</th>\n",
       "      <td>video8.webm</td>\n",
       "      <td>0.922</td>\n",
       "      <td>33</td>\n",
       "      <td>0.818</td>\n",
       "      <td>11</td>\n",
       "    </tr>\n",
       "    <tr>\n",
       "      <th>4</th>\n",
       "      <td>video10.webm</td>\n",
       "      <td>0.950</td>\n",
       "      <td>34</td>\n",
       "      <td>0.900</td>\n",
       "      <td>10</td>\n",
       "    </tr>\n",
       "  </tbody>\n",
       "</table>\n",
       "</div>"
      ],
      "text/plain": [
       "          video  short-term_memorability  nb_short-term_annotations  \\\n",
       "0   video3.webm                    0.924                         34   \n",
       "1   video4.webm                    0.923                         33   \n",
       "2   video6.webm                    0.863                         33   \n",
       "3   video8.webm                    0.922                         33   \n",
       "4  video10.webm                    0.950                         34   \n",
       "\n",
       "   long-term_memorability  nb_long-term_annotations  \n",
       "0                   0.846                        13  \n",
       "1                   0.667                        12  \n",
       "2                   0.700                        10  \n",
       "3                   0.818                        11  \n",
       "4                   0.900                        10  "
      ]
     },
     "execution_count": 8,
     "metadata": {},
     "output_type": "execute_result"
    }
   ],
   "source": [
    "grd_truth = pd.read_csv(dev_dir.joinpath(\"ground-truth.csv\"))\n",
    "\n",
    "grd_truth.head()"
   ]
  },
  {
   "cell_type": "markdown",
   "id": "entire-happiness",
   "metadata": {},
   "source": [
    "## Data Preprocessing"
   ]
  },
  {
   "cell_type": "code",
   "execution_count": 9,
   "id": "common-difficulty",
   "metadata": {},
   "outputs": [],
   "source": [
    "class Identify:\n",
    "    @staticmethod\n",
    "    def id(filename: PurePath) -> int:\n",
    "        \"\"\"\n",
    "        Get the video's ID from a feature file's name.\n",
    "        \"\"\"\n",
    "        return int(re.search(\"video([0-9]+)\", filename.stem).group(1))\n",
    "\n",
    "    @staticmethod\n",
    "    def frame(filename: PurePath) -> int:\n",
    "        \"\"\"\n",
    "        Get the frame number from a feature file's name.\n",
    "        \"\"\"\n",
    "        ret = re.search(\"video[0-9]+-([0-9]+)\", filename.stem)\n",
    "        return int(ret.group(1)) if ret else -1"
   ]
  },
  {
   "cell_type": "markdown",
   "id": "continuing-yellow",
   "metadata": {},
   "source": [
    "Reorder the ground truth by the video's ID and delete unnecessary columns."
   ]
  },
  {
   "cell_type": "code",
   "execution_count": 10,
   "id": "bibliographic-yorkshire",
   "metadata": {},
   "outputs": [
    {
     "data": {
      "text/html": [
       "<div>\n",
       "<style scoped>\n",
       "    .dataframe tbody tr th:only-of-type {\n",
       "        vertical-align: middle;\n",
       "    }\n",
       "\n",
       "    .dataframe tbody tr th {\n",
       "        vertical-align: top;\n",
       "    }\n",
       "\n",
       "    .dataframe thead th {\n",
       "        text-align: right;\n",
       "    }\n",
       "</style>\n",
       "<table border=\"1\" class=\"dataframe\">\n",
       "  <thead>\n",
       "    <tr style=\"text-align: right;\">\n",
       "      <th></th>\n",
       "      <th>video</th>\n",
       "      <th>short-term_memorability</th>\n",
       "      <th>long-term_memorability</th>\n",
       "    </tr>\n",
       "    <tr>\n",
       "      <th>id</th>\n",
       "      <th></th>\n",
       "      <th></th>\n",
       "      <th></th>\n",
       "    </tr>\n",
       "  </thead>\n",
       "  <tbody>\n",
       "    <tr>\n",
       "      <th>3</th>\n",
       "      <td>video3.webm</td>\n",
       "      <td>0.924</td>\n",
       "      <td>0.846</td>\n",
       "    </tr>\n",
       "    <tr>\n",
       "      <th>4</th>\n",
       "      <td>video4.webm</td>\n",
       "      <td>0.923</td>\n",
       "      <td>0.667</td>\n",
       "    </tr>\n",
       "    <tr>\n",
       "      <th>6</th>\n",
       "      <td>video6.webm</td>\n",
       "      <td>0.863</td>\n",
       "      <td>0.700</td>\n",
       "    </tr>\n",
       "    <tr>\n",
       "      <th>8</th>\n",
       "      <td>video8.webm</td>\n",
       "      <td>0.922</td>\n",
       "      <td>0.818</td>\n",
       "    </tr>\n",
       "    <tr>\n",
       "      <th>10</th>\n",
       "      <td>video10.webm</td>\n",
       "      <td>0.950</td>\n",
       "      <td>0.900</td>\n",
       "    </tr>\n",
       "  </tbody>\n",
       "</table>\n",
       "</div>"
      ],
      "text/plain": [
       "           video  short-term_memorability  long-term_memorability\n",
       "id                                                               \n",
       "3    video3.webm                    0.924                   0.846\n",
       "4    video4.webm                    0.923                   0.667\n",
       "6    video6.webm                    0.863                   0.700\n",
       "8    video8.webm                    0.922                   0.818\n",
       "10  video10.webm                    0.950                   0.900"
      ]
     },
     "execution_count": 10,
     "metadata": {},
     "output_type": "execute_result"
    }
   ],
   "source": [
    "grd_truth[\"id\"] = grd_truth[\"video\"].apply(lambda x: Identify.id(PurePath(x)))\n",
    "grd_truth.set_index(\"id\", inplace=True)\n",
    "grd_truth.drop(labels=[\"nb_short-term_annotations\",\"nb_long-term_annotations\"], axis=\"columns\", inplace=True)\n",
    "grd_truth.sort_values(by=\"id\", inplace=True)\n",
    "\n",
    "grd_truth.head()"
   ]
  },
  {
   "cell_type": "code",
   "execution_count": 11,
   "id": "normal-priority",
   "metadata": {},
   "outputs": [
    {
     "data": {
      "text/html": [
       "<div>\n",
       "<style scoped>\n",
       "    .dataframe tbody tr th:only-of-type {\n",
       "        vertical-align: middle;\n",
       "    }\n",
       "\n",
       "    .dataframe tbody tr th {\n",
       "        vertical-align: top;\n",
       "    }\n",
       "\n",
       "    .dataframe thead th {\n",
       "        text-align: right;\n",
       "    }\n",
       "</style>\n",
       "<table border=\"1\" class=\"dataframe\">\n",
       "  <thead>\n",
       "    <tr style=\"text-align: right;\">\n",
       "      <th></th>\n",
       "      <th>short-term_memorability</th>\n",
       "      <th>long-term_memorability</th>\n",
       "    </tr>\n",
       "  </thead>\n",
       "  <tbody>\n",
       "    <tr>\n",
       "      <th>count</th>\n",
       "      <td>6000.000000</td>\n",
       "      <td>6000.000000</td>\n",
       "    </tr>\n",
       "    <tr>\n",
       "      <th>mean</th>\n",
       "      <td>0.860243</td>\n",
       "      <td>0.778941</td>\n",
       "    </tr>\n",
       "    <tr>\n",
       "      <th>std</th>\n",
       "      <td>0.080655</td>\n",
       "      <td>0.144692</td>\n",
       "    </tr>\n",
       "    <tr>\n",
       "      <th>min</th>\n",
       "      <td>0.388000</td>\n",
       "      <td>0.000000</td>\n",
       "    </tr>\n",
       "    <tr>\n",
       "      <th>25%</th>\n",
       "      <td>0.811000</td>\n",
       "      <td>0.700000</td>\n",
       "    </tr>\n",
       "    <tr>\n",
       "      <th>50%</th>\n",
       "      <td>0.867000</td>\n",
       "      <td>0.800000</td>\n",
       "    </tr>\n",
       "    <tr>\n",
       "      <th>75%</th>\n",
       "      <td>0.923000</td>\n",
       "      <td>0.900000</td>\n",
       "    </tr>\n",
       "    <tr>\n",
       "      <th>max</th>\n",
       "      <td>0.989000</td>\n",
       "      <td>1.000000</td>\n",
       "    </tr>\n",
       "  </tbody>\n",
       "</table>\n",
       "</div>"
      ],
      "text/plain": [
       "       short-term_memorability  long-term_memorability\n",
       "count              6000.000000             6000.000000\n",
       "mean                  0.860243                0.778941\n",
       "std                   0.080655                0.144692\n",
       "min                   0.388000                0.000000\n",
       "25%                   0.811000                0.700000\n",
       "50%                   0.867000                0.800000\n",
       "75%                   0.923000                0.900000\n",
       "max                   0.989000                1.000000"
      ]
     },
     "execution_count": 11,
     "metadata": {},
     "output_type": "execute_result"
    }
   ],
   "source": [
    "grd_truth[[\"short-term_memorability\", \"long-term_memorability\"]].describe()"
   ]
  },
  {
   "cell_type": "code",
   "execution_count": 12,
   "id": "guided-polls",
   "metadata": {},
   "outputs": [
    {
     "data": {
      "text/plain": [
       "<AxesSubplot:title={'center':'The Density of Memorability for the Development Set'}, ylabel='Density'>"
      ]
     },
     "execution_count": 12,
     "metadata": {},
     "output_type": "execute_result"
    },
    {
     "data": {
      "image/png": "[encoded data removed]",
      "text/plain": [
       "<Figure size 432x288 with 1 Axes>"
      ]
     },
     "metadata": {
      "needs_background": "light"
     },
     "output_type": "display_data"
    }
   ],
   "source": [
    "grd_truth[[\"short-term_memorability\", \"long-term_memorability\"]].plot.kde(title=\"The Density of Memorability for the Development Set\")"
   ]
  },
  {
   "cell_type": "code",
   "execution_count": 13,
   "id": "beautiful-minneapolis",
   "metadata": {},
   "outputs": [
    {
     "data": {
      "text/html": [
       "<div>\n",
       "<style scoped>\n",
       "    .dataframe tbody tr th:only-of-type {\n",
       "        vertical-align: middle;\n",
       "    }\n",
       "\n",
       "    .dataframe tbody tr th {\n",
       "        vertical-align: top;\n",
       "    }\n",
       "\n",
       "    .dataframe thead th {\n",
       "        text-align: right;\n",
       "    }\n",
       "</style>\n",
       "<table border=\"1\" class=\"dataframe\">\n",
       "  <thead>\n",
       "    <tr style=\"text-align: right;\">\n",
       "      <th></th>\n",
       "      <th>short-term_memorability</th>\n",
       "    </tr>\n",
       "    <tr>\n",
       "      <th>id</th>\n",
       "      <th></th>\n",
       "    </tr>\n",
       "  </thead>\n",
       "  <tbody>\n",
       "    <tr>\n",
       "      <th>3</th>\n",
       "      <td>0.924</td>\n",
       "    </tr>\n",
       "    <tr>\n",
       "      <th>4</th>\n",
       "      <td>0.923</td>\n",
       "    </tr>\n",
       "    <tr>\n",
       "      <th>6</th>\n",
       "      <td>0.863</td>\n",
       "    </tr>\n",
       "    <tr>\n",
       "      <th>8</th>\n",
       "      <td>0.922</td>\n",
       "    </tr>\n",
       "    <tr>\n",
       "      <th>10</th>\n",
       "      <td>0.950</td>\n",
       "    </tr>\n",
       "  </tbody>\n",
       "</table>\n",
       "</div>"
      ],
      "text/plain": [
       "    short-term_memorability\n",
       "id                         \n",
       "3                     0.924\n",
       "4                     0.923\n",
       "6                     0.863\n",
       "8                     0.922\n",
       "10                    0.950"
      ]
     },
     "execution_count": 13,
     "metadata": {},
     "output_type": "execute_result"
    }
   ],
   "source": [
    "short_y = grd_truth[[\"short-term_memorability\"]]\n",
    "long_y = grd_truth[[\"long-term_memorability\"]]\n",
    "\n",
    "assert (short_y.index == long_y.index).all()\n",
    "short_y.head()"
   ]
  },
  {
   "cell_type": "markdown",
   "id": "incomplete-drain",
   "metadata": {},
   "source": [
    "### Feature Loaders"
   ]
  },
  {
   "cell_type": "markdown",
   "id": "center-crime",
   "metadata": {},
   "source": [
    "A set of pre-extracted visual features are provided to the participants to the task. Precomputed features are organized in different folders, one per feature.\n",
    "\n",
    "This project only uses three features to train models. For the following two features, there is only one file for each video.\n",
    "\n",
    "- *C3D*\n",
    "\n",
    "  |    Item     | Description                                                  |\n",
    "  | :---------: | :----------------------------------------------------------- |\n",
    "  |   Outputs   | The final classification layer of the *3D Convolutional Neural Networks*. |\n",
    "  | File Format | `.txt` file.                                                 |\n",
    "  |   Feature   | A single list of numbers on one line, the dimension is *101*. |\n",
    "\n",
    "- *HMP*\n",
    "\n",
    "  |    Item     | Description                                                  |\n",
    "  | :---------: | :----------------------------------------------------------- |\n",
    "  |   Outputs   | *Histogram of Motion Patterns*.                              |\n",
    "  | File Format | `.txt` file.                                                 |\n",
    "  |   Feature   | A single list of pairs of numbers with format `bin:number` on one line, the dimension is *6075*. |\n",
    "\n",
    "The next feature was extracted on three key-frames, the *first* (*0*), *one-third* (*56*) and *two-thirds* (*112*), on each video. So there are three files for each video, with names `video<Nb>-0.txt`, `video<Nb>-56.txt` and `video<Nb>-112.txt`.\n",
    "\n",
    "- *LBP*\n",
    "\n",
    "  |    Item     | Description                                                  |\n",
    "  | :---------: | :----------------------------------------------------------- |\n",
    "  |   Outputs   | *Local Binary Patterns*, calculated for patches of *8* × *15* pixels. |\n",
    "  | File Format | `.txt` file.                                                 |\n",
    "  |   Feature   | A single list of numbers on one line, the dimension depends on the image size. |"
   ]
  },
  {
   "cell_type": "code",
   "execution_count": 14,
   "id": "differential-description",
   "metadata": {},
   "outputs": [],
   "source": [
    "\"\"\"\n",
    "Feature Names\n",
    "\"\"\"\n",
    "# 3D Convolutional Neural Network\n",
    "C3D = \"C3D\"\n",
    "# Histogram of Motion Patterns\n",
    "HMP = \"HMP\"\n",
    "# Local Binary Patterns\n",
    "LBP = \"LBP\"\n",
    "\n",
    "\"\"\"\n",
    "Feature Lengths\n",
    "\"\"\"\n",
    "HMP_LEN = 6075\n",
    "C3D_LEN = 101\n",
    "LBP_LEN = 122 # 122 is the largest LBP dimension in the training set."
   ]
  },
  {
   "cell_type": "code",
   "execution_count": 15,
   "id": "willing-clause",
   "metadata": {},
   "outputs": [],
   "source": [
    "class Read:\n",
    "    \"\"\"\n",
    "    Read features from a single sample.\n",
    "    \"\"\"\n",
    "    @staticmethod\n",
    "    def hmp(filename: Path) -> np.ndarray:\n",
    "        \"\"\"\n",
    "        Read the Histogram of Motion Patterns (HMP) feature from a file.\n",
    "        \"\"\"\n",
    "        with filename.open() as file:\n",
    "            data = file.read()\n",
    "            pairs = data.split()\n",
    "            idx_hmp = {int(p.split(':')[0]): float(p.split(':')[1]) for p in pairs}\n",
    "        # There are 6075 bins, fill zeros.\n",
    "        hmp = np.zeros(HMP_LEN)\n",
    "        for idx in idx_hmp.keys():\n",
    "            hmp[idx - 1] = idx_hmp[idx]\n",
    "        return hmp\n",
    "\n",
    "    @staticmethod\n",
    "    def c3d(filename: Path) -> np.ndarray:\n",
    "        \"\"\"\n",
    "        Read the C3D feature from a file.\n",
    "        It's the final classification layer of the 3D Convolutional Neural Network.\n",
    "        \"\"\"\n",
    "        with filename.open() as file:\n",
    "            data = file.read()\n",
    "            c3d = [float(item) for item in data.split()]\n",
    "        return np.pad(np.array(c3d), (0, C3D_LEN - len(c3d)), \"constant\")\n",
    "\n",
    "    @staticmethod\n",
    "    def lbp(filename: Path) -> np.ndarray:\n",
    "        \"\"\"\n",
    "        Read the Local Binary Patterns (LBP) feature from a file.\n",
    "        \"\"\"\n",
    "        with filename.open() as file:\n",
    "            data = file.read()\n",
    "            lbp = [float(item) for item in data.split()]\n",
    "        return np.pad(np.array(lbp), (0, LBP_LEN - len(lbp)), \"constant\")"
   ]
  },
  {
   "cell_type": "code",
   "execution_count": 16,
   "id": "descending-medium",
   "metadata": {},
   "outputs": [],
   "source": [
    "class Load:\n",
    "    \"\"\"\n",
    "    Load features from all samples.\n",
    "    \"\"\"\n",
    "    @staticmethod\n",
    "    def hmp(index: Sequence[str], folder: Path) -> pd.DataFrame:\n",
    "        \"\"\"\n",
    "        Load all videos' HMP features as a dataframe from a directory.\n",
    "        \"\"\"\n",
    "        columns = [str(i) for i in range(HMP_LEN)]\n",
    "        df = pd.DataFrame(columns=columns, index=index)\n",
    "\n",
    "        def setter(name: PurePath) -> None:\n",
    "            df.at[Identify.id(name), :] = Read.hmp(name)\n",
    "\n",
    "        for name in folder.glob(\"*.txt\"):\n",
    "            setter(name)\n",
    "        return df\n",
    "\n",
    "    @staticmethod\n",
    "    def c3d(index: Sequence[str], folder: Path) -> pd.DataFrame:\n",
    "        \"\"\"\n",
    "        Load all videos' C3D features as a dataframe from a directory.\n",
    "        \"\"\"\n",
    "        columns = [str(i) for i in range(C3D_LEN)]\n",
    "        df = pd.DataFrame(columns=columns, index=index)\n",
    "\n",
    "        def setter(name: PurePath) -> None:\n",
    "            df.at[Identify.id(name), :] = Read.c3d(name)\n",
    "\n",
    "        for name in folder.glob(\"*.txt\"):\n",
    "            setter(name)\n",
    "        return df\n",
    "\n",
    "    @staticmethod\n",
    "    def lbp(index: Sequence[str], folder: Path) -> pd.DataFrame:\n",
    "        \"\"\"\n",
    "        Load all videos' LBP features as a dataframe from a directory.\n",
    "\n",
    "        -- NOTES --\n",
    "        For each video, combine data from 3 frames as a single feature.\n",
    "        \"\"\"\n",
    "        cols_1 = [str(i) for i in range(LBP_LEN)]\n",
    "        cols_2 = [str(i) for i in range(LBP_LEN, LBP_LEN * 2)]\n",
    "        cols_3 = [str(i) for i in range(LBP_LEN * 2, LBP_LEN * 3)]\n",
    "        cols_map = {0: cols_1, 56: cols_2, 112: cols_3}\n",
    "\n",
    "        df = pd.DataFrame(columns=cols_1 + cols_2 + cols_3, index=index)\n",
    "\n",
    "        def setter(name: PurePath) -> None:\n",
    "            id = Identify.id(name)\n",
    "            frame = Identify.frame(name)\n",
    "            cols = cols_map[frame]\n",
    "            df.at[id, cols] = Read.lbp(name)\n",
    "\n",
    "        for name in folder.glob(\"*.txt\"):\n",
    "            setter(name)\n",
    "        return df"
   ]
  },
  {
   "cell_type": "markdown",
   "id": "interior-recorder",
   "metadata": {},
   "source": [
    "### Loading Features\n",
    "\n",
    "After each feature has been initially loaded from its directory, the table will be saved in a `.csv` file for faster loading next time."
   ]
  },
  {
   "cell_type": "code",
   "execution_count": 17,
   "id": "legislative-mortgage",
   "metadata": {},
   "outputs": [],
   "source": [
    "if TYPE_CHECKING:\n",
    "    Loader = Callable[[Sequence[str], Path], pd.DataFrame]\n",
    "\n",
    "def load_feature(index: Sequence[str], csv: Path, folder: Path, loader: Loader) -> pd.DataFrame:\n",
    "    \"\"\"\n",
    "    Load features from a `.csv` file or a directory.\n",
    "\n",
    "    -- PARAMETERS --\n",
    "    index: An index.\n",
    "\n",
    "    csv: A `.csv` file.\n",
    "        If it exists, the method will directly load it and return.\n",
    "        If it does not exist, the method will create it to save features.\n",
    "\n",
    "    folder: A directory.\n",
    "        If the `.csv` file does not exist,\n",
    "        the method will load features from this directory with the help of `loader` callback.\n",
    "\n",
    "    loader: A callback used to load features from a directory.\n",
    "\n",
    "    -- RETURNS --\n",
    "    A feature dataframe.\n",
    "    \"\"\"\n",
    "    if csv.exists():\n",
    "        return pd.read_csv(csv).set_index(\"id\")\n",
    "    else:\n",
    "        df = loader(index, folder).sort_values(by=\"id\")\n",
    "        # Save the feature in a `.csv` file.\n",
    "        df.to_csv(csv)\n",
    "        return df"
   ]
  },
  {
   "cell_type": "markdown",
   "id": "cooperative-intersection",
   "metadata": {},
   "source": [
    "#### C3D"
   ]
  },
  {
   "cell_type": "code",
   "execution_count": 18,
   "id": "successful-african",
   "metadata": {},
   "outputs": [
    {
     "data": {
      "text/html": [
       "<div>\n",
       "<style scoped>\n",
       "    .dataframe tbody tr th:only-of-type {\n",
       "        vertical-align: middle;\n",
       "    }\n",
       "\n",
       "    .dataframe tbody tr th {\n",
       "        vertical-align: top;\n",
       "    }\n",
       "\n",
       "    .dataframe thead th {\n",
       "        text-align: right;\n",
       "    }\n",
       "</style>\n",
       "<table border=\"1\" class=\"dataframe\">\n",
       "  <thead>\n",
       "    <tr style=\"text-align: right;\">\n",
       "      <th></th>\n",
       "      <th>0</th>\n",
       "      <th>1</th>\n",
       "      <th>2</th>\n",
       "      <th>3</th>\n",
       "      <th>4</th>\n",
       "      <th>5</th>\n",
       "      <th>6</th>\n",
       "      <th>7</th>\n",
       "      <th>8</th>\n",
       "      <th>9</th>\n",
       "      <th>...</th>\n",
       "      <th>91</th>\n",
       "      <th>92</th>\n",
       "      <th>93</th>\n",
       "      <th>94</th>\n",
       "      <th>95</th>\n",
       "      <th>96</th>\n",
       "      <th>97</th>\n",
       "      <th>98</th>\n",
       "      <th>99</th>\n",
       "      <th>100</th>\n",
       "    </tr>\n",
       "    <tr>\n",
       "      <th>id</th>\n",
       "      <th></th>\n",
       "      <th></th>\n",
       "      <th></th>\n",
       "      <th></th>\n",
       "      <th></th>\n",
       "      <th></th>\n",
       "      <th></th>\n",
       "      <th></th>\n",
       "      <th></th>\n",
       "      <th></th>\n",
       "      <th></th>\n",
       "      <th></th>\n",
       "      <th></th>\n",
       "      <th></th>\n",
       "      <th></th>\n",
       "      <th></th>\n",
       "      <th></th>\n",
       "      <th></th>\n",
       "      <th></th>\n",
       "      <th></th>\n",
       "      <th></th>\n",
       "    </tr>\n",
       "  </thead>\n",
       "  <tbody>\n",
       "    <tr>\n",
       "      <th>3</th>\n",
       "      <td>0.020249</td>\n",
       "      <td>0.001578</td>\n",
       "      <td>0.000826</td>\n",
       "      <td>0.000945</td>\n",
       "      <td>0.000063</td>\n",
       "      <td>0.000003</td>\n",
       "      <td>0.001162</td>\n",
       "      <td>0.000097</td>\n",
       "      <td>0.000022</td>\n",
       "      <td>0.000010</td>\n",
       "      <td>...</td>\n",
       "      <td>0.001042</td>\n",
       "      <td>0.000161</td>\n",
       "      <td>0.000257</td>\n",
       "      <td>0.046617</td>\n",
       "      <td>0.000156</td>\n",
       "      <td>0.000006</td>\n",
       "      <td>0.000537</td>\n",
       "      <td>0.000339</td>\n",
       "      <td>0.008437</td>\n",
       "      <td>0.000470</td>\n",
       "    </tr>\n",
       "    <tr>\n",
       "      <th>4</th>\n",
       "      <td>0.000118</td>\n",
       "      <td>0.000891</td>\n",
       "      <td>0.000188</td>\n",
       "      <td>0.000045</td>\n",
       "      <td>0.000063</td>\n",
       "      <td>0.000002</td>\n",
       "      <td>0.000641</td>\n",
       "      <td>0.000011</td>\n",
       "      <td>0.000017</td>\n",
       "      <td>0.000014</td>\n",
       "      <td>...</td>\n",
       "      <td>0.000582</td>\n",
       "      <td>0.000393</td>\n",
       "      <td>0.000864</td>\n",
       "      <td>0.000947</td>\n",
       "      <td>0.000136</td>\n",
       "      <td>0.000007</td>\n",
       "      <td>0.000360</td>\n",
       "      <td>0.000159</td>\n",
       "      <td>0.001025</td>\n",
       "      <td>0.000020</td>\n",
       "    </tr>\n",
       "    <tr>\n",
       "      <th>6</th>\n",
       "      <td>0.011765</td>\n",
       "      <td>0.000746</td>\n",
       "      <td>0.000784</td>\n",
       "      <td>0.000013</td>\n",
       "      <td>0.000007</td>\n",
       "      <td>0.000028</td>\n",
       "      <td>0.000041</td>\n",
       "      <td>0.000014</td>\n",
       "      <td>0.000041</td>\n",
       "      <td>0.000083</td>\n",
       "      <td>...</td>\n",
       "      <td>0.000224</td>\n",
       "      <td>0.000003</td>\n",
       "      <td>0.000031</td>\n",
       "      <td>0.002538</td>\n",
       "      <td>0.000104</td>\n",
       "      <td>0.000005</td>\n",
       "      <td>0.000064</td>\n",
       "      <td>0.005380</td>\n",
       "      <td>0.001027</td>\n",
       "      <td>0.001384</td>\n",
       "    </tr>\n",
       "    <tr>\n",
       "      <th>8</th>\n",
       "      <td>0.000223</td>\n",
       "      <td>0.000165</td>\n",
       "      <td>0.000007</td>\n",
       "      <td>0.000016</td>\n",
       "      <td>0.000005</td>\n",
       "      <td>0.000014</td>\n",
       "      <td>0.000154</td>\n",
       "      <td>0.000008</td>\n",
       "      <td>0.000004</td>\n",
       "      <td>0.000009</td>\n",
       "      <td>...</td>\n",
       "      <td>0.000046</td>\n",
       "      <td>0.000009</td>\n",
       "      <td>0.000023</td>\n",
       "      <td>0.000053</td>\n",
       "      <td>0.000048</td>\n",
       "      <td>0.000019</td>\n",
       "      <td>0.000001</td>\n",
       "      <td>0.000004</td>\n",
       "      <td>0.000380</td>\n",
       "      <td>0.000029</td>\n",
       "    </tr>\n",
       "    <tr>\n",
       "      <th>10</th>\n",
       "      <td>0.000090</td>\n",
       "      <td>0.000615</td>\n",
       "      <td>0.003436</td>\n",
       "      <td>0.001281</td>\n",
       "      <td>0.003551</td>\n",
       "      <td>0.000313</td>\n",
       "      <td>0.000042</td>\n",
       "      <td>0.000018</td>\n",
       "      <td>0.000157</td>\n",
       "      <td>0.000117</td>\n",
       "      <td>...</td>\n",
       "      <td>0.000037</td>\n",
       "      <td>0.000690</td>\n",
       "      <td>0.000171</td>\n",
       "      <td>0.000231</td>\n",
       "      <td>0.000637</td>\n",
       "      <td>0.000040</td>\n",
       "      <td>0.000061</td>\n",
       "      <td>0.000075</td>\n",
       "      <td>0.000002</td>\n",
       "      <td>0.001323</td>\n",
       "    </tr>\n",
       "  </tbody>\n",
       "</table>\n",
       "<p>5 rows × 101 columns</p>\n",
       "</div>"
      ],
      "text/plain": [
       "           0         1         2         3         4         5         6  \\\n",
       "id                                                                         \n",
       "3   0.020249  0.001578  0.000826  0.000945  0.000063  0.000003  0.001162   \n",
       "4   0.000118  0.000891  0.000188  0.000045  0.000063  0.000002  0.000641   \n",
       "6   0.011765  0.000746  0.000784  0.000013  0.000007  0.000028  0.000041   \n",
       "8   0.000223  0.000165  0.000007  0.000016  0.000005  0.000014  0.000154   \n",
       "10  0.000090  0.000615  0.003436  0.001281  0.003551  0.000313  0.000042   \n",
       "\n",
       "           7         8         9  ...        91        92        93        94  \\\n",
       "id                                ...                                           \n",
       "3   0.000097  0.000022  0.000010  ...  0.001042  0.000161  0.000257  0.046617   \n",
       "4   0.000011  0.000017  0.000014  ...  0.000582  0.000393  0.000864  0.000947   \n",
       "6   0.000014  0.000041  0.000083  ...  0.000224  0.000003  0.000031  0.002538   \n",
       "8   0.000008  0.000004  0.000009  ...  0.000046  0.000009  0.000023  0.000053   \n",
       "10  0.000018  0.000157  0.000117  ...  0.000037  0.000690  0.000171  0.000231   \n",
       "\n",
       "          95        96        97        98        99       100  \n",
       "id                                                              \n",
       "3   0.000156  0.000006  0.000537  0.000339  0.008437  0.000470  \n",
       "4   0.000136  0.000007  0.000360  0.000159  0.001025  0.000020  \n",
       "6   0.000104  0.000005  0.000064  0.005380  0.001027  0.001384  \n",
       "8   0.000048  0.000019  0.000001  0.000004  0.000380  0.000029  \n",
       "10  0.000637  0.000040  0.000061  0.000075  0.000002  0.001323  \n",
       "\n",
       "[5 rows x 101 columns]"
      ]
     },
     "execution_count": 18,
     "metadata": {},
     "output_type": "execute_result"
    }
   ],
   "source": [
    "c3d = load_feature(grd_truth.index, extract_dir.joinpath(f\"dev-{C3D}.csv\"), dev_dir.joinpath(C3D), Load.c3d)\n",
    "assert (c3d.index == grd_truth.index).all()\n",
    "c3d.head()"
   ]
  },
  {
   "cell_type": "markdown",
   "id": "expressed-mistake",
   "metadata": {},
   "source": [
    "#### HMP"
   ]
  },
  {
   "cell_type": "code",
   "execution_count": 19,
   "id": "alien-stock",
   "metadata": {},
   "outputs": [
    {
     "data": {
      "text/html": [
       "<div>\n",
       "<style scoped>\n",
       "    .dataframe tbody tr th:only-of-type {\n",
       "        vertical-align: middle;\n",
       "    }\n",
       "\n",
       "    .dataframe tbody tr th {\n",
       "        vertical-align: top;\n",
       "    }\n",
       "\n",
       "    .dataframe thead th {\n",
       "        text-align: right;\n",
       "    }\n",
       "</style>\n",
       "<table border=\"1\" class=\"dataframe\">\n",
       "  <thead>\n",
       "    <tr style=\"text-align: right;\">\n",
       "      <th></th>\n",
       "      <th>0</th>\n",
       "      <th>1</th>\n",
       "      <th>2</th>\n",
       "      <th>3</th>\n",
       "      <th>4</th>\n",
       "      <th>5</th>\n",
       "      <th>6</th>\n",
       "      <th>7</th>\n",
       "      <th>8</th>\n",
       "      <th>9</th>\n",
       "      <th>...</th>\n",
       "      <th>6065</th>\n",
       "      <th>6066</th>\n",
       "      <th>6067</th>\n",
       "      <th>6068</th>\n",
       "      <th>6069</th>\n",
       "      <th>6070</th>\n",
       "      <th>6071</th>\n",
       "      <th>6072</th>\n",
       "      <th>6073</th>\n",
       "      <th>6074</th>\n",
       "    </tr>\n",
       "    <tr>\n",
       "      <th>id</th>\n",
       "      <th></th>\n",
       "      <th></th>\n",
       "      <th></th>\n",
       "      <th></th>\n",
       "      <th></th>\n",
       "      <th></th>\n",
       "      <th></th>\n",
       "      <th></th>\n",
       "      <th></th>\n",
       "      <th></th>\n",
       "      <th></th>\n",
       "      <th></th>\n",
       "      <th></th>\n",
       "      <th></th>\n",
       "      <th></th>\n",
       "      <th></th>\n",
       "      <th></th>\n",
       "      <th></th>\n",
       "      <th></th>\n",
       "      <th></th>\n",
       "      <th></th>\n",
       "    </tr>\n",
       "  </thead>\n",
       "  <tbody>\n",
       "    <tr>\n",
       "      <th>3</th>\n",
       "      <td>0.125563</td>\n",
       "      <td>0.024036</td>\n",
       "      <td>0.000314</td>\n",
       "      <td>0.0</td>\n",
       "      <td>0.015864</td>\n",
       "      <td>0.000358</td>\n",
       "      <td>0.0</td>\n",
       "      <td>0.000000</td>\n",
       "      <td>0.000086</td>\n",
       "      <td>0.0</td>\n",
       "      <td>...</td>\n",
       "      <td>0.000000</td>\n",
       "      <td>0.000393</td>\n",
       "      <td>0.000279</td>\n",
       "      <td>0.000000</td>\n",
       "      <td>0.000289</td>\n",
       "      <td>0.001926</td>\n",
       "      <td>0.000000</td>\n",
       "      <td>0.000086</td>\n",
       "      <td>0.000580</td>\n",
       "      <td>0.000000</td>\n",
       "    </tr>\n",
       "    <tr>\n",
       "      <th>4</th>\n",
       "      <td>0.007526</td>\n",
       "      <td>0.001421</td>\n",
       "      <td>0.000068</td>\n",
       "      <td>0.0</td>\n",
       "      <td>0.001184</td>\n",
       "      <td>0.000143</td>\n",
       "      <td>0.0</td>\n",
       "      <td>0.000000</td>\n",
       "      <td>0.000079</td>\n",
       "      <td>0.0</td>\n",
       "      <td>...</td>\n",
       "      <td>0.000053</td>\n",
       "      <td>0.000244</td>\n",
       "      <td>0.000066</td>\n",
       "      <td>0.000000</td>\n",
       "      <td>0.000081</td>\n",
       "      <td>0.000617</td>\n",
       "      <td>0.000094</td>\n",
       "      <td>0.000220</td>\n",
       "      <td>0.000762</td>\n",
       "      <td>0.001224</td>\n",
       "    </tr>\n",
       "    <tr>\n",
       "      <th>6</th>\n",
       "      <td>0.109584</td>\n",
       "      <td>0.018978</td>\n",
       "      <td>0.000289</td>\n",
       "      <td>0.0</td>\n",
       "      <td>0.008774</td>\n",
       "      <td>0.000208</td>\n",
       "      <td>0.0</td>\n",
       "      <td>0.000002</td>\n",
       "      <td>0.000088</td>\n",
       "      <td>0.0</td>\n",
       "      <td>...</td>\n",
       "      <td>0.000007</td>\n",
       "      <td>0.000054</td>\n",
       "      <td>0.000045</td>\n",
       "      <td>0.000000</td>\n",
       "      <td>0.000028</td>\n",
       "      <td>0.000291</td>\n",
       "      <td>0.000033</td>\n",
       "      <td>0.000052</td>\n",
       "      <td>0.000258</td>\n",
       "      <td>0.000215</td>\n",
       "    </tr>\n",
       "    <tr>\n",
       "      <th>8</th>\n",
       "      <td>0.120431</td>\n",
       "      <td>0.013561</td>\n",
       "      <td>0.000277</td>\n",
       "      <td>0.0</td>\n",
       "      <td>0.018974</td>\n",
       "      <td>0.000913</td>\n",
       "      <td>0.0</td>\n",
       "      <td>0.000024</td>\n",
       "      <td>0.000713</td>\n",
       "      <td>0.0</td>\n",
       "      <td>...</td>\n",
       "      <td>0.000059</td>\n",
       "      <td>0.001110</td>\n",
       "      <td>0.000075</td>\n",
       "      <td>0.000008</td>\n",
       "      <td>0.000333</td>\n",
       "      <td>0.000793</td>\n",
       "      <td>0.000101</td>\n",
       "      <td>0.000588</td>\n",
       "      <td>0.000503</td>\n",
       "      <td>0.000452</td>\n",
       "    </tr>\n",
       "    <tr>\n",
       "      <th>10</th>\n",
       "      <td>0.005026</td>\n",
       "      <td>0.001356</td>\n",
       "      <td>0.000055</td>\n",
       "      <td>0.0</td>\n",
       "      <td>0.000665</td>\n",
       "      <td>0.000029</td>\n",
       "      <td>0.0</td>\n",
       "      <td>0.000000</td>\n",
       "      <td>0.000024</td>\n",
       "      <td>0.0</td>\n",
       "      <td>...</td>\n",
       "      <td>0.000009</td>\n",
       "      <td>0.000882</td>\n",
       "      <td>0.000200</td>\n",
       "      <td>0.000009</td>\n",
       "      <td>0.000559</td>\n",
       "      <td>0.001097</td>\n",
       "      <td>0.000018</td>\n",
       "      <td>0.000632</td>\n",
       "      <td>0.001128</td>\n",
       "      <td>0.000064</td>\n",
       "    </tr>\n",
       "  </tbody>\n",
       "</table>\n",
       "<p>5 rows × 6075 columns</p>\n",
       "</div>"
      ],
      "text/plain": [
       "           0         1         2    3         4         5    6         7  \\\n",
       "id                                                                         \n",
       "3   0.125563  0.024036  0.000314  0.0  0.015864  0.000358  0.0  0.000000   \n",
       "4   0.007526  0.001421  0.000068  0.0  0.001184  0.000143  0.0  0.000000   \n",
       "6   0.109584  0.018978  0.000289  0.0  0.008774  0.000208  0.0  0.000002   \n",
       "8   0.120431  0.013561  0.000277  0.0  0.018974  0.000913  0.0  0.000024   \n",
       "10  0.005026  0.001356  0.000055  0.0  0.000665  0.000029  0.0  0.000000   \n",
       "\n",
       "           8    9  ...      6065      6066      6067      6068      6069  \\\n",
       "id                 ...                                                     \n",
       "3   0.000086  0.0  ...  0.000000  0.000393  0.000279  0.000000  0.000289   \n",
       "4   0.000079  0.0  ...  0.000053  0.000244  0.000066  0.000000  0.000081   \n",
       "6   0.000088  0.0  ...  0.000007  0.000054  0.000045  0.000000  0.000028   \n",
       "8   0.000713  0.0  ...  0.000059  0.001110  0.000075  0.000008  0.000333   \n",
       "10  0.000024  0.0  ...  0.000009  0.000882  0.000200  0.000009  0.000559   \n",
       "\n",
       "        6070      6071      6072      6073      6074  \n",
       "id                                                    \n",
       "3   0.001926  0.000000  0.000086  0.000580  0.000000  \n",
       "4   0.000617  0.000094  0.000220  0.000762  0.001224  \n",
       "6   0.000291  0.000033  0.000052  0.000258  0.000215  \n",
       "8   0.000793  0.000101  0.000588  0.000503  0.000452  \n",
       "10  0.001097  0.000018  0.000632  0.001128  0.000064  \n",
       "\n",
       "[5 rows x 6075 columns]"
      ]
     },
     "execution_count": 19,
     "metadata": {},
     "output_type": "execute_result"
    }
   ],
   "source": [
    "hmp = load_feature(grd_truth.index, extract_dir.joinpath(f\"dev-{HMP}.csv\"), dev_dir.joinpath(HMP), Load.hmp)\n",
    "assert (hmp.index == grd_truth.index).all()\n",
    "hmp.head()"
   ]
  },
  {
   "cell_type": "markdown",
   "id": "through-parcel",
   "metadata": {},
   "source": [
    "#### LBP\n",
    "\n",
    "*LBP* features were extracted from three frames for each video. Combine them as a single long vector:\n",
    "\n",
    "\\begin{equation}\n",
    "\\bigl[v_{0}^{0},\\, v_{1}^{0},\\, \\cdots,\\, v_{121}^{0},\\, v_{0}^{56},\\, v_{1}^{56},\\, \\cdots,\\, v_{121}^{56},\\, v_{0}^{112},\\, v_{1}^{112},\\, \\cdots,\\, v_{121}^{112}\\bigr]\n",
    "\\end{equation}\n",
    "\n",
    "Where $v_{i}^{j}$ is the $i$th feature from the $j$th frame."
   ]
  },
  {
   "cell_type": "code",
   "execution_count": 20,
   "id": "informative-argument",
   "metadata": {},
   "outputs": [
    {
     "data": {
      "text/html": [
       "<div>\n",
       "<style scoped>\n",
       "    .dataframe tbody tr th:only-of-type {\n",
       "        vertical-align: middle;\n",
       "    }\n",
       "\n",
       "    .dataframe tbody tr th {\n",
       "        vertical-align: top;\n",
       "    }\n",
       "\n",
       "    .dataframe thead th {\n",
       "        text-align: right;\n",
       "    }\n",
       "</style>\n",
       "<table border=\"1\" class=\"dataframe\">\n",
       "  <thead>\n",
       "    <tr style=\"text-align: right;\">\n",
       "      <th></th>\n",
       "      <th>0</th>\n",
       "      <th>1</th>\n",
       "      <th>2</th>\n",
       "      <th>3</th>\n",
       "      <th>4</th>\n",
       "      <th>5</th>\n",
       "      <th>6</th>\n",
       "      <th>7</th>\n",
       "      <th>8</th>\n",
       "      <th>9</th>\n",
       "      <th>...</th>\n",
       "      <th>356</th>\n",
       "      <th>357</th>\n",
       "      <th>358</th>\n",
       "      <th>359</th>\n",
       "      <th>360</th>\n",
       "      <th>361</th>\n",
       "      <th>362</th>\n",
       "      <th>363</th>\n",
       "      <th>364</th>\n",
       "      <th>365</th>\n",
       "    </tr>\n",
       "    <tr>\n",
       "      <th>id</th>\n",
       "      <th></th>\n",
       "      <th></th>\n",
       "      <th></th>\n",
       "      <th></th>\n",
       "      <th></th>\n",
       "      <th></th>\n",
       "      <th></th>\n",
       "      <th></th>\n",
       "      <th></th>\n",
       "      <th></th>\n",
       "      <th></th>\n",
       "      <th></th>\n",
       "      <th></th>\n",
       "      <th></th>\n",
       "      <th></th>\n",
       "      <th></th>\n",
       "      <th></th>\n",
       "      <th></th>\n",
       "      <th></th>\n",
       "      <th></th>\n",
       "      <th></th>\n",
       "    </tr>\n",
       "  </thead>\n",
       "  <tbody>\n",
       "    <tr>\n",
       "      <th>3</th>\n",
       "      <td>0.011832</td>\n",
       "      <td>0.002344</td>\n",
       "      <td>0.001827</td>\n",
       "      <td>0.001400</td>\n",
       "      <td>0.002978</td>\n",
       "      <td>0.001540</td>\n",
       "      <td>0.001206</td>\n",
       "      <td>0.001338</td>\n",
       "      <td>0.001135</td>\n",
       "      <td>0.002456</td>\n",
       "      <td>...</td>\n",
       "      <td>0.003662</td>\n",
       "      <td>0.006215</td>\n",
       "      <td>0.006339</td>\n",
       "      <td>0.006231</td>\n",
       "      <td>0.008805</td>\n",
       "      <td>0.009746</td>\n",
       "      <td>0.008074</td>\n",
       "      <td>0.004699</td>\n",
       "      <td>0.135541</td>\n",
       "      <td>0.514539</td>\n",
       "    </tr>\n",
       "    <tr>\n",
       "      <th>4</th>\n",
       "      <td>0.009664</td>\n",
       "      <td>0.002918</td>\n",
       "      <td>0.002194</td>\n",
       "      <td>0.001868</td>\n",
       "      <td>0.002558</td>\n",
       "      <td>0.002044</td>\n",
       "      <td>0.001905</td>\n",
       "      <td>0.001840</td>\n",
       "      <td>0.001749</td>\n",
       "      <td>0.001888</td>\n",
       "      <td>...</td>\n",
       "      <td>0.001843</td>\n",
       "      <td>0.002144</td>\n",
       "      <td>0.002100</td>\n",
       "      <td>0.002151</td>\n",
       "      <td>0.002319</td>\n",
       "      <td>0.002662</td>\n",
       "      <td>0.002464</td>\n",
       "      <td>0.001534</td>\n",
       "      <td>0.020534</td>\n",
       "      <td>0.461064</td>\n",
       "    </tr>\n",
       "    <tr>\n",
       "      <th>6</th>\n",
       "      <td>0.010840</td>\n",
       "      <td>0.001895</td>\n",
       "      <td>0.001541</td>\n",
       "      <td>0.000961</td>\n",
       "      <td>0.002857</td>\n",
       "      <td>0.001182</td>\n",
       "      <td>0.000741</td>\n",
       "      <td>0.000833</td>\n",
       "      <td>0.000578</td>\n",
       "      <td>0.001172</td>\n",
       "      <td>...</td>\n",
       "      <td>0.002285</td>\n",
       "      <td>0.003928</td>\n",
       "      <td>0.003798</td>\n",
       "      <td>0.003482</td>\n",
       "      <td>0.004864</td>\n",
       "      <td>0.004392</td>\n",
       "      <td>0.003166</td>\n",
       "      <td>0.002012</td>\n",
       "      <td>0.123364</td>\n",
       "      <td>0.482255</td>\n",
       "    </tr>\n",
       "    <tr>\n",
       "      <th>8</th>\n",
       "      <td>0.011634</td>\n",
       "      <td>0.004315</td>\n",
       "      <td>0.003213</td>\n",
       "      <td>0.001912</td>\n",
       "      <td>0.002423</td>\n",
       "      <td>0.001428</td>\n",
       "      <td>0.001103</td>\n",
       "      <td>0.001135</td>\n",
       "      <td>0.000999</td>\n",
       "      <td>0.001311</td>\n",
       "      <td>...</td>\n",
       "      <td>0.003601</td>\n",
       "      <td>0.006800</td>\n",
       "      <td>0.006328</td>\n",
       "      <td>0.007033</td>\n",
       "      <td>0.011622</td>\n",
       "      <td>0.011662</td>\n",
       "      <td>0.009279</td>\n",
       "      <td>0.005855</td>\n",
       "      <td>0.224420</td>\n",
       "      <td>0.535760</td>\n",
       "    </tr>\n",
       "    <tr>\n",
       "      <th>10</th>\n",
       "      <td>0.025250</td>\n",
       "      <td>0.004858</td>\n",
       "      <td>0.004892</td>\n",
       "      <td>0.003862</td>\n",
       "      <td>0.004429</td>\n",
       "      <td>0.003433</td>\n",
       "      <td>0.003179</td>\n",
       "      <td>0.003398</td>\n",
       "      <td>0.003172</td>\n",
       "      <td>0.003559</td>\n",
       "      <td>...</td>\n",
       "      <td>0.002474</td>\n",
       "      <td>0.002568</td>\n",
       "      <td>0.002568</td>\n",
       "      <td>0.002832</td>\n",
       "      <td>0.003209</td>\n",
       "      <td>0.004080</td>\n",
       "      <td>0.004773</td>\n",
       "      <td>0.003983</td>\n",
       "      <td>0.026907</td>\n",
       "      <td>0.688721</td>\n",
       "    </tr>\n",
       "  </tbody>\n",
       "</table>\n",
       "<p>5 rows × 366 columns</p>\n",
       "</div>"
      ],
      "text/plain": [
       "           0         1         2         3         4         5         6  \\\n",
       "id                                                                         \n",
       "3   0.011832  0.002344  0.001827  0.001400  0.002978  0.001540  0.001206   \n",
       "4   0.009664  0.002918  0.002194  0.001868  0.002558  0.002044  0.001905   \n",
       "6   0.010840  0.001895  0.001541  0.000961  0.002857  0.001182  0.000741   \n",
       "8   0.011634  0.004315  0.003213  0.001912  0.002423  0.001428  0.001103   \n",
       "10  0.025250  0.004858  0.004892  0.003862  0.004429  0.003433  0.003179   \n",
       "\n",
       "           7         8         9  ...       356       357       358       359  \\\n",
       "id                                ...                                           \n",
       "3   0.001338  0.001135  0.002456  ...  0.003662  0.006215  0.006339  0.006231   \n",
       "4   0.001840  0.001749  0.001888  ...  0.001843  0.002144  0.002100  0.002151   \n",
       "6   0.000833  0.000578  0.001172  ...  0.002285  0.003928  0.003798  0.003482   \n",
       "8   0.001135  0.000999  0.001311  ...  0.003601  0.006800  0.006328  0.007033   \n",
       "10  0.003398  0.003172  0.003559  ...  0.002474  0.002568  0.002568  0.002832   \n",
       "\n",
       "         360       361       362       363       364       365  \n",
       "id                                                              \n",
       "3   0.008805  0.009746  0.008074  0.004699  0.135541  0.514539  \n",
       "4   0.002319  0.002662  0.002464  0.001534  0.020534  0.461064  \n",
       "6   0.004864  0.004392  0.003166  0.002012  0.123364  0.482255  \n",
       "8   0.011622  0.011662  0.009279  0.005855  0.224420  0.535760  \n",
       "10  0.003209  0.004080  0.004773  0.003983  0.026907  0.688721  \n",
       "\n",
       "[5 rows x 366 columns]"
      ]
     },
     "execution_count": 20,
     "metadata": {},
     "output_type": "execute_result"
    }
   ],
   "source": [
    "lbp = load_feature(grd_truth.index, extract_dir.joinpath(f\"dev-{LBP}.csv\"), dev_dir.joinpath(LBP), Load.lbp)\n",
    "assert (lbp.index.unique(level=\"id\") == grd_truth.index).all()\n",
    "lbp.head()"
   ]
  },
  {
   "cell_type": "markdown",
   "id": "hawaiian-difference",
   "metadata": {},
   "source": [
    "## Cross-Validation\n",
    "\n",
    "Use the [`cross_val_score`](https://scikit-learn.org/stable/modules/generated/sklearn.model_selection.cross_val_score.html) method to evaluate a score by cross-validation."
   ]
  },
  {
   "cell_type": "code",
   "execution_count": 21,
   "id": "functioning-raising",
   "metadata": {},
   "outputs": [],
   "source": [
    "if TYPE_CHECKING:\n",
    "    Matrix = pd.DataFrame | np.ndarray\n",
    "\n",
    "# The models that need target values to be an array-like of shape (n,).\n",
    "ravel_mods = set([SV, RF, AB])\n",
    "\n",
    "def cv_train_model(feature: str, model: str, pred: Predictor | Pipeline, term: Term, X: Matrix, record: bool = True) -> np.ndarray:\n",
    "    \"\"\"\n",
    "    Train a model by cross-validation and record its score.\n",
    "\n",
    "    -- PARAMETERS --\n",
    "    feature: The feature name.\n",
    "    model: The model name.\n",
    "    regr: A regressor.\n",
    "    term: Short-term or long-term.\n",
    "    X: Features.\n",
    "    record: Whether to record scores.\n",
    "\n",
    "    -- RETURNS --\n",
    "    An array of scores.\n",
    "    \"\"\"\n",
    "    y = short_y if term == Term.SHORT else long_y\n",
    "    if model in ravel_mods:\n",
    "        y = y.values.ravel()\n",
    "    scores = cross_val_score(pred, X, y, scoring=scorer)\n",
    "    if record:\n",
    "        score_stats[term].at[(feature, \"mean\"), model] = round(scores.mean(), 3)\n",
    "        score_stats[term].at[(feature, \"std\"), model] = round(scores.std(), 3)\n",
    "    Score.display(scores, term)\n",
    "    return scores"
   ]
  },
  {
   "cell_type": "markdown",
   "id": "coordinate-melbourne",
   "metadata": {},
   "source": [
    "## Experiments with Single Feature"
   ]
  },
  {
   "cell_type": "markdown",
   "id": "amateur-nature",
   "metadata": {},
   "source": [
    "### C3D"
   ]
  },
  {
   "cell_type": "markdown",
   "id": "expected-miracle",
   "metadata": {},
   "source": [
    "#### Linear Regression"
   ]
  },
  {
   "cell_type": "code",
   "execution_count": 22,
   "id": "stopped-afghanistan",
   "metadata": {},
   "outputs": [
    {
     "name": "stdout",
     "output_type": "stream",
     "text": [
      "The Spearman's correlation coefficient for SHORT-term:\n",
      "Mean: 0.276\n",
      "Standard Deviation: 0.016\n"
     ]
    },
    {
     "data": {
      "text/plain": [
       "(LinearRegression(),\n",
       " array([0.28429877, 0.24728574, 0.2930274 , 0.28121191, 0.27339381]))"
      ]
     },
     "execution_count": 22,
     "metadata": {},
     "output_type": "execute_result"
    }
   ],
   "source": [
    "cv_train_model(C3D, LN, LinearRegression(), Term.SHORT, c3d)"
   ]
  },
  {
   "cell_type": "code",
   "execution_count": 23,
   "id": "respiratory-finish",
   "metadata": {},
   "outputs": [
    {
     "name": "stdout",
     "output_type": "stream",
     "text": [
      "The Spearman's correlation coefficient for LONG-term:\n",
      "Mean: 0.114\n",
      "Standard Deviation: 0.019\n"
     ]
    },
    {
     "data": {
      "text/plain": [
       "(LinearRegression(),\n",
       " array([0.1466378 , 0.10286209, 0.12110697, 0.09092741, 0.10620066]))"
      ]
     },
     "execution_count": 23,
     "metadata": {},
     "output_type": "execute_result"
    }
   ],
   "source": [
    "cv_train_model(C3D, LN, LinearRegression(), Term.LONG, c3d)"
   ]
  },
  {
   "cell_type": "markdown",
   "id": "parental-vault",
   "metadata": {},
   "source": [
    "#### K-Nearest Neighbors Regression"
   ]
  },
  {
   "cell_type": "code",
   "execution_count": 24,
   "id": "encouraging-canada",
   "metadata": {},
   "outputs": [
    {
     "name": "stdout",
     "output_type": "stream",
     "text": [
      "The Spearman's correlation coefficient for SHORT-term:\n",
      "Mean: 0.183\n",
      "Standard Deviation: 0.019\n"
     ]
    },
    {
     "data": {
      "text/plain": [
       "(KNeighborsRegressor(),\n",
       " array([0.17472603, 0.21671059, 0.17439766, 0.18851039, 0.15971126]))"
      ]
     },
     "execution_count": 24,
     "metadata": {},
     "output_type": "execute_result"
    }
   ],
   "source": [
    "cv_train_model(C3D, KNN, KNeighborsRegressor(), Term.SHORT, c3d)"
   ]
  },
  {
   "cell_type": "code",
   "execution_count": 25,
   "id": "conscious-gravity",
   "metadata": {},
   "outputs": [
    {
     "name": "stdout",
     "output_type": "stream",
     "text": [
      "The Spearman's correlation coefficient for LONG-term:\n",
      "Mean: 0.064\n",
      "Standard Deviation: 0.027\n"
     ]
    },
    {
     "data": {
      "text/plain": [
       "(KNeighborsRegressor(),\n",
       " array([0.11362562, 0.03253811, 0.06425305, 0.06587593, 0.04617649]))"
      ]
     },
     "execution_count": 25,
     "metadata": {},
     "output_type": "execute_result"
    }
   ],
   "source": [
    "cv_train_model(C3D, KNN, KNeighborsRegressor(), Term.LONG, c3d)"
   ]
  },
  {
   "cell_type": "markdown",
   "id": "developmental-background",
   "metadata": {},
   "source": [
    "#### Support Vector Regression"
   ]
  },
  {
   "cell_type": "code",
   "execution_count": 26,
   "id": "square-tampa",
   "metadata": {},
   "outputs": [
    {
     "name": "stdout",
     "output_type": "stream",
     "text": [
      "The Spearman's correlation coefficient for SHORT-term:\n",
      "Mean: 0.248\n",
      "Standard Deviation: 0.026\n"
     ]
    },
    {
     "data": {
      "text/plain": [
       "(Pipeline(steps=[('standardscaler', StandardScaler()), ('svr', SVR())]),\n",
       " array([0.21860103, 0.22389799, 0.26141646, 0.28985545, 0.24819164]))"
      ]
     },
     "execution_count": 26,
     "metadata": {},
     "output_type": "execute_result"
    }
   ],
   "source": [
    "pipeline = make_pipeline(StandardScaler(), SVR())\n",
    "cv_train_model(C3D, SV, pipeline, Term.SHORT, c3d)"
   ]
  },
  {
   "cell_type": "code",
   "execution_count": 27,
   "id": "processed-safety",
   "metadata": {},
   "outputs": [
    {
     "name": "stdout",
     "output_type": "stream",
     "text": [
      "The Spearman's correlation coefficient for LONG-term:\n",
      "Mean: 0.093\n",
      "Standard Deviation: 0.016\n"
     ]
    },
    {
     "data": {
      "text/plain": [
       "(Pipeline(steps=[('standardscaler', StandardScaler()), ('svr', SVR())]),\n",
       " array([0.11195604, 0.08255464, 0.11297046, 0.07385585, 0.08353294]))"
      ]
     },
     "execution_count": 27,
     "metadata": {},
     "output_type": "execute_result"
    }
   ],
   "source": [
    "pipeline = make_pipeline(StandardScaler(), SVR())\n",
    "cv_train_model(C3D, SV, pipeline, Term.LONG, c3d)"
   ]
  },
  {
   "cell_type": "markdown",
   "id": "palestinian-brazilian",
   "metadata": {},
   "source": [
    "#### Random Forest Regression"
   ]
  },
  {
   "cell_type": "code",
   "execution_count": 28,
   "id": "swedish-class",
   "metadata": {},
   "outputs": [
    {
     "name": "stdout",
     "output_type": "stream",
     "text": [
      "The Spearman's correlation coefficient for SHORT-term:\n",
      "Mean: 0.304\n",
      "Standard Deviation: 0.018\n"
     ]
    },
    {
     "data": {
      "text/plain": [
       "(RandomForestRegressor(),\n",
       " array([0.31548405, 0.26845678, 0.31493865, 0.31393541, 0.30842949]))"
      ]
     },
     "execution_count": 28,
     "metadata": {},
     "output_type": "execute_result"
    }
   ],
   "source": [
    "cv_train_model(C3D, RF, RandomForestRegressor(), Term.SHORT, c3d)"
   ]
  },
  {
   "cell_type": "code",
   "execution_count": 29,
   "id": "basic-southwest",
   "metadata": {},
   "outputs": [
    {
     "name": "stdout",
     "output_type": "stream",
     "text": [
      "The Spearman's correlation coefficient for LONG-term:\n",
      "Mean: 0.13\n",
      "Standard Deviation: 0.015\n"
     ]
    },
    {
     "data": {
      "text/plain": [
       "(RandomForestRegressor(),\n",
       " array([0.10349963, 0.12690984, 0.13210923, 0.14110524, 0.14595573]))"
      ]
     },
     "execution_count": 29,
     "metadata": {},
     "output_type": "execute_result"
    }
   ],
   "source": [
    "cv_train_model(C3D, RF, RandomForestRegressor(), Term.LONG, c3d)"
   ]
  },
  {
   "cell_type": "markdown",
   "id": "vital-system",
   "metadata": {},
   "source": [
    "#### AdaBoost Regression"
   ]
  },
  {
   "cell_type": "code",
   "execution_count": 30,
   "id": "english-flexibility",
   "metadata": {},
   "outputs": [
    {
     "name": "stdout",
     "output_type": "stream",
     "text": [
      "The Spearman's correlation coefficient for SHORT-term:\n",
      "Mean: 0.257\n",
      "Standard Deviation: 0.012\n"
     ]
    },
    {
     "data": {
      "text/plain": [
       "(AdaBoostRegressor(),\n",
       " array([0.26378354, 0.24774166, 0.26595594, 0.23791798, 0.26892053]))"
      ]
     },
     "execution_count": 30,
     "metadata": {},
     "output_type": "execute_result"
    }
   ],
   "source": [
    "cv_train_model(C3D, AB, AdaBoostRegressor(), Term.SHORT, c3d)"
   ]
  },
  {
   "cell_type": "code",
   "execution_count": 31,
   "id": "talented-peace",
   "metadata": {},
   "outputs": [
    {
     "name": "stdout",
     "output_type": "stream",
     "text": [
      "The Spearman's correlation coefficient for LONG-term:\n",
      "Mean: 0.113\n",
      "Standard Deviation: 0.009\n"
     ]
    },
    {
     "data": {
      "text/plain": [
       "(AdaBoostRegressor(),\n",
       " array([0.11104418, 0.09950819, 0.12850089, 0.11319594, 0.11376926]))"
      ]
     },
     "execution_count": 31,
     "metadata": {},
     "output_type": "execute_result"
    }
   ],
   "source": [
    "cv_train_model(C3D, AB, AdaBoostRegressor(), Term.LONG, c3d)"
   ]
  },
  {
   "cell_type": "code",
   "execution_count": 32,
   "id": "identical-software",
   "metadata": {},
   "outputs": [],
   "source": [
    "score_stats.save()"
   ]
  },
  {
   "cell_type": "markdown",
   "id": "german-restaurant",
   "metadata": {},
   "source": [
    "### HMP"
   ]
  },
  {
   "cell_type": "markdown",
   "id": "photographic-brook",
   "metadata": {},
   "source": [
    "#### Linear Regression"
   ]
  },
  {
   "cell_type": "code",
   "execution_count": 33,
   "id": "detected-fantasy",
   "metadata": {},
   "outputs": [
    {
     "name": "stdout",
     "output_type": "stream",
     "text": [
      "The Spearman's correlation coefficient for SHORT-term:\n",
      "Mean: -0.007\n",
      "Standard Deviation: 0.03\n"
     ]
    },
    {
     "data": {
      "text/plain": [
       "(LinearRegression(),\n",
       " array([-0.03164443,  0.00664516,  0.03488494, -0.04963696,  0.00701348]))"
      ]
     },
     "execution_count": 33,
     "metadata": {},
     "output_type": "execute_result"
    }
   ],
   "source": [
    "cv_train_model(HMP, LN, LinearRegression(), Term.SHORT, hmp)"
   ]
  },
  {
   "cell_type": "code",
   "execution_count": 34,
   "id": "dated-terry",
   "metadata": {},
   "outputs": [
    {
     "name": "stdout",
     "output_type": "stream",
     "text": [
      "The Spearman's correlation coefficient for LONG-term:\n",
      "Mean: -0.008\n",
      "Standard Deviation: 0.029\n"
     ]
    },
    {
     "data": {
      "text/plain": [
       "(LinearRegression(),\n",
       " array([-0.03721559,  0.01833991, -0.04835154,  0.0158657 ,  0.01097076]))"
      ]
     },
     "execution_count": 34,
     "metadata": {},
     "output_type": "execute_result"
    }
   ],
   "source": [
    "cv_train_model(HMP, LN, LinearRegression(), Term.LONG, hmp)"
   ]
  },
  {
   "cell_type": "markdown",
   "id": "square-twenty",
   "metadata": {},
   "source": [
    "#### K-Nearest Neighbors Regression"
   ]
  },
  {
   "cell_type": "code",
   "execution_count": 35,
   "id": "rural-myrtle",
   "metadata": {},
   "outputs": [
    {
     "name": "stdout",
     "output_type": "stream",
     "text": [
      "The Spearman's correlation coefficient for SHORT-term:\n",
      "Mean: 0.199\n",
      "Standard Deviation: 0.01\n"
     ]
    },
    {
     "data": {
      "text/plain": [
       "(KNeighborsRegressor(),\n",
       " array([0.20698307, 0.201871  , 0.18199439, 0.20940392, 0.19460417]))"
      ]
     },
     "execution_count": 35,
     "metadata": {},
     "output_type": "execute_result"
    }
   ],
   "source": [
    "cv_train_model(HMP, KNN, KNeighborsRegressor(), Term.SHORT, hmp)"
   ]
  },
  {
   "cell_type": "code",
   "execution_count": 36,
   "id": "acting-truth",
   "metadata": {},
   "outputs": [
    {
     "name": "stdout",
     "output_type": "stream",
     "text": [
      "The Spearman's correlation coefficient for LONG-term:\n",
      "Mean: 0.06\n",
      "Standard Deviation: 0.031\n"
     ]
    },
    {
     "data": {
      "text/plain": [
       "(KNeighborsRegressor(),\n",
       " array([0.07675827, 0.01586802, 0.05606419, 0.04442495, 0.10885185]))"
      ]
     },
     "execution_count": 36,
     "metadata": {},
     "output_type": "execute_result"
    }
   ],
   "source": [
    "cv_train_model(HMP, KNN, KNeighborsRegressor(), Term.LONG, hmp)"
   ]
  },
  {
   "cell_type": "markdown",
   "id": "mexican-being",
   "metadata": {},
   "source": [
    "#### Support Vector Regression"
   ]
  },
  {
   "cell_type": "code",
   "execution_count": 37,
   "id": "canadian-amplifier",
   "metadata": {},
   "outputs": [
    {
     "name": "stdout",
     "output_type": "stream",
     "text": [
      "The Spearman's correlation coefficient for SHORT-term:\n",
      "Mean: 0.278\n",
      "Standard Deviation: 0.022\n"
     ]
    },
    {
     "data": {
      "text/plain": [
       "(Pipeline(steps=[('standardscaler', StandardScaler()), ('svr', SVR())]),\n",
       " array([0.2956044 , 0.29102198, 0.24808447, 0.30054735, 0.25698931]))"
      ]
     },
     "execution_count": 37,
     "metadata": {},
     "output_type": "execute_result"
    }
   ],
   "source": [
    "pipeline = make_pipeline(StandardScaler(), SVR())\n",
    "cv_train_model(HMP, SV, pipeline, Term.SHORT, hmp)"
   ]
  },
  {
   "cell_type": "code",
   "execution_count": 38,
   "id": "surrounded-madison",
   "metadata": {},
   "outputs": [
    {
     "name": "stdout",
     "output_type": "stream",
     "text": [
      "The Spearman's correlation coefficient for LONG-term:\n",
      "Mean: 0.111\n",
      "Standard Deviation: 0.025\n"
     ]
    },
    {
     "data": {
      "text/plain": [
       "(Pipeline(steps=[('standardscaler', StandardScaler()), ('svr', SVR())]),\n",
       " array([0.09417085, 0.07777513, 0.12706539, 0.10549387, 0.14924148]))"
      ]
     },
     "execution_count": 38,
     "metadata": {},
     "output_type": "execute_result"
    }
   ],
   "source": [
    "pipeline = make_pipeline(StandardScaler(), SVR())\n",
    "cv_train_model(HMP, SV, pipeline, Term.LONG, hmp)"
   ]
  },
  {
   "cell_type": "markdown",
   "id": "informative-ratio",
   "metadata": {},
   "source": [
    "#### Random Forest Regression"
   ]
  },
  {
   "cell_type": "code",
   "execution_count": 39,
   "id": "responsible-judges",
   "metadata": {},
   "outputs": [
    {
     "name": "stdout",
     "output_type": "stream",
     "text": [
      "The Spearman's correlation coefficient for SHORT-term:\n",
      "Mean: 0.295\n",
      "Standard Deviation: 0.007\n"
     ]
    },
    {
     "data": {
      "text/plain": [
       "(RandomForestRegressor(),\n",
       " array([0.29613258, 0.28711641, 0.30503674, 0.29880543, 0.28665615]))"
      ]
     },
     "execution_count": 39,
     "metadata": {},
     "output_type": "execute_result"
    }
   ],
   "source": [
    "cv_train_model(HMP, RF, RandomForestRegressor(), Term.SHORT, hmp)"
   ]
  },
  {
   "cell_type": "code",
   "execution_count": 40,
   "id": "complex-hindu",
   "metadata": {},
   "outputs": [
    {
     "name": "stdout",
     "output_type": "stream",
     "text": [
      "The Spearman's correlation coefficient for LONG-term:\n",
      "Mean: 0.114\n",
      "Standard Deviation: 0.014\n"
     ]
    },
    {
     "data": {
      "text/plain": [
       "(RandomForestRegressor(),\n",
       " array([0.09951099, 0.11134102, 0.12089548, 0.09989099, 0.13817083]))"
      ]
     },
     "execution_count": 40,
     "metadata": {},
     "output_type": "execute_result"
    }
   ],
   "source": [
    "cv_train_model(HMP, RF, RandomForestRegressor(), Term.LONG, hmp)"
   ]
  },
  {
   "cell_type": "markdown",
   "id": "cognitive-technician",
   "metadata": {},
   "source": [
    "#### AdaBoost Regression"
   ]
  },
  {
   "cell_type": "code",
   "execution_count": 41,
   "id": "threatened-stadium",
   "metadata": {},
   "outputs": [
    {
     "name": "stdout",
     "output_type": "stream",
     "text": [
      "The Spearman's correlation coefficient for SHORT-term:\n",
      "Mean: 0.244\n",
      "Standard Deviation: 0.016\n"
     ]
    },
    {
     "data": {
      "text/plain": [
       "(AdaBoostRegressor(),\n",
       " array([0.23820071, 0.21473612, 0.25618285, 0.25106176, 0.25745714]))"
      ]
     },
     "execution_count": 41,
     "metadata": {},
     "output_type": "execute_result"
    }
   ],
   "source": [
    "cv_train_model(HMP, AB, AdaBoostRegressor(), Term.SHORT, hmp)"
   ]
  },
  {
   "cell_type": "code",
   "execution_count": 42,
   "id": "thermal-discharge",
   "metadata": {},
   "outputs": [
    {
     "name": "stdout",
     "output_type": "stream",
     "text": [
      "The Spearman's correlation coefficient for LONG-term:\n",
      "Mean: 0.079\n",
      "Standard Deviation: 0.024\n"
     ]
    },
    {
     "data": {
      "text/plain": [
       "(AdaBoostRegressor(),\n",
       " array([0.04937874, 0.06553024, 0.11942125, 0.07101382, 0.08965824]))"
      ]
     },
     "execution_count": 42,
     "metadata": {},
     "output_type": "execute_result"
    }
   ],
   "source": [
    "cv_train_model(HMP, AB, AdaBoostRegressor(), Term.LONG, hmp)"
   ]
  },
  {
   "cell_type": "code",
   "execution_count": 43,
   "id": "japanese-technology",
   "metadata": {},
   "outputs": [],
   "source": [
    "score_stats.save()"
   ]
  },
  {
   "cell_type": "markdown",
   "id": "opposite-music",
   "metadata": {},
   "source": [
    "#### Using Principal Component Analysis to Reduce Dimensions\n",
    "\n",
    "The number of *HMP* features is larger than the number of samples, try to remove some features with [`PCA`](https://scikit-learn.org/stable/modules/generated/sklearn.decomposition.PCA.html), remaining *1000* features."
   ]
  },
  {
   "cell_type": "code",
   "execution_count": 44,
   "id": "numerical-digit",
   "metadata": {},
   "outputs": [
    {
     "data": {
      "text/plain": [
       "0.9999323531245211"
      ]
     },
     "execution_count": 44,
     "metadata": {},
     "output_type": "execute_result"
    }
   ],
   "source": [
    "pca = PCA(n_components=1000)\n",
    "pca_hmp = pca.fit_transform(hmp)\n",
    "\n",
    "pca.explained_variance_ratio_.sum()"
   ]
  },
  {
   "cell_type": "markdown",
   "id": "classical-siemens",
   "metadata": {},
   "source": [
    "Then train several models on principal features for *short-term*."
   ]
  },
  {
   "cell_type": "code",
   "execution_count": 45,
   "id": "general-manitoba",
   "metadata": {},
   "outputs": [],
   "source": [
    "hmp_means = pd.DataFrame(columns=[LN, KNN, SV, RF, AB])\n",
    "hmp_means.loc[\"raw\", :] = score_stats[Term.SHORT].loc[(HMP, \"mean\"), :]"
   ]
  },
  {
   "cell_type": "code",
   "execution_count": 46,
   "id": "intermediate-disorder",
   "metadata": {},
   "outputs": [
    {
     "name": "stdout",
     "output_type": "stream",
     "text": [
      "The Spearman's correlation coefficient for SHORT-term:\n",
      "Mean: 0.238\n",
      "Standard Deviation: 0.01\n"
     ]
    }
   ],
   "source": [
    "scores = cv_train_model(HMP, LN, LinearRegression(), Term.SHORT, pca_hmp, False)\n",
    "hmp_means.at[\"pca\", LN] = round(scores.mean(), 3)"
   ]
  },
  {
   "cell_type": "code",
   "execution_count": 47,
   "id": "communist-envelope",
   "metadata": {},
   "outputs": [
    {
     "name": "stdout",
     "output_type": "stream",
     "text": [
      "The Spearman's correlation coefficient for SHORT-term:\n",
      "Mean: 0.199\n",
      "Standard Deviation: 0.01\n"
     ]
    }
   ],
   "source": [
    "scores = cv_train_model(HMP, KNN, KNeighborsRegressor(), Term.SHORT, pca_hmp, False)\n",
    "hmp_means.at[\"pca\", KNN] = round(scores.mean(), 3)"
   ]
  },
  {
   "cell_type": "code",
   "execution_count": 48,
   "id": "agreed-equality",
   "metadata": {},
   "outputs": [
    {
     "name": "stdout",
     "output_type": "stream",
     "text": [
      "The Spearman's correlation coefficient for SHORT-term:\n",
      "Mean: 0.183\n",
      "Standard Deviation: 0.015\n"
     ]
    }
   ],
   "source": [
    "pipeline = make_pipeline(StandardScaler(), SVR())\n",
    "scores = cv_train_model(HMP, SV, pipeline, Term.SHORT, pca_hmp, False)\n",
    "hmp_means.at[\"pca\", SV] = round(scores.mean(), 3)"
   ]
  },
  {
   "cell_type": "code",
   "execution_count": 49,
   "id": "gorgeous-tract",
   "metadata": {},
   "outputs": [
    {
     "name": "stdout",
     "output_type": "stream",
     "text": [
      "The Spearman's correlation coefficient for SHORT-term:\n",
      "Mean: 0.218\n",
      "Standard Deviation: 0.013\n"
     ]
    }
   ],
   "source": [
    "scores = cv_train_model(HMP, RF, RandomForestRegressor(), Term.SHORT, pca_hmp, False)\n",
    "hmp_means.at[\"pca\", RF] = round(scores.mean(), 3)"
   ]
  },
  {
   "cell_type": "code",
   "execution_count": 50,
   "id": "ranging-breach",
   "metadata": {},
   "outputs": [
    {
     "name": "stdout",
     "output_type": "stream",
     "text": [
      "The Spearman's correlation coefficient for SHORT-term:\n",
      "Mean: 0.148\n",
      "Standard Deviation: 0.017\n"
     ]
    }
   ],
   "source": [
    "scores = cv_train_model(HMP, AB, AdaBoostRegressor(), Term.SHORT, pca_hmp, False)\n",
    "hmp_means.at[\"pca\", AB] = round(scores.mean(), 3)"
   ]
  },
  {
   "cell_type": "markdown",
   "id": "yellow-virus",
   "metadata": {},
   "source": [
    "*PCA* only provided a significant performance improvement for *Linear Regression*. For *K-Nearest Neighbors Regression*, it helped nothing. To make matters worse, PCA reduced the prediction effect of the other three models."
   ]
  },
  {
   "cell_type": "code",
   "execution_count": 51,
   "id": "allied-flour",
   "metadata": {},
   "outputs": [
    {
     "data": {
      "text/html": [
       "<div>\n",
       "<style scoped>\n",
       "    .dataframe tbody tr th:only-of-type {\n",
       "        vertical-align: middle;\n",
       "    }\n",
       "\n",
       "    .dataframe tbody tr th {\n",
       "        vertical-align: top;\n",
       "    }\n",
       "\n",
       "    .dataframe thead th {\n",
       "        text-align: right;\n",
       "    }\n",
       "</style>\n",
       "<table border=\"1\" class=\"dataframe\">\n",
       "  <thead>\n",
       "    <tr style=\"text-align: right;\">\n",
       "      <th></th>\n",
       "      <th>Linear</th>\n",
       "      <th>K-Nearest</th>\n",
       "      <th>Support Vector</th>\n",
       "      <th>Random Forest</th>\n",
       "      <th>AdaBoost</th>\n",
       "    </tr>\n",
       "  </thead>\n",
       "  <tbody>\n",
       "    <tr>\n",
       "      <th>raw</th>\n",
       "      <td>-0.007</td>\n",
       "      <td>0.199</td>\n",
       "      <td>0.278</td>\n",
       "      <td>0.295</td>\n",
       "      <td>0.244</td>\n",
       "    </tr>\n",
       "    <tr>\n",
       "      <th>pca</th>\n",
       "      <td>0.238</td>\n",
       "      <td>0.199</td>\n",
       "      <td>0.183</td>\n",
       "      <td>0.218</td>\n",
       "      <td>0.148</td>\n",
       "    </tr>\n",
       "  </tbody>\n",
       "</table>\n",
       "</div>"
      ],
      "text/plain": [
       "    Linear K-Nearest Support Vector Random Forest AdaBoost\n",
       "raw -0.007     0.199          0.278         0.295    0.244\n",
       "pca  0.238     0.199          0.183         0.218    0.148"
      ]
     },
     "execution_count": 51,
     "metadata": {},
     "output_type": "execute_result"
    }
   ],
   "source": [
    "hmp_means"
   ]
  },
  {
   "cell_type": "code",
   "execution_count": 52,
   "id": "spare-emergency",
   "metadata": {},
   "outputs": [
    {
     "data": {
      "text/plain": [
       "<AxesSubplot:title={'center':'Mean Scores for Short-term Prediction with HMP'}>"
      ]
     },
     "execution_count": 52,
     "metadata": {},
     "output_type": "execute_result"
    },
    {
     "data": {
      "image/png": "[encoded data removed]",
      "text/plain": [
       "<Figure size 576x288 with 1 Axes>"
      ]
     },
     "metadata": {
      "needs_background": "light"
     },
     "output_type": "display_data"
    }
   ],
   "source": [
    "hmp_means.T.plot.bar(title=f\"Mean Scores for Short-term Prediction with {HMP}\", ylim=(0.1, 0.5), rot=0, figsize=(8, 4))"
   ]
  },
  {
   "cell_type": "markdown",
   "id": "broadband-victim",
   "metadata": {},
   "source": [
    "### LBP"
   ]
  },
  {
   "cell_type": "markdown",
   "id": "middle-musical",
   "metadata": {},
   "source": [
    "#### Linear Regression"
   ]
  },
  {
   "cell_type": "code",
   "execution_count": 53,
   "id": "declared-processor",
   "metadata": {},
   "outputs": [
    {
     "name": "stdout",
     "output_type": "stream",
     "text": [
      "The Spearman's correlation coefficient for SHORT-term:\n",
      "Mean: 0.181\n",
      "Standard Deviation: 0.017\n"
     ]
    },
    {
     "data": {
      "text/plain": [
       "(LinearRegression(),\n",
       " array([0.19930193, 0.16895478, 0.19359405, 0.18726855, 0.15419126]))"
      ]
     },
     "execution_count": 53,
     "metadata": {},
     "output_type": "execute_result"
    }
   ],
   "source": [
    "cv_train_model(LBP, LN, LinearRegression(), Term.SHORT, lbp)"
   ]
  },
  {
   "cell_type": "code",
   "execution_count": 54,
   "id": "stable-virus",
   "metadata": {},
   "outputs": [
    {
     "name": "stdout",
     "output_type": "stream",
     "text": [
      "The Spearman's correlation coefficient for LONG-term:\n",
      "Mean: 0.057\n",
      "Standard Deviation: 0.012\n"
     ]
    },
    {
     "data": {
      "text/plain": [
       "(LinearRegression(),\n",
       " array([0.071378  , 0.05677746, 0.03649458, 0.05692813, 0.06575205]))"
      ]
     },
     "execution_count": 54,
     "metadata": {},
     "output_type": "execute_result"
    }
   ],
   "source": [
    "cv_train_model(LBP, LN, LinearRegression(), Term.LONG, lbp)"
   ]
  },
  {
   "cell_type": "markdown",
   "id": "operational-street",
   "metadata": {},
   "source": [
    "#### K-Nearest Neighbors Regression"
   ]
  },
  {
   "cell_type": "code",
   "execution_count": 55,
   "id": "endless-grenada",
   "metadata": {},
   "outputs": [
    {
     "name": "stdout",
     "output_type": "stream",
     "text": [
      "The Spearman's correlation coefficient for SHORT-term:\n",
      "Mean: 0.121\n",
      "Standard Deviation: 0.03\n"
     ]
    },
    {
     "data": {
      "text/plain": [
       "(KNeighborsRegressor(),\n",
       " array([0.1215393 , 0.08876908, 0.15792504, 0.15174691, 0.08653417]))"
      ]
     },
     "execution_count": 55,
     "metadata": {},
     "output_type": "execute_result"
    }
   ],
   "source": [
    "cv_train_model(LBP, KNN, KNeighborsRegressor(), Term.SHORT, lbp)"
   ]
  },
  {
   "cell_type": "code",
   "execution_count": 56,
   "id": "weighted-proposal",
   "metadata": {},
   "outputs": [
    {
     "name": "stdout",
     "output_type": "stream",
     "text": [
      "The Spearman's correlation coefficient for LONG-term:\n",
      "Mean: 0.038\n",
      "Standard Deviation: 0.017\n"
     ]
    },
    {
     "data": {
      "text/plain": [
       "(KNeighborsRegressor(),\n",
       " array([0.05529183, 0.03642678, 0.05843655, 0.01259276, 0.02673638]))"
      ]
     },
     "execution_count": 56,
     "metadata": {},
     "output_type": "execute_result"
    }
   ],
   "source": [
    "cv_train_model(LBP, KNN, KNeighborsRegressor(), Term.LONG, lbp)"
   ]
  },
  {
   "cell_type": "markdown",
   "id": "august-season",
   "metadata": {},
   "source": [
    "#### Support Vector Regression"
   ]
  },
  {
   "cell_type": "code",
   "execution_count": 57,
   "id": "still-delivery",
   "metadata": {},
   "outputs": [
    {
     "name": "stdout",
     "output_type": "stream",
     "text": [
      "The Spearman's correlation coefficient for SHORT-term:\n",
      "Mean: 0.25\n",
      "Standard Deviation: 0.026\n"
     ]
    },
    {
     "data": {
      "text/plain": [
       "(Pipeline(steps=[('standardscaler', StandardScaler()), ('svr', SVR())]),\n",
       " array([0.25350096, 0.22582873, 0.28432102, 0.27171803, 0.21462141]))"
      ]
     },
     "execution_count": 57,
     "metadata": {},
     "output_type": "execute_result"
    }
   ],
   "source": [
    "pipeline = make_pipeline(StandardScaler(), SVR())\n",
    "cv_train_model(LBP, SV, pipeline, Term.SHORT, lbp)"
   ]
  },
  {
   "cell_type": "code",
   "execution_count": 58,
   "id": "polyphonic-singles",
   "metadata": {},
   "outputs": [
    {
     "name": "stdout",
     "output_type": "stream",
     "text": [
      "The Spearman's correlation coefficient for LONG-term:\n",
      "Mean: 0.078\n",
      "Standard Deviation: 0.03\n"
     ]
    },
    {
     "data": {
      "text/plain": [
       "(Pipeline(steps=[('standardscaler', StandardScaler()), ('svr', SVR())]),\n",
       " array([0.0877247 , 0.04728393, 0.13132232, 0.07343785, 0.05223418]))"
      ]
     },
     "execution_count": 58,
     "metadata": {},
     "output_type": "execute_result"
    }
   ],
   "source": [
    "pipeline = make_pipeline(StandardScaler(), SVR())\n",
    "cv_train_model(LBP, SV, pipeline, Term.LONG, lbp)"
   ]
  },
  {
   "cell_type": "markdown",
   "id": "numerous-tender",
   "metadata": {},
   "source": [
    "#### Random Forest Regression"
   ]
  },
  {
   "cell_type": "code",
   "execution_count": 59,
   "id": "nominated-housing",
   "metadata": {},
   "outputs": [
    {
     "name": "stdout",
     "output_type": "stream",
     "text": [
      "The Spearman's correlation coefficient for SHORT-term:\n",
      "Mean: 0.279\n",
      "Standard Deviation: 0.025\n"
     ]
    },
    {
     "data": {
      "text/plain": [
       "(RandomForestRegressor(),\n",
       " array([0.3094874 , 0.25675979, 0.29282617, 0.29084536, 0.24343674]))"
      ]
     },
     "execution_count": 59,
     "metadata": {},
     "output_type": "execute_result"
    }
   ],
   "source": [
    "cv_train_model(LBP, RF, RandomForestRegressor(), Term.SHORT, lbp)"
   ]
  },
  {
   "cell_type": "code",
   "execution_count": 60,
   "id": "peripheral-great",
   "metadata": {},
   "outputs": [
    {
     "name": "stdout",
     "output_type": "stream",
     "text": [
      "The Spearman's correlation coefficient for LONG-term:\n",
      "Mean: 0.107\n",
      "Standard Deviation: 0.027\n"
     ]
    },
    {
     "data": {
      "text/plain": [
       "(RandomForestRegressor(),\n",
       " array([0.13427818, 0.10080016, 0.13678036, 0.09826947, 0.06494006]))"
      ]
     },
     "execution_count": 60,
     "metadata": {},
     "output_type": "execute_result"
    }
   ],
   "source": [
    "cv_train_model(LBP, RF, RandomForestRegressor(), Term.LONG, lbp)"
   ]
  },
  {
   "cell_type": "markdown",
   "id": "bottom-address",
   "metadata": {},
   "source": [
    "#### AdaBoost Regression"
   ]
  },
  {
   "cell_type": "code",
   "execution_count": 61,
   "id": "perceived-wealth",
   "metadata": {},
   "outputs": [
    {
     "name": "stdout",
     "output_type": "stream",
     "text": [
      "The Spearman's correlation coefficient for SHORT-term:\n",
      "Mean: 0.19\n",
      "Standard Deviation: 0.028\n"
     ]
    },
    {
     "data": {
      "text/plain": [
       "(AdaBoostRegressor(),\n",
       " array([0.22692249, 0.19166674, 0.15729033, 0.21541253, 0.15974062]))"
      ]
     },
     "execution_count": 61,
     "metadata": {},
     "output_type": "execute_result"
    }
   ],
   "source": [
    "cv_train_model(LBP, AB, AdaBoostRegressor(), Term.SHORT, lbp)"
   ]
  },
  {
   "cell_type": "code",
   "execution_count": 62,
   "id": "thick-witch",
   "metadata": {},
   "outputs": [
    {
     "name": "stdout",
     "output_type": "stream",
     "text": [
      "The Spearman's correlation coefficient for LONG-term:\n",
      "Mean: 0.066\n",
      "Standard Deviation: 0.034\n"
     ]
    },
    {
     "data": {
      "text/plain": [
       "(AdaBoostRegressor(),\n",
       " array([0.08603602, 0.07732302, 0.10869486, 0.01134471, 0.04852789]))"
      ]
     },
     "execution_count": 62,
     "metadata": {},
     "output_type": "execute_result"
    }
   ],
   "source": [
    "cv_train_model(LBP, AB, AdaBoostRegressor(), Term.LONG, lbp)"
   ]
  },
  {
   "cell_type": "code",
   "execution_count": 63,
   "id": "neither-appeal",
   "metadata": {},
   "outputs": [],
   "source": [
    "score_stats.save()"
   ]
  },
  {
   "cell_type": "markdown",
   "id": "british-pilot",
   "metadata": {},
   "source": [
    "### The Summary for Single Feature"
   ]
  },
  {
   "cell_type": "code",
   "execution_count": 64,
   "id": "industrial-cradle",
   "metadata": {},
   "outputs": [],
   "source": [
    "idx = pd.IndexSlice"
   ]
  },
  {
   "cell_type": "markdown",
   "id": "comic-thompson",
   "metadata": {},
   "source": [
    "#### Short-term Prediction"
   ]
  },
  {
   "cell_type": "code",
   "execution_count": 65,
   "id": "norwegian-attention",
   "metadata": {},
   "outputs": [
    {
     "data": {
      "text/plain": [
       "<AxesSubplot:title={'center':'Mean Scores for Short-term Prediction with Single Feature'}, xlabel='feature'>"
      ]
     },
     "execution_count": 65,
     "metadata": {},
     "output_type": "execute_result"
    },
    {
     "data": {
      "image/png": "[encoded data removed]",
      "text/plain": [
       "<Figure size 432x288 with 1 Axes>"
      ]
     },
     "metadata": {
      "needs_background": "light"
     },
     "output_type": "display_data"
    }
   ],
   "source": [
    "short_scores = score_stats[Term.SHORT].loc[idx[:, \"mean\"], :].droplevel(\"score\").loc[[C3D, HMP, LBP], :]\n",
    "short_scores.plot.bar(title=\"Mean Scores for Short-term Prediction with Single Feature\", ylim=(0, 0.5), rot=0)"
   ]
  },
  {
   "cell_type": "code",
   "execution_count": 66,
   "id": "headed-pearl",
   "metadata": {},
   "outputs": [
    {
     "data": {
      "text/plain": [
       "<AxesSubplot:title={'center':'Standard Deviations of Scores for Short-term Prediction with Single Feature'}, xlabel='feature'>"
      ]
     },
     "execution_count": 66,
     "metadata": {},
     "output_type": "execute_result"
    },
    {
     "data": {
      "image/png": "[encoded data removed]",
      "text/plain": [
       "<Figure size 432x288 with 1 Axes>"
      ]
     },
     "metadata": {
      "needs_background": "light"
     },
     "output_type": "display_data"
    }
   ],
   "source": [
    "short_scores_std = score_stats[Term.SHORT].loc[idx[:, \"std\"], :].droplevel(\"score\").loc[[C3D, HMP, LBP], :]\n",
    "short_scores_std.plot.bar(title=\"Standard Deviations of Scores for Short-term Prediction with Single Feature\", ylim=(0, 0.5), rot=0)"
   ]
  },
  {
   "cell_type": "markdown",
   "id": "saved-speech",
   "metadata": {},
   "source": [
    "#### Long-term Prediction"
   ]
  },
  {
   "cell_type": "code",
   "execution_count": 67,
   "id": "ordinary-testing",
   "metadata": {},
   "outputs": [
    {
     "data": {
      "text/plain": [
       "<AxesSubplot:title={'center':'Mean Scores for Long-term Prediction with Single Feature'}, xlabel='feature'>"
      ]
     },
     "execution_count": 67,
     "metadata": {},
     "output_type": "execute_result"
    },
    {
     "data": {
      "image/png": "[encoded data removed]",
      "text/plain": [
       "<Figure size 432x288 with 1 Axes>"
      ]
     },
     "metadata": {
      "needs_background": "light"
     },
     "output_type": "display_data"
    }
   ],
   "source": [
    "long_scores = score_stats[Term.LONG].loc[idx[:, \"mean\"], :].droplevel(\"score\").loc[[C3D, HMP, LBP], :]\n",
    "long_scores.plot.bar(title=\"Mean Scores for Long-term Prediction with Single Feature\", ylim=(0, 0.5), rot=0)"
   ]
  },
  {
   "cell_type": "code",
   "execution_count": 68,
   "id": "integrated-uniform",
   "metadata": {},
   "outputs": [
    {
     "data": {
      "text/plain": [
       "<AxesSubplot:title={'center':'Standard Deviations of Scores for Long-term Prediction with Single Feature'}, xlabel='feature'>"
      ]
     },
     "execution_count": 68,
     "metadata": {},
     "output_type": "execute_result"
    },
    {
     "data": {
      "image/png": "[encoded data removed]",
      "text/plain": [
       "<Figure size 432x288 with 1 Axes>"
      ]
     },
     "metadata": {
      "needs_background": "light"
     },
     "output_type": "display_data"
    }
   ],
   "source": [
    "long_scores_std = score_stats[Term.LONG].loc[idx[:, \"std\"], :].droplevel(\"score\").loc[[C3D, HMP, LBP], :]\n",
    "long_scores_std.plot.bar(title=\"Standard Deviations of Scores for Long-term Prediction with Single Feature\", ylim=(0, 0.5), rot=0)"
   ]
  },
  {
   "cell_type": "markdown",
   "id": "light-nutrition",
   "metadata": {},
   "source": [
    "## Experiments with Combined Features"
   ]
  },
  {
   "cell_type": "markdown",
   "id": "preliminary-setup",
   "metadata": {},
   "source": [
    "### Combining C3D with LBP"
   ]
  },
  {
   "cell_type": "code",
   "execution_count": 69,
   "id": "advance-topic",
   "metadata": {},
   "outputs": [
    {
     "data": {
      "text/plain": [
       "(6000, 467)"
      ]
     },
     "execution_count": 69,
     "metadata": {},
     "output_type": "execute_result"
    }
   ],
   "source": [
    "C3D_LBP = f\"{C3D} + {LBP}\"\n",
    "\n",
    "c3d_lbp = pd.concat([c3d, lbp], axis=\"columns\")\n",
    "c3d_lbp.shape"
   ]
  },
  {
   "cell_type": "markdown",
   "id": "outside-underground",
   "metadata": {},
   "source": [
    "#### Linear Regression"
   ]
  },
  {
   "cell_type": "code",
   "execution_count": 70,
   "id": "portable-privacy",
   "metadata": {},
   "outputs": [
    {
     "name": "stdout",
     "output_type": "stream",
     "text": [
      "The Spearman's correlation coefficient for SHORT-term:\n",
      "Mean: 0.236\n",
      "Standard Deviation: 0.016\n"
     ]
    },
    {
     "data": {
      "text/plain": [
       "(LinearRegression(),\n",
       " array([0.26038178, 0.22633661, 0.23351699, 0.24698541, 0.21336935]))"
      ]
     },
     "execution_count": 70,
     "metadata": {},
     "output_type": "execute_result"
    }
   ],
   "source": [
    "cv_train_model(C3D_LBP, LN, LinearRegression(), Term.SHORT, c3d_lbp)"
   ]
  },
  {
   "cell_type": "code",
   "execution_count": 71,
   "id": "compact-spanish",
   "metadata": {},
   "outputs": [
    {
     "name": "stdout",
     "output_type": "stream",
     "text": [
      "The Spearman's correlation coefficient for LONG-term:\n",
      "Mean: 0.082\n",
      "Standard Deviation: 0.015\n"
     ]
    },
    {
     "data": {
      "text/plain": [
       "(LinearRegression(),\n",
       " array([0.10055072, 0.08666227, 0.05350439, 0.08420816, 0.08285959]))"
      ]
     },
     "execution_count": 71,
     "metadata": {},
     "output_type": "execute_result"
    }
   ],
   "source": [
    "cv_train_model(C3D_LBP, LN, LinearRegression(), Term.LONG, c3d_lbp)"
   ]
  },
  {
   "cell_type": "markdown",
   "id": "organized-missile",
   "metadata": {},
   "source": [
    "#### K-Nearest Neighbors Regression"
   ]
  },
  {
   "cell_type": "code",
   "execution_count": 72,
   "id": "delayed-glucose",
   "metadata": {},
   "outputs": [
    {
     "name": "stdout",
     "output_type": "stream",
     "text": [
      "The Spearman's correlation coefficient for SHORT-term:\n",
      "Mean: 0.219\n",
      "Standard Deviation: 0.022\n"
     ]
    },
    {
     "data": {
      "text/plain": [
       "(Pipeline(steps=[('standardscaler', StandardScaler()),\n",
       "                 ('kneighborsregressor', KNeighborsRegressor())]),\n",
       " array([0.22824399, 0.17658848, 0.22001945, 0.23514478, 0.23255392]))"
      ]
     },
     "execution_count": 72,
     "metadata": {},
     "output_type": "execute_result"
    }
   ],
   "source": [
    "pipeline = make_pipeline(StandardScaler(), KNeighborsRegressor())\n",
    "cv_train_model(C3D_LBP, KNN, pipeline, Term.SHORT, c3d_lbp)"
   ]
  },
  {
   "cell_type": "code",
   "execution_count": 73,
   "id": "challenging-efficiency",
   "metadata": {},
   "outputs": [
    {
     "name": "stdout",
     "output_type": "stream",
     "text": [
      "The Spearman's correlation coefficient for LONG-term:\n",
      "Mean: 0.033\n",
      "Standard Deviation: 0.015\n"
     ]
    },
    {
     "data": {
      "text/plain": [
       "(Pipeline(steps=[('standardscaler', StandardScaler()),\n",
       "                 ('kneighborsregressor', KNeighborsRegressor())]),\n",
       " array([0.03067299, 0.00717722, 0.05176777, 0.030729  , 0.04275836]))"
      ]
     },
     "execution_count": 73,
     "metadata": {},
     "output_type": "execute_result"
    }
   ],
   "source": [
    "pipeline = make_pipeline(StandardScaler(), KNeighborsRegressor())\n",
    "cv_train_model(C3D_LBP, KNN, pipeline, Term.LONG, c3d_lbp)"
   ]
  },
  {
   "cell_type": "markdown",
   "id": "broad-belly",
   "metadata": {},
   "source": [
    "#### Support Vector Regression"
   ]
  },
  {
   "cell_type": "code",
   "execution_count": 74,
   "id": "third-equality",
   "metadata": {},
   "outputs": [
    {
     "name": "stdout",
     "output_type": "stream",
     "text": [
      "The Spearman's correlation coefficient for SHORT-term:\n",
      "Mean: 0.264\n",
      "Standard Deviation: 0.029\n"
     ]
    },
    {
     "data": {
      "text/plain": [
       "(Pipeline(steps=[('standardscaler', StandardScaler()), ('svr', SVR())]),\n",
       " array([0.28919507, 0.23567069, 0.27020339, 0.29952609, 0.22520898]))"
      ]
     },
     "execution_count": 74,
     "metadata": {},
     "output_type": "execute_result"
    }
   ],
   "source": [
    "pipeline = make_pipeline(StandardScaler(), SVR())\n",
    "cv_train_model(C3D_LBP, SV, pipeline, Term.SHORT, c3d_lbp)"
   ]
  },
  {
   "cell_type": "code",
   "execution_count": 75,
   "id": "systematic-metropolitan",
   "metadata": {},
   "outputs": [
    {
     "name": "stdout",
     "output_type": "stream",
     "text": [
      "The Spearman's correlation coefficient for LONG-term:\n",
      "Mean: 0.094\n",
      "Standard Deviation: 0.041\n"
     ]
    },
    {
     "data": {
      "text/plain": [
       "(Pipeline(steps=[('standardscaler', StandardScaler()), ('svr', SVR())]),\n",
       " array([0.12115682, 0.06815371, 0.16152493, 0.04840749, 0.07041769]))"
      ]
     },
     "execution_count": 75,
     "metadata": {},
     "output_type": "execute_result"
    }
   ],
   "source": [
    "pipeline = make_pipeline(StandardScaler(), SVR())\n",
    "cv_train_model(C3D_LBP, SV, pipeline, Term.LONG, c3d_lbp)"
   ]
  },
  {
   "cell_type": "markdown",
   "id": "instructional-tactics",
   "metadata": {},
   "source": [
    "#### Random Forest Regression"
   ]
  },
  {
   "cell_type": "code",
   "execution_count": 76,
   "id": "russian-treasury",
   "metadata": {},
   "outputs": [
    {
     "name": "stdout",
     "output_type": "stream",
     "text": [
      "The Spearman's correlation coefficient for SHORT-term:\n",
      "Mean: 0.316\n",
      "Standard Deviation: 0.021\n"
     ]
    },
    {
     "data": {
      "text/plain": [
       "(RandomForestRegressor(),\n",
       " array([0.34419746, 0.29220786, 0.33134563, 0.32079081, 0.29309108]))"
      ]
     },
     "execution_count": 76,
     "metadata": {},
     "output_type": "execute_result"
    }
   ],
   "source": [
    "cv_train_model(C3D_LBP, RF, RandomForestRegressor(), Term.SHORT, c3d_lbp)"
   ]
  },
  {
   "cell_type": "code",
   "execution_count": 77,
   "id": "australian-germany",
   "metadata": {},
   "outputs": [
    {
     "name": "stdout",
     "output_type": "stream",
     "text": [
      "The Spearman's correlation coefficient for LONG-term:\n",
      "Mean: 0.144\n",
      "Standard Deviation: 0.023\n"
     ]
    },
    {
     "data": {
      "text/plain": [
       "(RandomForestRegressor(),\n",
       " array([0.14992914, 0.13617923, 0.18510765, 0.1308762 , 0.11998597]))"
      ]
     },
     "execution_count": 77,
     "metadata": {},
     "output_type": "execute_result"
    }
   ],
   "source": [
    "cv_train_model(C3D_LBP, RF, RandomForestRegressor(), Term.LONG, c3d_lbp)"
   ]
  },
  {
   "cell_type": "markdown",
   "id": "accompanied-filling",
   "metadata": {},
   "source": [
    "#### AdaBoost Regression"
   ]
  },
  {
   "cell_type": "code",
   "execution_count": 78,
   "id": "amber-restaurant",
   "metadata": {},
   "outputs": [
    {
     "name": "stdout",
     "output_type": "stream",
     "text": [
      "The Spearman's correlation coefficient for SHORT-term:\n",
      "Mean: 0.26\n",
      "Standard Deviation: 0.013\n"
     ]
    },
    {
     "data": {
      "text/plain": [
       "(AdaBoostRegressor(),\n",
       " array([0.27785572, 0.24124319, 0.25656546, 0.25410424, 0.27108756]))"
      ]
     },
     "execution_count": 78,
     "metadata": {},
     "output_type": "execute_result"
    }
   ],
   "source": [
    "cv_train_model(C3D_LBP, AB, AdaBoostRegressor(), Term.SHORT, c3d_lbp)"
   ]
  },
  {
   "cell_type": "code",
   "execution_count": 79,
   "id": "infinite-jaguar",
   "metadata": {},
   "outputs": [
    {
     "name": "stdout",
     "output_type": "stream",
     "text": [
      "The Spearman's correlation coefficient for LONG-term:\n",
      "Mean: 0.107\n",
      "Standard Deviation: 0.018\n"
     ]
    },
    {
     "data": {
      "text/plain": [
       "(AdaBoostRegressor(),\n",
       " array([0.1253641 , 0.08998394, 0.1241136 , 0.08059427, 0.11475855]))"
      ]
     },
     "execution_count": 79,
     "metadata": {},
     "output_type": "execute_result"
    }
   ],
   "source": [
    "cv_train_model(C3D_LBP, AB, AdaBoostRegressor(), Term.LONG, c3d_lbp)"
   ]
  },
  {
   "cell_type": "code",
   "execution_count": 80,
   "id": "objective-coordinator",
   "metadata": {},
   "outputs": [],
   "source": [
    "score_stats.save()"
   ]
  },
  {
   "cell_type": "markdown",
   "id": "fantastic-bacon",
   "metadata": {},
   "source": [
    "### Combining C3D with HMP"
   ]
  },
  {
   "cell_type": "code",
   "execution_count": 81,
   "id": "confident-skating",
   "metadata": {},
   "outputs": [
    {
     "data": {
      "text/plain": [
       "(6000, 6176)"
      ]
     },
     "execution_count": 81,
     "metadata": {},
     "output_type": "execute_result"
    }
   ],
   "source": [
    "C3D_HMP = f\"{C3D} + {HMP}\"\n",
    "\n",
    "c3d_hmp = pd.concat([c3d, hmp], axis=\"columns\")\n",
    "c3d_hmp.shape"
   ]
  },
  {
   "cell_type": "markdown",
   "id": "focused-fourth",
   "metadata": {},
   "source": [
    "#### Linear Regression"
   ]
  },
  {
   "cell_type": "code",
   "execution_count": 82,
   "id": "surprising-property",
   "metadata": {},
   "outputs": [
    {
     "name": "stdout",
     "output_type": "stream",
     "text": [
      "The Spearman's correlation coefficient for SHORT-term:\n",
      "Mean: 0.007\n",
      "Standard Deviation: 0.023\n"
     ]
    },
    {
     "data": {
      "text/plain": [
       "(LinearRegression(),\n",
       " array([-0.03681251,  0.00791229,  0.03210561,  0.01823191,  0.01239068]))"
      ]
     },
     "execution_count": 82,
     "metadata": {},
     "output_type": "execute_result"
    }
   ],
   "source": [
    "cv_train_model(C3D_HMP, LN, LinearRegression(), Term.SHORT, c3d_hmp)"
   ]
  },
  {
   "cell_type": "code",
   "execution_count": 83,
   "id": "little-medication",
   "metadata": {},
   "outputs": [
    {
     "name": "stdout",
     "output_type": "stream",
     "text": [
      "The Spearman's correlation coefficient for LONG-term:\n",
      "Mean: -0.007\n",
      "Standard Deviation: 0.032\n"
     ]
    },
    {
     "data": {
      "text/plain": [
       "(LinearRegression(),\n",
       " array([-0.03291512, -0.04893891, -0.00786063,  0.01324054,  0.03966713]))"
      ]
     },
     "execution_count": 83,
     "metadata": {},
     "output_type": "execute_result"
    }
   ],
   "source": [
    "cv_train_model(C3D_HMP, LN, LinearRegression(), Term.LONG, c3d_hmp)"
   ]
  },
  {
   "cell_type": "markdown",
   "id": "dressed-origin",
   "metadata": {},
   "source": [
    "#### K-Nearest Neighbors Regression"
   ]
  },
  {
   "cell_type": "code",
   "execution_count": 84,
   "id": "alive-finding",
   "metadata": {},
   "outputs": [
    {
     "name": "stdout",
     "output_type": "stream",
     "text": [
      "The Spearman's correlation coefficient for SHORT-term:\n",
      "Mean: 0.199\n",
      "Standard Deviation: 0.028\n"
     ]
    },
    {
     "data": {
      "text/plain": [
       "(Pipeline(steps=[('standardscaler', StandardScaler()),\n",
       "                 ('kneighborsregressor', KNeighborsRegressor())]),\n",
       " array([0.21398681, 0.15499483, 0.17730041, 0.22762491, 0.22229918]))"
      ]
     },
     "execution_count": 84,
     "metadata": {},
     "output_type": "execute_result"
    }
   ],
   "source": [
    "pipeline = make_pipeline(StandardScaler(), KNeighborsRegressor())\n",
    "cv_train_model(C3D_HMP, KNN, pipeline, Term.SHORT, c3d_hmp)"
   ]
  },
  {
   "cell_type": "code",
   "execution_count": 85,
   "id": "polyphonic-restriction",
   "metadata": {},
   "outputs": [
    {
     "name": "stdout",
     "output_type": "stream",
     "text": [
      "The Spearman's correlation coefficient for LONG-term:\n",
      "Mean: 0.064\n",
      "Standard Deviation: 0.013\n"
     ]
    },
    {
     "data": {
      "text/plain": [
       "(Pipeline(steps=[('standardscaler', StandardScaler()),\n",
       "                 ('kneighborsregressor', KNeighborsRegressor())]),\n",
       " array([0.05046421, 0.07751766, 0.04652119, 0.07224632, 0.07226793]))"
      ]
     },
     "execution_count": 85,
     "metadata": {},
     "output_type": "execute_result"
    }
   ],
   "source": [
    "pipeline = make_pipeline(StandardScaler(), KNeighborsRegressor())\n",
    "cv_train_model(C3D_HMP, KNN, pipeline, Term.LONG, c3d_hmp)"
   ]
  },
  {
   "cell_type": "markdown",
   "id": "motivated-arrival",
   "metadata": {},
   "source": [
    "#### Support Vector Regression"
   ]
  },
  {
   "cell_type": "code",
   "execution_count": 86,
   "id": "about-quantity",
   "metadata": {},
   "outputs": [
    {
     "name": "stdout",
     "output_type": "stream",
     "text": [
      "The Spearman's correlation coefficient for SHORT-term:\n",
      "Mean: 0.292\n",
      "Standard Deviation: 0.02\n"
     ]
    },
    {
     "data": {
      "text/plain": [
       "(Pipeline(steps=[('standardscaler', StandardScaler()), ('svr', SVR())]),\n",
       " array([0.30912377, 0.30517416, 0.26718943, 0.30911242, 0.26820882]))"
      ]
     },
     "execution_count": 86,
     "metadata": {},
     "output_type": "execute_result"
    }
   ],
   "source": [
    "pipeline = make_pipeline(StandardScaler(), SVR())\n",
    "cv_train_model(C3D_HMP, SV, pipeline, Term.SHORT, c3d_hmp)"
   ]
  },
  {
   "cell_type": "code",
   "execution_count": 87,
   "id": "premier-agreement",
   "metadata": {},
   "outputs": [
    {
     "name": "stdout",
     "output_type": "stream",
     "text": [
      "The Spearman's correlation coefficient for LONG-term:\n",
      "Mean: 0.114\n",
      "Standard Deviation: 0.021\n"
     ]
    },
    {
     "data": {
      "text/plain": [
       "(Pipeline(steps=[('standardscaler', StandardScaler()), ('svr', SVR())]),\n",
       " array([0.10794426, 0.08849374, 0.11845986, 0.10380205, 0.15080691]))"
      ]
     },
     "execution_count": 87,
     "metadata": {},
     "output_type": "execute_result"
    }
   ],
   "source": [
    "pipeline = make_pipeline(StandardScaler(), SVR())\n",
    "cv_train_model(C3D_HMP, SV, pipeline, Term.LONG, c3d_hmp)"
   ]
  },
  {
   "cell_type": "markdown",
   "id": "returning-quilt",
   "metadata": {},
   "source": [
    "#### Random Forest Regression"
   ]
  },
  {
   "cell_type": "code",
   "execution_count": 88,
   "id": "placed-polyester",
   "metadata": {},
   "outputs": [
    {
     "name": "stdout",
     "output_type": "stream",
     "text": [
      "The Spearman's correlation coefficient for SHORT-term:\n",
      "Mean: 0.334\n",
      "Standard Deviation: 0.008\n"
     ]
    },
    {
     "data": {
      "text/plain": [
       "(RandomForestRegressor(),\n",
       " array([0.33115097, 0.3308327 , 0.33429792, 0.34823628, 0.32387588]))"
      ]
     },
     "execution_count": 88,
     "metadata": {},
     "output_type": "execute_result"
    }
   ],
   "source": [
    "cv_train_model(C3D_HMP, RF, RandomForestRegressor(), Term.SHORT, c3d_hmp)"
   ]
  },
  {
   "cell_type": "code",
   "execution_count": 89,
   "id": "promotional-detroit",
   "metadata": {},
   "outputs": [
    {
     "name": "stdout",
     "output_type": "stream",
     "text": [
      "The Spearman's correlation coefficient for LONG-term:\n",
      "Mean: 0.133\n",
      "Standard Deviation: 0.02\n"
     ]
    },
    {
     "data": {
      "text/plain": [
       "(RandomForestRegressor(),\n",
       " array([0.11342395, 0.13046951, 0.14726467, 0.11224864, 0.16291996]))"
      ]
     },
     "execution_count": 89,
     "metadata": {},
     "output_type": "execute_result"
    }
   ],
   "source": [
    "cv_train_model(C3D_HMP, RF, RandomForestRegressor(), Term.LONG, c3d_hmp)"
   ]
  },
  {
   "cell_type": "markdown",
   "id": "stretch-insert",
   "metadata": {},
   "source": [
    "#### AdaBoost Regression"
   ]
  },
  {
   "cell_type": "code",
   "execution_count": 90,
   "id": "expensive-spiritual",
   "metadata": {},
   "outputs": [
    {
     "name": "stdout",
     "output_type": "stream",
     "text": [
      "The Spearman's correlation coefficient for SHORT-term:\n",
      "Mean: 0.269\n",
      "Standard Deviation: 0.015\n"
     ]
    },
    {
     "data": {
      "text/plain": [
       "(AdaBoostRegressor(),\n",
       " array([0.29494693, 0.26243597, 0.25462224, 0.27622002, 0.25915553]))"
      ]
     },
     "execution_count": 90,
     "metadata": {},
     "output_type": "execute_result"
    }
   ],
   "source": [
    "cv_train_model(C3D_HMP, AB, AdaBoostRegressor(), Term.SHORT, c3d_hmp)"
   ]
  },
  {
   "cell_type": "code",
   "execution_count": 91,
   "id": "established-arbitration",
   "metadata": {},
   "outputs": [
    {
     "name": "stdout",
     "output_type": "stream",
     "text": [
      "The Spearman's correlation coefficient for LONG-term:\n",
      "Mean: 0.09\n",
      "Standard Deviation: 0.02\n"
     ]
    },
    {
     "data": {
      "text/plain": [
       "(AdaBoostRegressor(),\n",
       " array([0.06314846, 0.07966824, 0.12164238, 0.08299214, 0.10212648]))"
      ]
     },
     "execution_count": 91,
     "metadata": {},
     "output_type": "execute_result"
    }
   ],
   "source": [
    "cv_train_model(C3D_HMP, AB, AdaBoostRegressor(), Term.LONG, c3d_hmp)"
   ]
  },
  {
   "cell_type": "code",
   "execution_count": 92,
   "id": "failing-transportation",
   "metadata": {},
   "outputs": [],
   "source": [
    "score_stats.save()"
   ]
  },
  {
   "cell_type": "markdown",
   "id": "positive-mixer",
   "metadata": {},
   "source": [
    "### Combining LBP with HMP"
   ]
  },
  {
   "cell_type": "code",
   "execution_count": 93,
   "id": "emotional-yahoo",
   "metadata": {},
   "outputs": [
    {
     "data": {
      "text/plain": [
       "(6000, 6441)"
      ]
     },
     "execution_count": 93,
     "metadata": {},
     "output_type": "execute_result"
    }
   ],
   "source": [
    "LBP_HMP = f\"{LBP} + {HMP}\"\n",
    "\n",
    "lbp_hmp = pd.concat([lbp, hmp], axis=\"columns\")\n",
    "lbp_hmp.shape"
   ]
  },
  {
   "cell_type": "markdown",
   "id": "outside-sleeve",
   "metadata": {},
   "source": [
    "#### Linear Regression"
   ]
  },
  {
   "cell_type": "code",
   "execution_count": 94,
   "id": "organic-volleyball",
   "metadata": {},
   "outputs": [
    {
     "name": "stdout",
     "output_type": "stream",
     "text": [
      "The Spearman's correlation coefficient for SHORT-term:\n",
      "Mean: -0.007\n",
      "Standard Deviation: 0.026\n"
     ]
    },
    {
     "data": {
      "text/plain": [
       "(LinearRegression(),\n",
       " array([ 0.01883923,  0.01095574,  0.0107493 , -0.03692269, -0.04087699]))"
      ]
     },
     "execution_count": 94,
     "metadata": {},
     "output_type": "execute_result"
    }
   ],
   "source": [
    "cv_train_model(LBP_HMP, LN, LinearRegression(), Term.SHORT, lbp_hmp)"
   ]
  },
  {
   "cell_type": "code",
   "execution_count": 95,
   "id": "final-exception",
   "metadata": {},
   "outputs": [
    {
     "name": "stdout",
     "output_type": "stream",
     "text": [
      "The Spearman's correlation coefficient for LONG-term:\n",
      "Mean: -0.005\n",
      "Standard Deviation: 0.027\n"
     ]
    },
    {
     "data": {
      "text/plain": [
       "(LinearRegression(),\n",
       " array([ 0.00281515,  0.01283537,  0.02140964, -0.05489063, -0.00848882]))"
      ]
     },
     "execution_count": 95,
     "metadata": {},
     "output_type": "execute_result"
    }
   ],
   "source": [
    "cv_train_model(LBP_HMP, LN, LinearRegression(), Term.LONG, lbp_hmp)"
   ]
  },
  {
   "cell_type": "markdown",
   "id": "uniform-manner",
   "metadata": {},
   "source": [
    "#### K-Nearest Neighbors Regression"
   ]
  },
  {
   "cell_type": "code",
   "execution_count": 96,
   "id": "central-cliff",
   "metadata": {},
   "outputs": [
    {
     "name": "stdout",
     "output_type": "stream",
     "text": [
      "The Spearman's correlation coefficient for SHORT-term:\n",
      "Mean: 0.222\n",
      "Standard Deviation: 0.022\n"
     ]
    },
    {
     "data": {
      "text/plain": [
       "(Pipeline(steps=[('standardscaler', StandardScaler()),\n",
       "                 ('kneighborsregressor', KNeighborsRegressor())]),\n",
       " array([0.22638117, 0.19481521, 0.20279712, 0.25536521, 0.23300493]))"
      ]
     },
     "execution_count": 96,
     "metadata": {},
     "output_type": "execute_result"
    }
   ],
   "source": [
    "pipeline = make_pipeline(StandardScaler(), KNeighborsRegressor())\n",
    "cv_train_model(LBP_HMP, KNN, pipeline, Term.SHORT, lbp_hmp)"
   ]
  },
  {
   "cell_type": "code",
   "execution_count": 97,
   "id": "welcome-cornwall",
   "metadata": {},
   "outputs": [
    {
     "name": "stdout",
     "output_type": "stream",
     "text": [
      "The Spearman's correlation coefficient for LONG-term:\n",
      "Mean: 0.044\n",
      "Standard Deviation: 0.015\n"
     ]
    },
    {
     "data": {
      "text/plain": [
       "(Pipeline(steps=[('standardscaler', StandardScaler()),\n",
       "                 ('kneighborsregressor', KNeighborsRegressor())]),\n",
       " array([0.04851123, 0.03399041, 0.02014926, 0.05434482, 0.06065265]))"
      ]
     },
     "execution_count": 97,
     "metadata": {},
     "output_type": "execute_result"
    }
   ],
   "source": [
    "pipeline = make_pipeline(StandardScaler(), KNeighborsRegressor())\n",
    "cv_train_model(LBP_HMP, KNN, pipeline, Term.LONG, lbp_hmp)"
   ]
  },
  {
   "cell_type": "markdown",
   "id": "second-dining",
   "metadata": {},
   "source": [
    "#### Support Vector Regression"
   ]
  },
  {
   "cell_type": "code",
   "execution_count": 98,
   "id": "controlled-medicare",
   "metadata": {},
   "outputs": [
    {
     "name": "stdout",
     "output_type": "stream",
     "text": [
      "The Spearman's correlation coefficient for SHORT-term:\n",
      "Mean: 0.29\n",
      "Standard Deviation: 0.018\n"
     ]
    },
    {
     "data": {
      "text/plain": [
       "(Pipeline(steps=[('standardscaler', StandardScaler()), ('svr', SVR())]),\n",
       " array([0.31500076, 0.2875023 , 0.27339231, 0.30572753, 0.26859232]))"
      ]
     },
     "execution_count": 98,
     "metadata": {},
     "output_type": "execute_result"
    }
   ],
   "source": [
    "pipeline = make_pipeline(StandardScaler(), SVR())\n",
    "cv_train_model(LBP_HMP, SV, pipeline, Term.SHORT, lbp_hmp)"
   ]
  },
  {
   "cell_type": "code",
   "execution_count": 99,
   "id": "wireless-possibility",
   "metadata": {},
   "outputs": [
    {
     "name": "stdout",
     "output_type": "stream",
     "text": [
      "The Spearman's correlation coefficient for LONG-term:\n",
      "Mean: 0.112\n",
      "Standard Deviation: 0.029\n"
     ]
    },
    {
     "data": {
      "text/plain": [
       "(Pipeline(steps=[('standardscaler', StandardScaler()), ('svr', SVR())]),\n",
       " array([0.09202775, 0.07366584, 0.13987735, 0.10467102, 0.1513153 ]))"
      ]
     },
     "execution_count": 99,
     "metadata": {},
     "output_type": "execute_result"
    }
   ],
   "source": [
    "pipeline = make_pipeline(StandardScaler(), SVR())\n",
    "cv_train_model(LBP_HMP, SV, pipeline, Term.LONG, lbp_hmp)"
   ]
  },
  {
   "cell_type": "markdown",
   "id": "fallen-supervision",
   "metadata": {},
   "source": [
    "#### Random Forest Regression"
   ]
  },
  {
   "cell_type": "code",
   "execution_count": 100,
   "id": "delayed-dancing",
   "metadata": {},
   "outputs": [
    {
     "name": "stdout",
     "output_type": "stream",
     "text": [
      "The Spearman's correlation coefficient for SHORT-term:\n",
      "Mean: 0.325\n",
      "Standard Deviation: 0.014\n"
     ]
    },
    {
     "data": {
      "text/plain": [
       "(RandomForestRegressor(),\n",
       " array([0.31954637, 0.31260434, 0.34052542, 0.34218808, 0.31076849]))"
      ]
     },
     "execution_count": 100,
     "metadata": {},
     "output_type": "execute_result"
    }
   ],
   "source": [
    "cv_train_model(LBP_HMP, RF, RandomForestRegressor(), Term.SHORT, lbp_hmp)"
   ]
  },
  {
   "cell_type": "code",
   "execution_count": 101,
   "id": "unlikely-newman",
   "metadata": {},
   "outputs": [
    {
     "name": "stdout",
     "output_type": "stream",
     "text": [
      "The Spearman's correlation coefficient for LONG-term:\n",
      "Mean: 0.114\n",
      "Standard Deviation: 0.032\n"
     ]
    },
    {
     "data": {
      "text/plain": [
       "(RandomForestRegressor(),\n",
       " array([0.07792983, 0.10177548, 0.16513934, 0.0893836 , 0.13402536]))"
      ]
     },
     "execution_count": 101,
     "metadata": {},
     "output_type": "execute_result"
    }
   ],
   "source": [
    "cv_train_model(LBP_HMP, RF, RandomForestRegressor(), Term.LONG, lbp_hmp)"
   ]
  },
  {
   "cell_type": "markdown",
   "id": "corresponding-demographic",
   "metadata": {},
   "source": [
    "#### AdaBoost Regression"
   ]
  },
  {
   "cell_type": "code",
   "execution_count": 102,
   "id": "sufficient-transfer",
   "metadata": {},
   "outputs": [
    {
     "name": "stdout",
     "output_type": "stream",
     "text": [
      "The Spearman's correlation coefficient for SHORT-term:\n",
      "Mean: 0.259\n",
      "Standard Deviation: 0.008\n"
     ]
    },
    {
     "data": {
      "text/plain": [
       "(AdaBoostRegressor(),\n",
       " array([0.26145191, 0.24558372, 0.26167549, 0.26996035, 0.25612793]))"
      ]
     },
     "execution_count": 102,
     "metadata": {},
     "output_type": "execute_result"
    }
   ],
   "source": [
    "cv_train_model(LBP_HMP, AB, AdaBoostRegressor(), Term.SHORT, lbp_hmp)"
   ]
  },
  {
   "cell_type": "code",
   "execution_count": 103,
   "id": "revised-restoration",
   "metadata": {},
   "outputs": [
    {
     "name": "stdout",
     "output_type": "stream",
     "text": [
      "The Spearman's correlation coefficient for LONG-term:\n",
      "Mean: 0.079\n",
      "Standard Deviation: 0.035\n"
     ]
    },
    {
     "data": {
      "text/plain": [
       "(AdaBoostRegressor(),\n",
       " array([0.01709626, 0.12046151, 0.10046131, 0.07000814, 0.08677149]))"
      ]
     },
     "execution_count": 103,
     "metadata": {},
     "output_type": "execute_result"
    }
   ],
   "source": [
    "cv_train_model(LBP_HMP, AB, AdaBoostRegressor(), Term.LONG, lbp_hmp)"
   ]
  },
  {
   "cell_type": "code",
   "execution_count": 104,
   "id": "composite-cincinnati",
   "metadata": {},
   "outputs": [],
   "source": [
    "score_stats.save()"
   ]
  },
  {
   "cell_type": "markdown",
   "id": "loved-ballet",
   "metadata": {},
   "source": [
    "### The Summary for Combined Features"
   ]
  },
  {
   "cell_type": "code",
   "execution_count": 105,
   "id": "studied-ceramic",
   "metadata": {},
   "outputs": [],
   "source": [
    "idx = pd.IndexSlice"
   ]
  },
  {
   "cell_type": "markdown",
   "id": "informational-april",
   "metadata": {},
   "source": [
    "#### Short-term Prediction"
   ]
  },
  {
   "cell_type": "code",
   "execution_count": 106,
   "id": "starting-gregory",
   "metadata": {},
   "outputs": [
    {
     "data": {
      "text/plain": [
       "<AxesSubplot:title={'center':'Mean Scores for Short-term Prediction with Combined Features'}, xlabel='feature'>"
      ]
     },
     "execution_count": 106,
     "metadata": {},
     "output_type": "execute_result"
    },
    {
     "data": {
      "image/png": "[encoded data removed]",
      "text/plain": [
       "<Figure size 432x288 with 1 Axes>"
      ]
     },
     "metadata": {
      "needs_background": "light"
     },
     "output_type": "display_data"
    }
   ],
   "source": [
    "short_scores = score_stats[Term.SHORT].loc[idx[:, \"mean\"], :].droplevel(\"score\").loc[[C3D_LBP, C3D_HMP, LBP_HMP], :]\n",
    "short_scores.plot.bar(title=\"Mean Scores for Short-term Prediction with Combined Features\", ylim=(0, 0.5), rot=0)"
   ]
  },
  {
   "cell_type": "code",
   "execution_count": 107,
   "id": "assigned-federation",
   "metadata": {},
   "outputs": [
    {
     "data": {
      "text/plain": [
       "<AxesSubplot:title={'center':'Standard Deviations of Scores for Short-term Prediction with Combined Features'}, xlabel='feature'>"
      ]
     },
     "execution_count": 107,
     "metadata": {},
     "output_type": "execute_result"
    },
    {
     "data": {
      "image/png": "[encoded data removed]",
      "text/plain": [
       "<Figure size 432x288 with 1 Axes>"
      ]
     },
     "metadata": {
      "needs_background": "light"
     },
     "output_type": "display_data"
    }
   ],
   "source": [
    "short_scores_std = score_stats[Term.SHORT].loc[idx[:, \"std\"], :].droplevel(\"score\").loc[[C3D_LBP, C3D_HMP, LBP_HMP], :]\n",
    "short_scores_std.plot.bar(title=\"Standard Deviations of Scores for Short-term Prediction with Combined Features\", ylim=(0, 0.5), rot=0)"
   ]
  },
  {
   "cell_type": "markdown",
   "id": "voluntary-seafood",
   "metadata": {},
   "source": [
    "#### Long-term Prediction"
   ]
  },
  {
   "cell_type": "code",
   "execution_count": 108,
   "id": "unauthorized-spectacular",
   "metadata": {},
   "outputs": [
    {
     "data": {
      "text/plain": [
       "<AxesSubplot:title={'center':'Mean Scores for Long-term Prediction with Combined Features'}, xlabel='feature'>"
      ]
     },
     "execution_count": 108,
     "metadata": {},
     "output_type": "execute_result"
    },
    {
     "data": {
      "image/png": "[encoded data removed]",
      "text/plain": [
       "<Figure size 432x288 with 1 Axes>"
      ]
     },
     "metadata": {
      "needs_background": "light"
     },
     "output_type": "display_data"
    }
   ],
   "source": [
    "long_scores = score_stats[Term.LONG].loc[idx[:, \"mean\"], :].droplevel(\"score\").loc[[C3D_LBP, C3D_HMP, LBP_HMP], :]\n",
    "long_scores.plot.bar(title=\"Mean Scores for Long-term Prediction with Combined Features\", ylim=(0, 0.5), rot=0)"
   ]
  },
  {
   "cell_type": "code",
   "execution_count": 109,
   "id": "unexpected-bonus",
   "metadata": {},
   "outputs": [
    {
     "data": {
      "text/plain": [
       "<AxesSubplot:title={'center':'Standard Deviations of Scores for Long-term Prediction with Combined Features'}, xlabel='feature'>"
      ]
     },
     "execution_count": 109,
     "metadata": {},
     "output_type": "execute_result"
    },
    {
     "data": {
      "image/png": "[encoded data removed]",
      "text/plain": [
       "<Figure size 432x288 with 1 Axes>"
      ]
     },
     "metadata": {
      "needs_background": "light"
     },
     "output_type": "display_data"
    }
   ],
   "source": [
    "long_scores_std = score_stats[Term.LONG].loc[idx[:, \"std\"], :].droplevel(\"score\").loc[[C3D_LBP, C3D_HMP, LBP_HMP], :]\n",
    "long_scores_std.plot.bar(title=\"Standard Deviations of Scores for Long-term Prediction with Combined Features\", ylim=(0, 0.5), rot=0)"
   ]
  },
  {
   "cell_type": "markdown",
   "id": "fancy-creativity",
   "metadata": {},
   "source": [
    "## Choosing the Best Feature and Model"
   ]
  },
  {
   "cell_type": "code",
   "execution_count": 110,
   "id": "quiet-electron",
   "metadata": {},
   "outputs": [],
   "source": [
    "idx = pd.IndexSlice"
   ]
  },
  {
   "cell_type": "code",
   "execution_count": 111,
   "id": "roman-blanket",
   "metadata": {},
   "outputs": [],
   "source": [
    "def show_feature_importances(vals: Sequence[float], title: str) -> None:\n",
    "    \"\"\"\n",
    "    Show feature importances.\n",
    "    \"\"\"\n",
    "    plt.figure(figsize=(10, 5))\n",
    "    plt.bar(range(len(vals)), vals, align=\"center\")\n",
    "    plt.ylim([0, 0.03])\n",
    "    plt.xlabel(\"Features\")\n",
    "    plt.ylabel(\"Importance\")\n",
    "    plt.title(title)\n",
    "    plt.show()"
   ]
  },
  {
   "cell_type": "markdown",
   "id": "standing-dylan",
   "metadata": {},
   "source": [
    "### Short-term Prediction"
   ]
  },
  {
   "cell_type": "code",
   "execution_count": 112,
   "id": "honey-trash",
   "metadata": {},
   "outputs": [
    {
     "data": {
      "text/html": [
       "<div>\n",
       "<style scoped>\n",
       "    .dataframe tbody tr th:only-of-type {\n",
       "        vertical-align: middle;\n",
       "    }\n",
       "\n",
       "    .dataframe tbody tr th {\n",
       "        vertical-align: top;\n",
       "    }\n",
       "\n",
       "    .dataframe thead th {\n",
       "        text-align: right;\n",
       "    }\n",
       "</style>\n",
       "<table border=\"1\" class=\"dataframe\">\n",
       "  <thead>\n",
       "    <tr style=\"text-align: right;\">\n",
       "      <th></th>\n",
       "      <th>Linear</th>\n",
       "      <th>K-Nearest</th>\n",
       "      <th>Support Vector</th>\n",
       "      <th>Random Forest</th>\n",
       "      <th>AdaBoost</th>\n",
       "    </tr>\n",
       "    <tr>\n",
       "      <th>feature</th>\n",
       "      <th></th>\n",
       "      <th></th>\n",
       "      <th></th>\n",
       "      <th></th>\n",
       "      <th></th>\n",
       "    </tr>\n",
       "  </thead>\n",
       "  <tbody>\n",
       "    <tr>\n",
       "      <th>C3D</th>\n",
       "      <td>0.276</td>\n",
       "      <td>0.183</td>\n",
       "      <td>0.248</td>\n",
       "      <td>0.304</td>\n",
       "      <td>0.257</td>\n",
       "    </tr>\n",
       "    <tr>\n",
       "      <th>HMP</th>\n",
       "      <td>-0.007</td>\n",
       "      <td>0.199</td>\n",
       "      <td>0.278</td>\n",
       "      <td>0.295</td>\n",
       "      <td>0.244</td>\n",
       "    </tr>\n",
       "    <tr>\n",
       "      <th>LBP</th>\n",
       "      <td>0.181</td>\n",
       "      <td>0.121</td>\n",
       "      <td>0.250</td>\n",
       "      <td>0.279</td>\n",
       "      <td>0.190</td>\n",
       "    </tr>\n",
       "    <tr>\n",
       "      <th>C3D + LBP</th>\n",
       "      <td>0.236</td>\n",
       "      <td>0.219</td>\n",
       "      <td>0.264</td>\n",
       "      <td>0.316</td>\n",
       "      <td>0.260</td>\n",
       "    </tr>\n",
       "    <tr>\n",
       "      <th>C3D + HMP</th>\n",
       "      <td>0.007</td>\n",
       "      <td>0.199</td>\n",
       "      <td>0.292</td>\n",
       "      <td>0.334</td>\n",
       "      <td>0.269</td>\n",
       "    </tr>\n",
       "    <tr>\n",
       "      <th>LBP + HMP</th>\n",
       "      <td>-0.007</td>\n",
       "      <td>0.222</td>\n",
       "      <td>0.290</td>\n",
       "      <td>0.325</td>\n",
       "      <td>0.259</td>\n",
       "    </tr>\n",
       "  </tbody>\n",
       "</table>\n",
       "</div>"
      ],
      "text/plain": [
       "           Linear  K-Nearest  Support Vector  Random Forest  AdaBoost\n",
       "feature                                                              \n",
       "C3D         0.276      0.183           0.248          0.304     0.257\n",
       "HMP        -0.007      0.199           0.278          0.295     0.244\n",
       "LBP         0.181      0.121           0.250          0.279     0.190\n",
       "C3D + LBP   0.236      0.219           0.264          0.316     0.260\n",
       "C3D + HMP   0.007      0.199           0.292          0.334     0.269\n",
       "LBP + HMP  -0.007      0.222           0.290          0.325     0.259"
      ]
     },
     "execution_count": 112,
     "metadata": {},
     "output_type": "execute_result"
    }
   ],
   "source": [
    "short_scores = score_stats[Term.SHORT].loc[idx[:, \"mean\"], :].droplevel(\"score\")\n",
    "short_scores"
   ]
  },
  {
   "cell_type": "code",
   "execution_count": 113,
   "id": "catholic-tribe",
   "metadata": {},
   "outputs": [
    {
     "data": {
      "text/plain": [
       "<AxesSubplot:title={'center':'Mean Scores for Short-term Prediction'}, xlabel='feature'>"
      ]
     },
     "execution_count": 113,
     "metadata": {},
     "output_type": "execute_result"
    },
    {
     "data": {
      "image/png": "[encoded data removed]",
      "text/plain": [
       "<Figure size 720x360 with 1 Axes>"
      ]
     },
     "metadata": {
      "needs_background": "light"
     },
     "output_type": "display_data"
    }
   ],
   "source": [
    "short_scores.plot.bar(title=\"Mean Scores for Short-term Prediction\", ylim=(0, 0.5), rot=0, figsize=(10, 5))"
   ]
  },
  {
   "cell_type": "code",
   "execution_count": 114,
   "id": "streaming-mediterranean",
   "metadata": {},
   "outputs": [
    {
     "data": {
      "text/plain": [
       "<AxesSubplot:title={'center':'Standard Deviations of Scores for Short-term Prediction'}, xlabel='feature'>"
      ]
     },
     "execution_count": 114,
     "metadata": {},
     "output_type": "execute_result"
    },
    {
     "data": {
      "image/png": "[encoded data removed]",
      "text/plain": [
       "<Figure size 720x360 with 1 Axes>"
      ]
     },
     "metadata": {
      "needs_background": "light"
     },
     "output_type": "display_data"
    }
   ],
   "source": [
    "short_scores_std = score_stats[Term.SHORT].loc[idx[:, \"std\"], :].droplevel(\"score\")\n",
    "short_scores_std.plot.bar(title=\"Standard Deviations of Scores for Short-term Prediction\", ylim=(0, 0.5), rot=0, figsize=(10, 5))"
   ]
  },
  {
   "cell_type": "markdown",
   "id": "unauthorized-worcester",
   "metadata": {},
   "source": [
    "For *short-term* predictions, *C3D* + *HMP* with *Random Forest Regression* has the best performance. Its mean score and standard deviation of scores are:"
   ]
  },
  {
   "cell_type": "code",
   "execution_count": 115,
   "id": "wrapped-limitation",
   "metadata": {},
   "outputs": [
    {
     "data": {
      "text/plain": [
       "score\n",
       "mean    0.334\n",
       "std     0.008\n",
       "Name: Random Forest, dtype: float64"
      ]
     },
     "execution_count": 115,
     "metadata": {},
     "output_type": "execute_result"
    }
   ],
   "source": [
    "score_stats[Term.SHORT].loc[C3D_HMP, RF]"
   ]
  },
  {
   "cell_type": "markdown",
   "id": "small-utilization",
   "metadata": {},
   "source": [
    "Train a new model with the full development set."
   ]
  },
  {
   "cell_type": "code",
   "execution_count": 116,
   "id": "executed-ozone",
   "metadata": {},
   "outputs": [
    {
     "data": {
      "text/plain": [
       "RandomForestRegressor()"
      ]
     },
     "execution_count": 116,
     "metadata": {},
     "output_type": "execute_result"
    }
   ],
   "source": [
    "short_regr = RandomForestRegressor()\n",
    "short_regr.fit(c3d_hmp, short_y.values.ravel())"
   ]
  },
  {
   "cell_type": "markdown",
   "id": "arbitrary-intermediate",
   "metadata": {},
   "source": [
    "Show the importances for each feature."
   ]
  },
  {
   "cell_type": "code",
   "execution_count": 117,
   "id": "extended-consistency",
   "metadata": {},
   "outputs": [
    {
     "data": {
      "image/png": "[encoded data removed]",
      "text/plain": [
       "<Figure size 720x360 with 1 Axes>"
      ]
     },
     "metadata": {
      "needs_background": "light"
     },
     "output_type": "display_data"
    }
   ],
   "source": [
    "show_feature_importances(short_regr.feature_importances_[:C3D_LEN], \"The Importances of C3D in Random Forest for Short-term Prediction\")"
   ]
  },
  {
   "cell_type": "markdown",
   "id": "sunrise-inspiration",
   "metadata": {},
   "source": [
    "It is clear that the *21st* dimension of *C3D* is absolutely the most important value for *short-term* predictions and *HMP* does not provide much help."
   ]
  },
  {
   "cell_type": "code",
   "execution_count": 118,
   "id": "basic-absolute",
   "metadata": {},
   "outputs": [
    {
     "data": {
      "image/png": "[encoded data removed]",
      "text/plain": [
       "<Figure size 720x360 with 1 Axes>"
      ]
     },
     "metadata": {
      "needs_background": "light"
     },
     "output_type": "display_data"
    }
   ],
   "source": [
    "show_feature_importances(short_regr.feature_importances_[C3D_LEN:C3D_LEN + HMP_LEN], \"The Importances of HMP in Random Forest for Short-term Prediction\")"
   ]
  },
  {
   "cell_type": "markdown",
   "id": "romantic-composite",
   "metadata": {},
   "source": [
    "Create a dataframe both containing the *short-term* memorability and *21st* value of *C3D*."
   ]
  },
  {
   "cell_type": "code",
   "execution_count": 119,
   "id": "balanced-telescope",
   "metadata": {},
   "outputs": [
    {
     "data": {
      "text/html": [
       "<div>\n",
       "<style scoped>\n",
       "    .dataframe tbody tr th:only-of-type {\n",
       "        vertical-align: middle;\n",
       "    }\n",
       "\n",
       "    .dataframe tbody tr th {\n",
       "        vertical-align: top;\n",
       "    }\n",
       "\n",
       "    .dataframe thead th {\n",
       "        text-align: right;\n",
       "    }\n",
       "</style>\n",
       "<table border=\"1\" class=\"dataframe\">\n",
       "  <thead>\n",
       "    <tr style=\"text-align: right;\">\n",
       "      <th></th>\n",
       "      <th>short-term_memorability</th>\n",
       "      <th>21st-C3D</th>\n",
       "    </tr>\n",
       "    <tr>\n",
       "      <th>id</th>\n",
       "      <th></th>\n",
       "      <th></th>\n",
       "    </tr>\n",
       "  </thead>\n",
       "  <tbody>\n",
       "    <tr>\n",
       "      <th>3</th>\n",
       "      <td>0.924</td>\n",
       "      <td>0.000032</td>\n",
       "    </tr>\n",
       "    <tr>\n",
       "      <th>4</th>\n",
       "      <td>0.923</td>\n",
       "      <td>0.001153</td>\n",
       "    </tr>\n",
       "    <tr>\n",
       "      <th>6</th>\n",
       "      <td>0.863</td>\n",
       "      <td>0.002905</td>\n",
       "    </tr>\n",
       "    <tr>\n",
       "      <th>8</th>\n",
       "      <td>0.922</td>\n",
       "      <td>0.000027</td>\n",
       "    </tr>\n",
       "    <tr>\n",
       "      <th>10</th>\n",
       "      <td>0.950</td>\n",
       "      <td>0.007324</td>\n",
       "    </tr>\n",
       "  </tbody>\n",
       "</table>\n",
       "</div>"
      ],
      "text/plain": [
       "    short-term_memorability  21st-C3D\n",
       "id                                   \n",
       "3                     0.924  0.000032\n",
       "4                     0.923  0.001153\n",
       "6                     0.863  0.002905\n",
       "8                     0.922  0.000027\n",
       "10                    0.950  0.007324"
      ]
     },
     "execution_count": 119,
     "metadata": {},
     "output_type": "execute_result"
    }
   ],
   "source": [
    "short_mem_c3d = pd.concat([short_y, c3d[\"21\"]], axis=\"columns\").rename(columns={\"21\": \"21st-C3D\"})\n",
    "\n",
    "short_mem_c3d.head()"
   ]
  },
  {
   "cell_type": "markdown",
   "id": "moving-christmas",
   "metadata": {},
   "source": [
    "There is no obvious relation between these two variables."
   ]
  },
  {
   "cell_type": "code",
   "execution_count": 120,
   "id": "breeding-clearance",
   "metadata": {},
   "outputs": [
    {
     "data": {
      "text/plain": [
       "<AxesSubplot:title={'center':'The Distribution of Short-term Memorability and the 21st C3D Value for the Development Set'}, xlabel='short-term_memorability', ylabel='21st-C3D'>"
      ]
     },
     "execution_count": 120,
     "metadata": {},
     "output_type": "execute_result"
    },
    {
     "data": {
      "image/png": "[encoded data removed]",
      "text/plain": [
       "<Figure size 432x288 with 1 Axes>"
      ]
     },
     "metadata": {
      "needs_background": "light"
     },
     "output_type": "display_data"
    }
   ],
   "source": [
    "short_mem_c3d.plot.scatter(x=\"short-term_memorability\", y=\"21st-C3D\", title=\"The Distribution of Short-term Memorability and the 21st C3D Value for the Development Set\")"
   ]
  },
  {
   "cell_type": "markdown",
   "id": "exterior-trouble",
   "metadata": {},
   "source": [
    "### Long-term Prediction"
   ]
  },
  {
   "cell_type": "code",
   "execution_count": 121,
   "id": "domestic-queen",
   "metadata": {},
   "outputs": [
    {
     "data": {
      "text/html": [
       "<div>\n",
       "<style scoped>\n",
       "    .dataframe tbody tr th:only-of-type {\n",
       "        vertical-align: middle;\n",
       "    }\n",
       "\n",
       "    .dataframe tbody tr th {\n",
       "        vertical-align: top;\n",
       "    }\n",
       "\n",
       "    .dataframe thead th {\n",
       "        text-align: right;\n",
       "    }\n",
       "</style>\n",
       "<table border=\"1\" class=\"dataframe\">\n",
       "  <thead>\n",
       "    <tr style=\"text-align: right;\">\n",
       "      <th></th>\n",
       "      <th>Linear</th>\n",
       "      <th>K-Nearest</th>\n",
       "      <th>Support Vector</th>\n",
       "      <th>Random Forest</th>\n",
       "      <th>AdaBoost</th>\n",
       "    </tr>\n",
       "    <tr>\n",
       "      <th>feature</th>\n",
       "      <th></th>\n",
       "      <th></th>\n",
       "      <th></th>\n",
       "      <th></th>\n",
       "      <th></th>\n",
       "    </tr>\n",
       "  </thead>\n",
       "  <tbody>\n",
       "    <tr>\n",
       "      <th>C3D</th>\n",
       "      <td>0.114</td>\n",
       "      <td>0.064</td>\n",
       "      <td>0.093</td>\n",
       "      <td>0.130</td>\n",
       "      <td>0.113</td>\n",
       "    </tr>\n",
       "    <tr>\n",
       "      <th>HMP</th>\n",
       "      <td>-0.008</td>\n",
       "      <td>0.060</td>\n",
       "      <td>0.111</td>\n",
       "      <td>0.114</td>\n",
       "      <td>0.079</td>\n",
       "    </tr>\n",
       "    <tr>\n",
       "      <th>LBP</th>\n",
       "      <td>0.057</td>\n",
       "      <td>0.038</td>\n",
       "      <td>0.078</td>\n",
       "      <td>0.107</td>\n",
       "      <td>0.066</td>\n",
       "    </tr>\n",
       "    <tr>\n",
       "      <th>C3D + LBP</th>\n",
       "      <td>0.082</td>\n",
       "      <td>0.033</td>\n",
       "      <td>0.094</td>\n",
       "      <td>0.144</td>\n",
       "      <td>0.107</td>\n",
       "    </tr>\n",
       "    <tr>\n",
       "      <th>C3D + HMP</th>\n",
       "      <td>-0.007</td>\n",
       "      <td>0.064</td>\n",
       "      <td>0.114</td>\n",
       "      <td>0.133</td>\n",
       "      <td>0.090</td>\n",
       "    </tr>\n",
       "    <tr>\n",
       "      <th>LBP + HMP</th>\n",
       "      <td>-0.005</td>\n",
       "      <td>0.044</td>\n",
       "      <td>0.112</td>\n",
       "      <td>0.114</td>\n",
       "      <td>0.079</td>\n",
       "    </tr>\n",
       "  </tbody>\n",
       "</table>\n",
       "</div>"
      ],
      "text/plain": [
       "           Linear  K-Nearest  Support Vector  Random Forest  AdaBoost\n",
       "feature                                                              \n",
       "C3D         0.114      0.064           0.093          0.130     0.113\n",
       "HMP        -0.008      0.060           0.111          0.114     0.079\n",
       "LBP         0.057      0.038           0.078          0.107     0.066\n",
       "C3D + LBP   0.082      0.033           0.094          0.144     0.107\n",
       "C3D + HMP  -0.007      0.064           0.114          0.133     0.090\n",
       "LBP + HMP  -0.005      0.044           0.112          0.114     0.079"
      ]
     },
     "execution_count": 121,
     "metadata": {},
     "output_type": "execute_result"
    }
   ],
   "source": [
    "long_scores = score_stats[Term.LONG].loc[idx[:, \"mean\"], :].droplevel(\"score\")\n",
    "long_scores"
   ]
  },
  {
   "cell_type": "code",
   "execution_count": 122,
   "id": "variable-standard",
   "metadata": {},
   "outputs": [
    {
     "data": {
      "text/plain": [
       "<AxesSubplot:title={'center':'Mean Scores for Long-term Prediction'}, xlabel='feature'>"
      ]
     },
     "execution_count": 122,
     "metadata": {},
     "output_type": "execute_result"
    },
    {
     "data": {
      "image/png": "[encoded data removed]",
      "text/plain": [
       "<Figure size 720x360 with 1 Axes>"
      ]
     },
     "metadata": {
      "needs_background": "light"
     },
     "output_type": "display_data"
    }
   ],
   "source": [
    "long_scores.plot.bar(title=\"Mean Scores for Long-term Prediction\", ylim=(0, 0.5), rot=0, figsize=(10, 5))"
   ]
  },
  {
   "cell_type": "code",
   "execution_count": 123,
   "id": "mature-screening",
   "metadata": {},
   "outputs": [
    {
     "data": {
      "text/plain": [
       "<AxesSubplot:title={'center':'Standard Deviations of Scores for Long-term Prediction'}, xlabel='feature'>"
      ]
     },
     "execution_count": 123,
     "metadata": {},
     "output_type": "execute_result"
    },
    {
     "data": {
      "image/png": "[encoded data removed]",
      "text/plain": [
       "<Figure size 720x360 with 1 Axes>"
      ]
     },
     "metadata": {
      "needs_background": "light"
     },
     "output_type": "display_data"
    }
   ],
   "source": [
    "long_scores_std = score_stats[Term.LONG].loc[idx[:, \"std\"], :].droplevel(\"score\")\n",
    "long_scores_std.plot.bar(title=\"Standard Deviations of Scores for Long-term Prediction\", ylim=(0, 0.5), rot=0, figsize=(10, 5))"
   ]
  },
  {
   "cell_type": "markdown",
   "id": "tested-stress",
   "metadata": {},
   "source": [
    "For *long-term* predictions, *C3D* + *LBP* with *Random Forest Regression* is the best. Its mean score and standard deviation of scores are:"
   ]
  },
  {
   "cell_type": "code",
   "execution_count": 124,
   "id": "narrative-delay",
   "metadata": {},
   "outputs": [
    {
     "data": {
      "text/plain": [
       "score\n",
       "mean    0.144\n",
       "std     0.023\n",
       "Name: Random Forest, dtype: float64"
      ]
     },
     "execution_count": 124,
     "metadata": {},
     "output_type": "execute_result"
    }
   ],
   "source": [
    "score_stats[Term.LONG].loc[C3D_LBP, RF]"
   ]
  },
  {
   "cell_type": "markdown",
   "id": "critical-packet",
   "metadata": {},
   "source": [
    "Train a new model with the full development set."
   ]
  },
  {
   "cell_type": "code",
   "execution_count": 125,
   "id": "considered-aluminum",
   "metadata": {},
   "outputs": [
    {
     "data": {
      "text/plain": [
       "RandomForestRegressor()"
      ]
     },
     "execution_count": 125,
     "metadata": {},
     "output_type": "execute_result"
    }
   ],
   "source": [
    "long_regr = RandomForestRegressor()\n",
    "long_regr.fit(c3d_lbp, long_y.values.ravel())"
   ]
  },
  {
   "cell_type": "markdown",
   "id": "ranking-tunisia",
   "metadata": {},
   "source": [
    "Show the importances for each feature."
   ]
  },
  {
   "cell_type": "code",
   "execution_count": 126,
   "id": "recorded-survivor",
   "metadata": {},
   "outputs": [
    {
     "data": {
      "image/png": "[encoded data removed]",
      "text/plain": [
       "<Figure size 720x360 with 1 Axes>"
      ]
     },
     "metadata": {
      "needs_background": "light"
     },
     "output_type": "display_data"
    }
   ],
   "source": [
    "show_feature_importances(long_regr.feature_importances_[:C3D_LEN], \"The Importances of C3D in Random Forest for Long-term Prediction\")"
   ]
  },
  {
   "cell_type": "markdown",
   "id": "actual-scheme",
   "metadata": {},
   "source": [
    "Compared with *short-term*, the feature importances are more balanced in *long-term* predictions.\n",
    "\n",
    "And for *LBP* feature, considering that a *LBP* vector is combined from three key-frames, we can see that for each frame, the values at the beginning, middle and end are more important than others."
   ]
  },
  {
   "cell_type": "code",
   "execution_count": 127,
   "id": "electronic-swift",
   "metadata": {},
   "outputs": [
    {
     "data": {
      "image/png": "[encoded data removed]",
      "text/plain": [
       "<Figure size 720x360 with 1 Axes>"
      ]
     },
     "metadata": {
      "needs_background": "light"
     },
     "output_type": "display_data"
    }
   ],
   "source": [
    "show_feature_importances(long_regr.feature_importances_[C3D_LEN:C3D_LEN + LBP_LEN * 3], \"The Importances of LBP in Random Forest for Long-term Prediction\")"
   ]
  },
  {
   "cell_type": "markdown",
   "id": "spare-stephen",
   "metadata": {},
   "source": [
    "Draw a heat map to show the *LBP* importances for a frame. The resolution would be different for each video.\n",
    "\n",
    "The figure shows that the important parts are mainly located at the top, middle and bottom of a frame."
   ]
  },
  {
   "cell_type": "code",
   "execution_count": 128,
   "id": "chubby-lover",
   "metadata": {},
   "outputs": [
    {
     "data": {
      "image/png": "[encoded data removed]",
      "text/plain": [
       "<Figure size 432x288 with 1 Axes>"
      ]
     },
     "metadata": {
      "needs_background": "light"
     },
     "output_type": "display_data"
    }
   ],
   "source": [
    "# The resolution would be different for each video.\n",
    "ftr_imprtncs = long_regr.feature_importances_[C3D_LEN:C3D_LEN + 117]\n",
    "plt.imshow(ftr_imprtncs.reshape((-1, 13)))  # The values of 117 and 13 may not be suitable for some videos.\n",
    "plt.title(\"LBP Importances for a Frame\")\n",
    "plt.show()"
   ]
  },
  {
   "cell_type": "markdown",
   "id": "brazilian-pantyhose",
   "metadata": {},
   "source": [
    "Sort *long-term* memorability scores."
   ]
  },
  {
   "cell_type": "code",
   "execution_count": 129,
   "id": "cheap-cannon",
   "metadata": {},
   "outputs": [
    {
     "data": {
      "text/html": [
       "<div>\n",
       "<style scoped>\n",
       "    .dataframe tbody tr th:only-of-type {\n",
       "        vertical-align: middle;\n",
       "    }\n",
       "\n",
       "    .dataframe tbody tr th {\n",
       "        vertical-align: top;\n",
       "    }\n",
       "\n",
       "    .dataframe thead th {\n",
       "        text-align: right;\n",
       "    }\n",
       "</style>\n",
       "<table border=\"1\" class=\"dataframe\">\n",
       "  <thead>\n",
       "    <tr style=\"text-align: right;\">\n",
       "      <th></th>\n",
       "      <th>long-term_memorability</th>\n",
       "    </tr>\n",
       "    <tr>\n",
       "      <th>id</th>\n",
       "      <th></th>\n",
       "    </tr>\n",
       "  </thead>\n",
       "  <tbody>\n",
       "    <tr>\n",
       "      <th>5390</th>\n",
       "      <td>1.000</td>\n",
       "    </tr>\n",
       "    <tr>\n",
       "      <th>5458</th>\n",
       "      <td>1.000</td>\n",
       "    </tr>\n",
       "    <tr>\n",
       "      <th>531</th>\n",
       "      <td>1.000</td>\n",
       "    </tr>\n",
       "    <tr>\n",
       "      <th>1556</th>\n",
       "      <td>1.000</td>\n",
       "    </tr>\n",
       "    <tr>\n",
       "      <th>1549</th>\n",
       "      <td>1.000</td>\n",
       "    </tr>\n",
       "    <tr>\n",
       "      <th>...</th>\n",
       "      <td>...</td>\n",
       "    </tr>\n",
       "    <tr>\n",
       "      <th>3000</th>\n",
       "      <td>0.231</td>\n",
       "    </tr>\n",
       "    <tr>\n",
       "      <th>6289</th>\n",
       "      <td>0.222</td>\n",
       "    </tr>\n",
       "    <tr>\n",
       "      <th>3280</th>\n",
       "      <td>0.200</td>\n",
       "    </tr>\n",
       "    <tr>\n",
       "      <th>114</th>\n",
       "      <td>0.200</td>\n",
       "    </tr>\n",
       "    <tr>\n",
       "      <th>2861</th>\n",
       "      <td>0.000</td>\n",
       "    </tr>\n",
       "  </tbody>\n",
       "</table>\n",
       "<p>6000 rows × 1 columns</p>\n",
       "</div>"
      ],
      "text/plain": [
       "      long-term_memorability\n",
       "id                          \n",
       "5390                   1.000\n",
       "5458                   1.000\n",
       "531                    1.000\n",
       "1556                   1.000\n",
       "1549                   1.000\n",
       "...                      ...\n",
       "3000                   0.231\n",
       "6289                   0.222\n",
       "3280                   0.200\n",
       "114                    0.200\n",
       "2861                   0.000\n",
       "\n",
       "[6000 rows x 1 columns]"
      ]
     },
     "execution_count": 129,
     "metadata": {},
     "output_type": "execute_result"
    }
   ],
   "source": [
    "sorted_long_y = long_y.sort_values(by=\"long-term_memorability\", ascending=False)\n",
    "sorted_long_y"
   ]
  },
  {
   "cell_type": "markdown",
   "id": "medium-birth",
   "metadata": {},
   "source": [
    "Find the videos having the highest and lowest *long-term* memorability scores and show their *LBP* values of the first key-frame using heat maps."
   ]
  },
  {
   "cell_type": "code",
   "execution_count": 130,
   "id": "automatic-reporter",
   "metadata": {},
   "outputs": [
    {
     "data": {
      "image/png": "[encoded data removed]",
      "text/plain": [
       "<Figure size 1152x576 with 4 Axes>"
      ]
     },
     "metadata": {
      "needs_background": "light"
     },
     "output_type": "display_data"
    }
   ],
   "source": [
    "fig, axs = plt.subplots(nrows=2, ncols=2, figsize=(16, 8))\n",
    "ids = sorted_long_y.index[:4]\n",
    "axs[0, 0].imshow(lbp.loc[ids[0]].values[:117].reshape((-1, 13)))\n",
    "axs[0, 1].imshow(lbp.loc[ids[1]].values[:117].reshape((-1, 13)))\n",
    "axs[1, 0].imshow(lbp.loc[ids[2]].values[:117].reshape((-1, 13)))\n",
    "axs[1, 1].imshow(lbp.loc[ids[3]].values[:117].reshape((-1, 13)))\n",
    "\n",
    "fig.suptitle(\"LBP Values of 1st Frame of Videos Having Highest Long-term Scores\", fontsize=16)\n",
    "plt.show()"
   ]
  },
  {
   "cell_type": "markdown",
   "id": "laughing-precipitation",
   "metadata": {},
   "source": [
    "Compared with the videos having the lowest memorability scores, it seems that the most memorable videos tend to have large *LBP* values at the middle of a frame."
   ]
  },
  {
   "cell_type": "code",
   "execution_count": 131,
   "id": "cubic-istanbul",
   "metadata": {},
   "outputs": [
    {
     "data": {
      "image/png": "[encoded data removed]",
      "text/plain": [
       "<Figure size 1152x576 with 4 Axes>"
      ]
     },
     "metadata": {
      "needs_background": "light"
     },
     "output_type": "display_data"
    }
   ],
   "source": [
    "fig, axs = plt.subplots(nrows=2, ncols=2, figsize=(16, 8))\n",
    "ids = sorted_long_y.index[-4:]\n",
    "axs[0, 0].imshow(lbp.loc[ids[0]].values[:117].reshape((-1, 13)))\n",
    "axs[0, 1].imshow(lbp.loc[ids[1]].values[:117].reshape((-1, 13)))\n",
    "axs[1, 0].imshow(lbp.loc[ids[2]].values[:117].reshape((-1, 13)))\n",
    "axs[1, 1].imshow(lbp.loc[ids[3]].values[:117].reshape((-1, 13)))\n",
    "\n",
    "fig.suptitle(\"LBP Values of 1st Frame of Videos Having Lowest Long-term Scores\", fontsize=16)\n",
    "plt.show()"
   ]
  },
  {
   "cell_type": "markdown",
   "id": "imposed-integration",
   "metadata": {},
   "source": [
    "## Predicting Test Samples"
   ]
  },
  {
   "cell_type": "markdown",
   "id": "cooperative-potter",
   "metadata": {},
   "source": [
    "### Loading Ground Truth Template\n",
    "\n",
    "Rename the name of `video` column to `id`."
   ]
  },
  {
   "cell_type": "code",
   "execution_count": 132,
   "id": "coordinate-survey",
   "metadata": {},
   "outputs": [
    {
     "data": {
      "text/html": [
       "<div>\n",
       "<style scoped>\n",
       "    .dataframe tbody tr th:only-of-type {\n",
       "        vertical-align: middle;\n",
       "    }\n",
       "\n",
       "    .dataframe tbody tr th {\n",
       "        vertical-align: top;\n",
       "    }\n",
       "\n",
       "    .dataframe thead th {\n",
       "        text-align: right;\n",
       "    }\n",
       "</style>\n",
       "<table border=\"1\" class=\"dataframe\">\n",
       "  <thead>\n",
       "    <tr style=\"text-align: right;\">\n",
       "      <th></th>\n",
       "      <th>short-term_memorability</th>\n",
       "      <th>nb_short-term_annotations</th>\n",
       "      <th>long-term_memorability</th>\n",
       "      <th>nb_long-term_annotations</th>\n",
       "    </tr>\n",
       "    <tr>\n",
       "      <th>id</th>\n",
       "      <th></th>\n",
       "      <th></th>\n",
       "      <th></th>\n",
       "      <th></th>\n",
       "    </tr>\n",
       "  </thead>\n",
       "  <tbody>\n",
       "    <tr>\n",
       "      <th>7494</th>\n",
       "      <td>NaN</td>\n",
       "      <td>33</td>\n",
       "      <td>NaN</td>\n",
       "      <td>12</td>\n",
       "    </tr>\n",
       "    <tr>\n",
       "      <th>7495</th>\n",
       "      <td>NaN</td>\n",
       "      <td>34</td>\n",
       "      <td>NaN</td>\n",
       "      <td>10</td>\n",
       "    </tr>\n",
       "    <tr>\n",
       "      <th>7496</th>\n",
       "      <td>NaN</td>\n",
       "      <td>32</td>\n",
       "      <td>NaN</td>\n",
       "      <td>13</td>\n",
       "    </tr>\n",
       "    <tr>\n",
       "      <th>7497</th>\n",
       "      <td>NaN</td>\n",
       "      <td>33</td>\n",
       "      <td>NaN</td>\n",
       "      <td>10</td>\n",
       "    </tr>\n",
       "    <tr>\n",
       "      <th>7498</th>\n",
       "      <td>NaN</td>\n",
       "      <td>33</td>\n",
       "      <td>NaN</td>\n",
       "      <td>10</td>\n",
       "    </tr>\n",
       "  </tbody>\n",
       "</table>\n",
       "</div>"
      ],
      "text/plain": [
       "      short-term_memorability  nb_short-term_annotations  \\\n",
       "id                                                         \n",
       "7494                      NaN                         33   \n",
       "7495                      NaN                         34   \n",
       "7496                      NaN                         32   \n",
       "7497                      NaN                         33   \n",
       "7498                      NaN                         33   \n",
       "\n",
       "      long-term_memorability  nb_long-term_annotations  \n",
       "id                                                      \n",
       "7494                     NaN                        12  \n",
       "7495                     NaN                        10  \n",
       "7496                     NaN                        13  \n",
       "7497                     NaN                        10  \n",
       "7498                     NaN                        10  "
      ]
     },
     "execution_count": 132,
     "metadata": {},
     "output_type": "execute_result"
    }
   ],
   "source": [
    "pred_truth = pd.read_csv(test_dir.joinpath(\"ground-truth-template.csv\")).rename(columns={\"video\": \"id\"}).set_index(\"id\")\n",
    "\n",
    "pred_truth.head()"
   ]
  },
  {
   "cell_type": "markdown",
   "id": "removable-record",
   "metadata": {},
   "source": [
    "### Loading Features"
   ]
  },
  {
   "cell_type": "code",
   "execution_count": 133,
   "id": "likely-weekend",
   "metadata": {},
   "outputs": [
    {
     "data": {
      "text/html": [
       "<div>\n",
       "<style scoped>\n",
       "    .dataframe tbody tr th:only-of-type {\n",
       "        vertical-align: middle;\n",
       "    }\n",
       "\n",
       "    .dataframe tbody tr th {\n",
       "        vertical-align: top;\n",
       "    }\n",
       "\n",
       "    .dataframe thead th {\n",
       "        text-align: right;\n",
       "    }\n",
       "</style>\n",
       "<table border=\"1\" class=\"dataframe\">\n",
       "  <thead>\n",
       "    <tr style=\"text-align: right;\">\n",
       "      <th></th>\n",
       "      <th>0</th>\n",
       "      <th>1</th>\n",
       "      <th>2</th>\n",
       "      <th>3</th>\n",
       "      <th>4</th>\n",
       "      <th>5</th>\n",
       "      <th>6</th>\n",
       "      <th>7</th>\n",
       "      <th>8</th>\n",
       "      <th>9</th>\n",
       "      <th>...</th>\n",
       "      <th>91</th>\n",
       "      <th>92</th>\n",
       "      <th>93</th>\n",
       "      <th>94</th>\n",
       "      <th>95</th>\n",
       "      <th>96</th>\n",
       "      <th>97</th>\n",
       "      <th>98</th>\n",
       "      <th>99</th>\n",
       "      <th>100</th>\n",
       "    </tr>\n",
       "    <tr>\n",
       "      <th>id</th>\n",
       "      <th></th>\n",
       "      <th></th>\n",
       "      <th></th>\n",
       "      <th></th>\n",
       "      <th></th>\n",
       "      <th></th>\n",
       "      <th></th>\n",
       "      <th></th>\n",
       "      <th></th>\n",
       "      <th></th>\n",
       "      <th></th>\n",
       "      <th></th>\n",
       "      <th></th>\n",
       "      <th></th>\n",
       "      <th></th>\n",
       "      <th></th>\n",
       "      <th></th>\n",
       "      <th></th>\n",
       "      <th></th>\n",
       "      <th></th>\n",
       "      <th></th>\n",
       "    </tr>\n",
       "  </thead>\n",
       "  <tbody>\n",
       "    <tr>\n",
       "      <th>7494</th>\n",
       "      <td>0.000136</td>\n",
       "      <td>0.000213</td>\n",
       "      <td>0.001248</td>\n",
       "      <td>0.000011</td>\n",
       "      <td>0.000001</td>\n",
       "      <td>0.000043</td>\n",
       "      <td>0.000001</td>\n",
       "      <td>0.000006</td>\n",
       "      <td>0.000007</td>\n",
       "      <td>0.00007</td>\n",
       "      <td>...</td>\n",
       "      <td>0.000003</td>\n",
       "      <td>0.000006</td>\n",
       "      <td>0.000001</td>\n",
       "      <td>0.000199</td>\n",
       "      <td>0.000002</td>\n",
       "      <td>0.0</td>\n",
       "      <td>0.000006</td>\n",
       "      <td>0.000006</td>\n",
       "      <td>0.00021</td>\n",
       "      <td>0.19512</td>\n",
       "    </tr>\n",
       "    <tr>\n",
       "      <th>7495</th>\n",
       "      <td>0.000127</td>\n",
       "      <td>0.000024</td>\n",
       "      <td>0.049501</td>\n",
       "      <td>0.000024</td>\n",
       "      <td>0.000024</td>\n",
       "      <td>0.000003</td>\n",
       "      <td>0.000051</td>\n",
       "      <td>0.000124</td>\n",
       "      <td>0.000023</td>\n",
       "      <td>0.000018</td>\n",
       "      <td>...</td>\n",
       "      <td>0.000173</td>\n",
       "      <td>0.000302</td>\n",
       "      <td>0.000265</td>\n",
       "      <td>0.000163</td>\n",
       "      <td>0.00001</td>\n",
       "      <td>0.000003</td>\n",
       "      <td>0.000362</td>\n",
       "      <td>0.000016</td>\n",
       "      <td>0.00001</td>\n",
       "      <td>0.000392</td>\n",
       "    </tr>\n",
       "    <tr>\n",
       "      <th>7496</th>\n",
       "      <td>0.488982</td>\n",
       "      <td>0.000585</td>\n",
       "      <td>0.000025</td>\n",
       "      <td>0.00016</td>\n",
       "      <td>0.0</td>\n",
       "      <td>0.000001</td>\n",
       "      <td>0.000004</td>\n",
       "      <td>0.000001</td>\n",
       "      <td>0.000027</td>\n",
       "      <td>0.000003</td>\n",
       "      <td>...</td>\n",
       "      <td>0.000002</td>\n",
       "      <td>0.0</td>\n",
       "      <td>0.0</td>\n",
       "      <td>0.001802</td>\n",
       "      <td>0.000003</td>\n",
       "      <td>0.0</td>\n",
       "      <td>0.0</td>\n",
       "      <td>0.000067</td>\n",
       "      <td>0.000123</td>\n",
       "      <td>0.000015</td>\n",
       "    </tr>\n",
       "    <tr>\n",
       "      <th>7497</th>\n",
       "      <td>0.249251</td>\n",
       "      <td>0.001018</td>\n",
       "      <td>0.000008</td>\n",
       "      <td>0.000019</td>\n",
       "      <td>0.0</td>\n",
       "      <td>0.000001</td>\n",
       "      <td>0.016466</td>\n",
       "      <td>0.000047</td>\n",
       "      <td>0.000025</td>\n",
       "      <td>0.000002</td>\n",
       "      <td>...</td>\n",
       "      <td>0.000065</td>\n",
       "      <td>0.000001</td>\n",
       "      <td>0.0</td>\n",
       "      <td>0.000808</td>\n",
       "      <td>0.000001</td>\n",
       "      <td>0.000008</td>\n",
       "      <td>0.000001</td>\n",
       "      <td>0.000015</td>\n",
       "      <td>0.000707</td>\n",
       "      <td>0.00001</td>\n",
       "    </tr>\n",
       "    <tr>\n",
       "      <th>7498</th>\n",
       "      <td>0.009894</td>\n",
       "      <td>0.000034</td>\n",
       "      <td>0.002613</td>\n",
       "      <td>0.000002</td>\n",
       "      <td>0.000001</td>\n",
       "      <td>0.000009</td>\n",
       "      <td>0.000003</td>\n",
       "      <td>0.0</td>\n",
       "      <td>0.000005</td>\n",
       "      <td>0.000088</td>\n",
       "      <td>...</td>\n",
       "      <td>0.000012</td>\n",
       "      <td>0.000001</td>\n",
       "      <td>0.000009</td>\n",
       "      <td>0.000132</td>\n",
       "      <td>0.000001</td>\n",
       "      <td>0.000002</td>\n",
       "      <td>0.000008</td>\n",
       "      <td>0.001402</td>\n",
       "      <td>0.000745</td>\n",
       "      <td>0.000456</td>\n",
       "    </tr>\n",
       "  </tbody>\n",
       "</table>\n",
       "<p>5 rows × 101 columns</p>\n",
       "</div>"
      ],
      "text/plain": [
       "             0         1         2         3         4         5         6  \\\n",
       "id                                                                           \n",
       "7494  0.000136  0.000213  0.001248  0.000011  0.000001  0.000043  0.000001   \n",
       "7495  0.000127  0.000024  0.049501  0.000024  0.000024  0.000003  0.000051   \n",
       "7496  0.488982  0.000585  0.000025   0.00016       0.0  0.000001  0.000004   \n",
       "7497  0.249251  0.001018  0.000008  0.000019       0.0  0.000001  0.016466   \n",
       "7498  0.009894  0.000034  0.002613  0.000002  0.000001  0.000009  0.000003   \n",
       "\n",
       "             7         8         9  ...        91        92        93  \\\n",
       "id                                  ...                                 \n",
       "7494  0.000006  0.000007   0.00007  ...  0.000003  0.000006  0.000001   \n",
       "7495  0.000124  0.000023  0.000018  ...  0.000173  0.000302  0.000265   \n",
       "7496  0.000001  0.000027  0.000003  ...  0.000002       0.0       0.0   \n",
       "7497  0.000047  0.000025  0.000002  ...  0.000065  0.000001       0.0   \n",
       "7498       0.0  0.000005  0.000088  ...  0.000012  0.000001  0.000009   \n",
       "\n",
       "            94        95        96        97        98        99       100  \n",
       "id                                                                          \n",
       "7494  0.000199  0.000002       0.0  0.000006  0.000006   0.00021   0.19512  \n",
       "7495  0.000163   0.00001  0.000003  0.000362  0.000016   0.00001  0.000392  \n",
       "7496  0.001802  0.000003       0.0       0.0  0.000067  0.000123  0.000015  \n",
       "7497  0.000808  0.000001  0.000008  0.000001  0.000015  0.000707   0.00001  \n",
       "7498  0.000132  0.000001  0.000002  0.000008  0.001402  0.000745  0.000456  \n",
       "\n",
       "[5 rows x 101 columns]"
      ]
     },
     "execution_count": 133,
     "metadata": {},
     "output_type": "execute_result"
    }
   ],
   "source": [
    "test_c3d = load_feature(pred_truth.index, extract_dir.joinpath(f\"test-{C3D}.csv\"), test_dir.joinpath(C3D), Load.c3d)\n",
    "assert (test_c3d.index == pred_truth.index).all()\n",
    "test_c3d.head()"
   ]
  },
  {
   "cell_type": "code",
   "execution_count": 134,
   "id": "geographic-tension",
   "metadata": {},
   "outputs": [
    {
     "data": {
      "text/html": [
       "<div>\n",
       "<style scoped>\n",
       "    .dataframe tbody tr th:only-of-type {\n",
       "        vertical-align: middle;\n",
       "    }\n",
       "\n",
       "    .dataframe tbody tr th {\n",
       "        vertical-align: top;\n",
       "    }\n",
       "\n",
       "    .dataframe thead th {\n",
       "        text-align: right;\n",
       "    }\n",
       "</style>\n",
       "<table border=\"1\" class=\"dataframe\">\n",
       "  <thead>\n",
       "    <tr style=\"text-align: right;\">\n",
       "      <th></th>\n",
       "      <th>0</th>\n",
       "      <th>1</th>\n",
       "      <th>2</th>\n",
       "      <th>3</th>\n",
       "      <th>4</th>\n",
       "      <th>5</th>\n",
       "      <th>6</th>\n",
       "      <th>7</th>\n",
       "      <th>8</th>\n",
       "      <th>9</th>\n",
       "      <th>...</th>\n",
       "      <th>6065</th>\n",
       "      <th>6066</th>\n",
       "      <th>6067</th>\n",
       "      <th>6068</th>\n",
       "      <th>6069</th>\n",
       "      <th>6070</th>\n",
       "      <th>6071</th>\n",
       "      <th>6072</th>\n",
       "      <th>6073</th>\n",
       "      <th>6074</th>\n",
       "    </tr>\n",
       "    <tr>\n",
       "      <th>id</th>\n",
       "      <th></th>\n",
       "      <th></th>\n",
       "      <th></th>\n",
       "      <th></th>\n",
       "      <th></th>\n",
       "      <th></th>\n",
       "      <th></th>\n",
       "      <th></th>\n",
       "      <th></th>\n",
       "      <th></th>\n",
       "      <th></th>\n",
       "      <th></th>\n",
       "      <th></th>\n",
       "      <th></th>\n",
       "      <th></th>\n",
       "      <th></th>\n",
       "      <th></th>\n",
       "      <th></th>\n",
       "      <th></th>\n",
       "      <th></th>\n",
       "      <th></th>\n",
       "    </tr>\n",
       "  </thead>\n",
       "  <tbody>\n",
       "    <tr>\n",
       "      <th>7494</th>\n",
       "      <td>0.022039</td>\n",
       "      <td>0.005264</td>\n",
       "      <td>0.000098</td>\n",
       "      <td>0.0</td>\n",
       "      <td>0.003689</td>\n",
       "      <td>0.000129</td>\n",
       "      <td>0.0</td>\n",
       "      <td>0.0</td>\n",
       "      <td>0.000045</td>\n",
       "      <td>0.0</td>\n",
       "      <td>...</td>\n",
       "      <td>0.000025</td>\n",
       "      <td>0.000114</td>\n",
       "      <td>0.000056</td>\n",
       "      <td>0.000002</td>\n",
       "      <td>0.000136</td>\n",
       "      <td>0.000388</td>\n",
       "      <td>0.000038</td>\n",
       "      <td>0.000165</td>\n",
       "      <td>0.000488</td>\n",
       "      <td>0.000187</td>\n",
       "    </tr>\n",
       "    <tr>\n",
       "      <th>7495</th>\n",
       "      <td>0.004694</td>\n",
       "      <td>0.001934</td>\n",
       "      <td>0.00004</td>\n",
       "      <td>0.0</td>\n",
       "      <td>0.001226</td>\n",
       "      <td>0.000058</td>\n",
       "      <td>0.0</td>\n",
       "      <td>0.0</td>\n",
       "      <td>0.000025</td>\n",
       "      <td>0.0</td>\n",
       "      <td>...</td>\n",
       "      <td>0.0</td>\n",
       "      <td>0.000056</td>\n",
       "      <td>0.000027</td>\n",
       "      <td>0.000002</td>\n",
       "      <td>0.000087</td>\n",
       "      <td>0.000121</td>\n",
       "      <td>0.000004</td>\n",
       "      <td>0.000109</td>\n",
       "      <td>0.000136</td>\n",
       "      <td>0.000029</td>\n",
       "    </tr>\n",
       "    <tr>\n",
       "      <th>7496</th>\n",
       "      <td>0.02653</td>\n",
       "      <td>0.006208</td>\n",
       "      <td>0.000058</td>\n",
       "      <td>0.0</td>\n",
       "      <td>0.00228</td>\n",
       "      <td>0.000031</td>\n",
       "      <td>0.0</td>\n",
       "      <td>0.0</td>\n",
       "      <td>0.000009</td>\n",
       "      <td>0.0</td>\n",
       "      <td>...</td>\n",
       "      <td>0.000011</td>\n",
       "      <td>0.000034</td>\n",
       "      <td>0.000011</td>\n",
       "      <td>0.000002</td>\n",
       "      <td>0.000063</td>\n",
       "      <td>0.000081</td>\n",
       "      <td>0.000004</td>\n",
       "      <td>0.000092</td>\n",
       "      <td>0.000143</td>\n",
       "      <td>0.000051</td>\n",
       "    </tr>\n",
       "    <tr>\n",
       "      <th>7497</th>\n",
       "      <td>0.045109</td>\n",
       "      <td>0.008317</td>\n",
       "      <td>0.000151</td>\n",
       "      <td>0.0</td>\n",
       "      <td>0.005598</td>\n",
       "      <td>0.000128</td>\n",
       "      <td>0.0</td>\n",
       "      <td>0.000008</td>\n",
       "      <td>0.00005</td>\n",
       "      <td>0.0</td>\n",
       "      <td>...</td>\n",
       "      <td>0.000035</td>\n",
       "      <td>0.000256</td>\n",
       "      <td>0.000083</td>\n",
       "      <td>0.000003</td>\n",
       "      <td>0.000116</td>\n",
       "      <td>0.000467</td>\n",
       "      <td>0.00002</td>\n",
       "      <td>0.000279</td>\n",
       "      <td>0.00047</td>\n",
       "      <td>0.000219</td>\n",
       "    </tr>\n",
       "    <tr>\n",
       "      <th>7498</th>\n",
       "      <td>0.034691</td>\n",
       "      <td>0.008619</td>\n",
       "      <td>0.000412</td>\n",
       "      <td>0.0</td>\n",
       "      <td>0.028355</td>\n",
       "      <td>0.000538</td>\n",
       "      <td>0.0</td>\n",
       "      <td>0.0</td>\n",
       "      <td>0.000325</td>\n",
       "      <td>0.0</td>\n",
       "      <td>...</td>\n",
       "      <td>0.000009</td>\n",
       "      <td>0.000148</td>\n",
       "      <td>0.000038</td>\n",
       "      <td>0.000002</td>\n",
       "      <td>0.000117</td>\n",
       "      <td>0.000206</td>\n",
       "      <td>0.000022</td>\n",
       "      <td>0.000228</td>\n",
       "      <td>0.000334</td>\n",
       "      <td>0.000086</td>\n",
       "    </tr>\n",
       "  </tbody>\n",
       "</table>\n",
       "<p>5 rows × 6075 columns</p>\n",
       "</div>"
      ],
      "text/plain": [
       "             0         1         2    3         4         5    6         7  \\\n",
       "id                                                                           \n",
       "7494  0.022039  0.005264  0.000098  0.0  0.003689  0.000129  0.0       0.0   \n",
       "7495  0.004694  0.001934   0.00004  0.0  0.001226  0.000058  0.0       0.0   \n",
       "7496   0.02653  0.006208  0.000058  0.0   0.00228  0.000031  0.0       0.0   \n",
       "7497  0.045109  0.008317  0.000151  0.0  0.005598  0.000128  0.0  0.000008   \n",
       "7498  0.034691  0.008619  0.000412  0.0  0.028355  0.000538  0.0       0.0   \n",
       "\n",
       "             8    9  ...      6065      6066      6067      6068      6069  \\\n",
       "id                   ...                                                     \n",
       "7494  0.000045  0.0  ...  0.000025  0.000114  0.000056  0.000002  0.000136   \n",
       "7495  0.000025  0.0  ...       0.0  0.000056  0.000027  0.000002  0.000087   \n",
       "7496  0.000009  0.0  ...  0.000011  0.000034  0.000011  0.000002  0.000063   \n",
       "7497   0.00005  0.0  ...  0.000035  0.000256  0.000083  0.000003  0.000116   \n",
       "7498  0.000325  0.0  ...  0.000009  0.000148  0.000038  0.000002  0.000117   \n",
       "\n",
       "          6070      6071      6072      6073      6074  \n",
       "id                                                      \n",
       "7494  0.000388  0.000038  0.000165  0.000488  0.000187  \n",
       "7495  0.000121  0.000004  0.000109  0.000136  0.000029  \n",
       "7496  0.000081  0.000004  0.000092  0.000143  0.000051  \n",
       "7497  0.000467   0.00002  0.000279   0.00047  0.000219  \n",
       "7498  0.000206  0.000022  0.000228  0.000334  0.000086  \n",
       "\n",
       "[5 rows x 6075 columns]"
      ]
     },
     "execution_count": 134,
     "metadata": {},
     "output_type": "execute_result"
    }
   ],
   "source": [
    "test_hmp = load_feature(pred_truth.index, extract_dir.joinpath(f\"test-{HMP}.csv\"), test_dir.joinpath(HMP), Load.hmp)\n",
    "assert (test_hmp.index == pred_truth.index).all()\n",
    "test_hmp.head()"
   ]
  },
  {
   "cell_type": "code",
   "execution_count": 135,
   "id": "earlier-committee",
   "metadata": {},
   "outputs": [
    {
     "data": {
      "text/html": [
       "<div>\n",
       "<style scoped>\n",
       "    .dataframe tbody tr th:only-of-type {\n",
       "        vertical-align: middle;\n",
       "    }\n",
       "\n",
       "    .dataframe tbody tr th {\n",
       "        vertical-align: top;\n",
       "    }\n",
       "\n",
       "    .dataframe thead th {\n",
       "        text-align: right;\n",
       "    }\n",
       "</style>\n",
       "<table border=\"1\" class=\"dataframe\">\n",
       "  <thead>\n",
       "    <tr style=\"text-align: right;\">\n",
       "      <th></th>\n",
       "      <th>0</th>\n",
       "      <th>1</th>\n",
       "      <th>2</th>\n",
       "      <th>3</th>\n",
       "      <th>4</th>\n",
       "      <th>5</th>\n",
       "      <th>6</th>\n",
       "      <th>7</th>\n",
       "      <th>8</th>\n",
       "      <th>9</th>\n",
       "      <th>...</th>\n",
       "      <th>356</th>\n",
       "      <th>357</th>\n",
       "      <th>358</th>\n",
       "      <th>359</th>\n",
       "      <th>360</th>\n",
       "      <th>361</th>\n",
       "      <th>362</th>\n",
       "      <th>363</th>\n",
       "      <th>364</th>\n",
       "      <th>365</th>\n",
       "    </tr>\n",
       "    <tr>\n",
       "      <th>id</th>\n",
       "      <th></th>\n",
       "      <th></th>\n",
       "      <th></th>\n",
       "      <th></th>\n",
       "      <th></th>\n",
       "      <th></th>\n",
       "      <th></th>\n",
       "      <th></th>\n",
       "      <th></th>\n",
       "      <th></th>\n",
       "      <th></th>\n",
       "      <th></th>\n",
       "      <th></th>\n",
       "      <th></th>\n",
       "      <th></th>\n",
       "      <th></th>\n",
       "      <th></th>\n",
       "      <th></th>\n",
       "      <th></th>\n",
       "      <th></th>\n",
       "      <th></th>\n",
       "    </tr>\n",
       "  </thead>\n",
       "  <tbody>\n",
       "    <tr>\n",
       "      <th>7494</th>\n",
       "      <td>0.023802</td>\n",
       "      <td>0.003809</td>\n",
       "      <td>0.004243</td>\n",
       "      <td>0.003913</td>\n",
       "      <td>0.0043</td>\n",
       "      <td>0.003394</td>\n",
       "      <td>0.00278</td>\n",
       "      <td>0.002593</td>\n",
       "      <td>0.002162</td>\n",
       "      <td>0.002165</td>\n",
       "      <td>...</td>\n",
       "      <td>0.002259</td>\n",
       "      <td>0.002566</td>\n",
       "      <td>0.002912</td>\n",
       "      <td>0.003362</td>\n",
       "      <td>0.004086</td>\n",
       "      <td>0.005419</td>\n",
       "      <td>0.005866</td>\n",
       "      <td>0.004181</td>\n",
       "      <td>0.032316</td>\n",
       "      <td>0.771036</td>\n",
       "    </tr>\n",
       "    <tr>\n",
       "      <th>7495</th>\n",
       "      <td>0.017607</td>\n",
       "      <td>0.003168</td>\n",
       "      <td>0.003743</td>\n",
       "      <td>0.003464</td>\n",
       "      <td>0.003417</td>\n",
       "      <td>0.002684</td>\n",
       "      <td>0.002158</td>\n",
       "      <td>0.001847</td>\n",
       "      <td>0.001551</td>\n",
       "      <td>0.001501</td>\n",
       "      <td>...</td>\n",
       "      <td>0.002026</td>\n",
       "      <td>0.002296</td>\n",
       "      <td>0.002658</td>\n",
       "      <td>0.003028</td>\n",
       "      <td>0.003645</td>\n",
       "      <td>0.004204</td>\n",
       "      <td>0.00416</td>\n",
       "      <td>0.002864</td>\n",
       "      <td>0.035036</td>\n",
       "      <td>0.713396</td>\n",
       "    </tr>\n",
       "    <tr>\n",
       "      <th>7496</th>\n",
       "      <td>0.005337</td>\n",
       "      <td>0.000664</td>\n",
       "      <td>0.000644</td>\n",
       "      <td>0.000503</td>\n",
       "      <td>0.001512</td>\n",
       "      <td>0.000761</td>\n",
       "      <td>0.000658</td>\n",
       "      <td>0.000741</td>\n",
       "      <td>0.000683</td>\n",
       "      <td>0.001314</td>\n",
       "      <td>...</td>\n",
       "      <td>0.001137</td>\n",
       "      <td>0.001626</td>\n",
       "      <td>0.001625</td>\n",
       "      <td>0.001552</td>\n",
       "      <td>0.001958</td>\n",
       "      <td>0.002175</td>\n",
       "      <td>0.002002</td>\n",
       "      <td>0.001152</td>\n",
       "      <td>0.022767</td>\n",
       "      <td>0.372752</td>\n",
       "    </tr>\n",
       "    <tr>\n",
       "      <th>7497</th>\n",
       "      <td>0.008659</td>\n",
       "      <td>0.001258</td>\n",
       "      <td>0.001124</td>\n",
       "      <td>0.000992</td>\n",
       "      <td>0.00178</td>\n",
       "      <td>0.001225</td>\n",
       "      <td>0.001273</td>\n",
       "      <td>0.001273</td>\n",
       "      <td>0.00127</td>\n",
       "      <td>0.002269</td>\n",
       "      <td>...</td>\n",
       "      <td>0.002899</td>\n",
       "      <td>0.004435</td>\n",
       "      <td>0.004235</td>\n",
       "      <td>0.003646</td>\n",
       "      <td>0.00433</td>\n",
       "      <td>0.004081</td>\n",
       "      <td>0.003478</td>\n",
       "      <td>0.002205</td>\n",
       "      <td>0.072441</td>\n",
       "      <td>0.412837</td>\n",
       "    </tr>\n",
       "    <tr>\n",
       "      <th>7498</th>\n",
       "      <td>0.016859</td>\n",
       "      <td>0.002041</td>\n",
       "      <td>0.002026</td>\n",
       "      <td>0.001657</td>\n",
       "      <td>0.002959</td>\n",
       "      <td>0.001901</td>\n",
       "      <td>0.001813</td>\n",
       "      <td>0.001887</td>\n",
       "      <td>0.001735</td>\n",
       "      <td>0.002089</td>\n",
       "      <td>...</td>\n",
       "      <td>0.002227</td>\n",
       "      <td>0.003002</td>\n",
       "      <td>0.002966</td>\n",
       "      <td>0.002971</td>\n",
       "      <td>0.003946</td>\n",
       "      <td>0.004191</td>\n",
       "      <td>0.003665</td>\n",
       "      <td>0.002129</td>\n",
       "      <td>0.036761</td>\n",
       "      <td>0.51265</td>\n",
       "    </tr>\n",
       "  </tbody>\n",
       "</table>\n",
       "<p>5 rows × 366 columns</p>\n",
       "</div>"
      ],
      "text/plain": [
       "             0         1         2         3         4         5         6  \\\n",
       "id                                                                           \n",
       "7494  0.023802  0.003809  0.004243  0.003913    0.0043  0.003394   0.00278   \n",
       "7495  0.017607  0.003168  0.003743  0.003464  0.003417  0.002684  0.002158   \n",
       "7496  0.005337  0.000664  0.000644  0.000503  0.001512  0.000761  0.000658   \n",
       "7497  0.008659  0.001258  0.001124  0.000992   0.00178  0.001225  0.001273   \n",
       "7498  0.016859  0.002041  0.002026  0.001657  0.002959  0.001901  0.001813   \n",
       "\n",
       "             7         8         9  ...       356       357       358  \\\n",
       "id                                  ...                                 \n",
       "7494  0.002593  0.002162  0.002165  ...  0.002259  0.002566  0.002912   \n",
       "7495  0.001847  0.001551  0.001501  ...  0.002026  0.002296  0.002658   \n",
       "7496  0.000741  0.000683  0.001314  ...  0.001137  0.001626  0.001625   \n",
       "7497  0.001273   0.00127  0.002269  ...  0.002899  0.004435  0.004235   \n",
       "7498  0.001887  0.001735  0.002089  ...  0.002227  0.003002  0.002966   \n",
       "\n",
       "           359       360       361       362       363       364       365  \n",
       "id                                                                          \n",
       "7494  0.003362  0.004086  0.005419  0.005866  0.004181  0.032316  0.771036  \n",
       "7495  0.003028  0.003645  0.004204   0.00416  0.002864  0.035036  0.713396  \n",
       "7496  0.001552  0.001958  0.002175  0.002002  0.001152  0.022767  0.372752  \n",
       "7497  0.003646   0.00433  0.004081  0.003478  0.002205  0.072441  0.412837  \n",
       "7498  0.002971  0.003946  0.004191  0.003665  0.002129  0.036761   0.51265  \n",
       "\n",
       "[5 rows x 366 columns]"
      ]
     },
     "execution_count": 135,
     "metadata": {},
     "output_type": "execute_result"
    }
   ],
   "source": [
    "test_lbp = load_feature(pred_truth.index, extract_dir.joinpath(f\"test-{LBP}.csv\"), test_dir.joinpath(LBP), Load.lbp)\n",
    "assert (test_lbp.index == pred_truth.index).all()\n",
    "test_lbp.head()"
   ]
  },
  {
   "cell_type": "markdown",
   "id": "familiar-problem",
   "metadata": {},
   "source": [
    "Combine these features."
   ]
  },
  {
   "cell_type": "code",
   "execution_count": 136,
   "id": "advised-legend",
   "metadata": {},
   "outputs": [
    {
     "data": {
      "text/plain": [
       "(2000, 6176)"
      ]
     },
     "execution_count": 136,
     "metadata": {},
     "output_type": "execute_result"
    }
   ],
   "source": [
    "test_c3d_hmp = pd.concat([test_c3d, test_hmp], axis=\"columns\")\n",
    "test_c3d_hmp.shape"
   ]
  },
  {
   "cell_type": "code",
   "execution_count": 137,
   "id": "broken-sheep",
   "metadata": {},
   "outputs": [
    {
     "data": {
      "text/plain": [
       "(2000, 467)"
      ]
     },
     "execution_count": 137,
     "metadata": {},
     "output_type": "execute_result"
    }
   ],
   "source": [
    "test_c3d_lbp = pd.concat([test_c3d, test_lbp], axis=\"columns\")\n",
    "test_c3d_lbp.shape"
   ]
  },
  {
   "cell_type": "markdown",
   "id": "floppy-fever",
   "metadata": {},
   "source": [
    "### Prediction"
   ]
  },
  {
   "cell_type": "code",
   "execution_count": 138,
   "id": "focal-assistant",
   "metadata": {},
   "outputs": [
    {
     "data": {
      "text/html": [
       "<div>\n",
       "<style scoped>\n",
       "    .dataframe tbody tr th:only-of-type {\n",
       "        vertical-align: middle;\n",
       "    }\n",
       "\n",
       "    .dataframe tbody tr th {\n",
       "        vertical-align: top;\n",
       "    }\n",
       "\n",
       "    .dataframe thead th {\n",
       "        text-align: right;\n",
       "    }\n",
       "</style>\n",
       "<table border=\"1\" class=\"dataframe\">\n",
       "  <thead>\n",
       "    <tr style=\"text-align: right;\">\n",
       "      <th></th>\n",
       "      <th>short-term_memorability</th>\n",
       "      <th>nb_short-term_annotations</th>\n",
       "      <th>long-term_memorability</th>\n",
       "      <th>nb_long-term_annotations</th>\n",
       "    </tr>\n",
       "    <tr>\n",
       "      <th>id</th>\n",
       "      <th></th>\n",
       "      <th></th>\n",
       "      <th></th>\n",
       "      <th></th>\n",
       "    </tr>\n",
       "  </thead>\n",
       "  <tbody>\n",
       "    <tr>\n",
       "      <th>7494</th>\n",
       "      <td>0.85010</td>\n",
       "      <td>33</td>\n",
       "      <td>0.78716</td>\n",
       "      <td>12</td>\n",
       "    </tr>\n",
       "    <tr>\n",
       "      <th>7495</th>\n",
       "      <td>0.82900</td>\n",
       "      <td>34</td>\n",
       "      <td>0.72982</td>\n",
       "      <td>10</td>\n",
       "    </tr>\n",
       "    <tr>\n",
       "      <th>7496</th>\n",
       "      <td>0.87599</td>\n",
       "      <td>32</td>\n",
       "      <td>0.74557</td>\n",
       "      <td>13</td>\n",
       "    </tr>\n",
       "    <tr>\n",
       "      <th>7497</th>\n",
       "      <td>0.89205</td>\n",
       "      <td>33</td>\n",
       "      <td>0.80197</td>\n",
       "      <td>10</td>\n",
       "    </tr>\n",
       "    <tr>\n",
       "      <th>7498</th>\n",
       "      <td>0.81791</td>\n",
       "      <td>33</td>\n",
       "      <td>0.75753</td>\n",
       "      <td>10</td>\n",
       "    </tr>\n",
       "  </tbody>\n",
       "</table>\n",
       "</div>"
      ],
      "text/plain": [
       "      short-term_memorability  nb_short-term_annotations  \\\n",
       "id                                                         \n",
       "7494                  0.85010                         33   \n",
       "7495                  0.82900                         34   \n",
       "7496                  0.87599                         32   \n",
       "7497                  0.89205                         33   \n",
       "7498                  0.81791                         33   \n",
       "\n",
       "      long-term_memorability  nb_long-term_annotations  \n",
       "id                                                      \n",
       "7494                 0.78716                        12  \n",
       "7495                 0.72982                        10  \n",
       "7496                 0.74557                        13  \n",
       "7497                 0.80197                        10  \n",
       "7498                 0.75753                        10  "
      ]
     },
     "execution_count": 138,
     "metadata": {},
     "output_type": "execute_result"
    }
   ],
   "source": [
    "pred_truth[\"short-term_memorability\"] = short_regr.predict(test_c3d_hmp)\n",
    "pred_truth[\"long-term_memorability\"] = long_regr.predict(test_c3d_lbp)\n",
    "\n",
    "pred_truth.head()"
   ]
  },
  {
   "cell_type": "code",
   "execution_count": 139,
   "id": "confirmed-destruction",
   "metadata": {},
   "outputs": [
    {
     "data": {
      "text/html": [
       "<div>\n",
       "<style scoped>\n",
       "    .dataframe tbody tr th:only-of-type {\n",
       "        vertical-align: middle;\n",
       "    }\n",
       "\n",
       "    .dataframe tbody tr th {\n",
       "        vertical-align: top;\n",
       "    }\n",
       "\n",
       "    .dataframe thead th {\n",
       "        text-align: right;\n",
       "    }\n",
       "</style>\n",
       "<table border=\"1\" class=\"dataframe\">\n",
       "  <thead>\n",
       "    <tr style=\"text-align: right;\">\n",
       "      <th></th>\n",
       "      <th>short-term_memorability</th>\n",
       "      <th>long-term_memorability</th>\n",
       "    </tr>\n",
       "  </thead>\n",
       "  <tbody>\n",
       "    <tr>\n",
       "      <th>count</th>\n",
       "      <td>2000.000000</td>\n",
       "      <td>2000.000000</td>\n",
       "    </tr>\n",
       "    <tr>\n",
       "      <th>mean</th>\n",
       "      <td>0.857849</td>\n",
       "      <td>0.773611</td>\n",
       "    </tr>\n",
       "    <tr>\n",
       "      <th>std</th>\n",
       "      <td>0.028915</td>\n",
       "      <td>0.034735</td>\n",
       "    </tr>\n",
       "    <tr>\n",
       "      <th>min</th>\n",
       "      <td>0.735380</td>\n",
       "      <td>0.566770</td>\n",
       "    </tr>\n",
       "    <tr>\n",
       "      <th>25%</th>\n",
       "      <td>0.836080</td>\n",
       "      <td>0.750960</td>\n",
       "    </tr>\n",
       "    <tr>\n",
       "      <th>50%</th>\n",
       "      <td>0.861245</td>\n",
       "      <td>0.775630</td>\n",
       "    </tr>\n",
       "    <tr>\n",
       "      <th>75%</th>\n",
       "      <td>0.881200</td>\n",
       "      <td>0.800175</td>\n",
       "    </tr>\n",
       "    <tr>\n",
       "      <th>max</th>\n",
       "      <td>0.920980</td>\n",
       "      <td>0.858430</td>\n",
       "    </tr>\n",
       "  </tbody>\n",
       "</table>\n",
       "</div>"
      ],
      "text/plain": [
       "       short-term_memorability  long-term_memorability\n",
       "count              2000.000000             2000.000000\n",
       "mean                  0.857849                0.773611\n",
       "std                   0.028915                0.034735\n",
       "min                   0.735380                0.566770\n",
       "25%                   0.836080                0.750960\n",
       "50%                   0.861245                0.775630\n",
       "75%                   0.881200                0.800175\n",
       "max                   0.920980                0.858430"
      ]
     },
     "execution_count": 139,
     "metadata": {},
     "output_type": "execute_result"
    }
   ],
   "source": [
    "pred_truth[[\"short-term_memorability\", \"long-term_memorability\"]].describe()"
   ]
  },
  {
   "cell_type": "code",
   "execution_count": 140,
   "id": "opening-prophet",
   "metadata": {},
   "outputs": [
    {
     "data": {
      "text/plain": [
       "<AxesSubplot:title={'center':'The Density of Memorability for the Test Set'}, ylabel='Density'>"
      ]
     },
     "execution_count": 140,
     "metadata": {},
     "output_type": "execute_result"
    },
    {
     "data": {
      "image/png": "[encoded data removed]",
      "text/plain": [
       "<Figure size 432x288 with 1 Axes>"
      ]
     },
     "metadata": {
      "needs_background": "light"
     },
     "output_type": "display_data"
    }
   ],
   "source": [
    "pred_truth[[\"short-term_memorability\", \"long-term_memorability\"]].plot.kde(title=\"The Density of Memorability for the Test Set\")"
   ]
  },
  {
   "cell_type": "markdown",
   "id": "criminal-motorcycle",
   "metadata": {},
   "source": [
    "Save the results to a `.csv` file."
   ]
  },
  {
   "cell_type": "code",
   "execution_count": 141,
   "id": "vertical-night",
   "metadata": {},
   "outputs": [],
   "source": [
    "pred_truth.index.names = [\"video\"]\n",
    "pred_truth.to_csv(test_dir.joinpath(\"ground-truth.csv\"))"
   ]
  }
 ],
 "metadata": {
  "kernelspec": {
   "display_name": "Python 3 (ipykernel)",
   "language": "python",
   "name": "python3"
  },
  "language_info": {
   "codemirror_mode": {
    "name": "ipython",
    "version": 3
   },
   "file_extension": ".py",
   "mimetype": "text/x-python",
   "name": "python",
   "nbconvert_exporter": "python",
   "pygments_lexer": "ipython3",
   "version": "3.9.8"
  },
  "toc-autonumbering": false,
  "toc-showcode": false,
  "toc-showmarkdowntxt": false,
  "toc-showtags": false
 },
 "nbformat": 4,
 "nbformat_minor": 5
}
